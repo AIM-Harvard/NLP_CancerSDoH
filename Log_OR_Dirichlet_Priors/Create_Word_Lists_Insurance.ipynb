{
 "cells": [
  {
   "cell_type": "markdown",
   "metadata": {},
   "source": [
    "## File description:\n",
    "\n",
    "This file creates the following lists and dictionaries:\n",
    "\n",
    "- Lists of all medical words used in the notes for each insurance type, excluding stop words, punctuation, words containing digits, 1-letter words, and person names\n",
    "\n",
    "- Lists of all nonmedical words used in the notes for each insurance type, excluding stop words, punctuation, words containing digits, 1-letter words, and person names\n",
    "\n",
    "- Lists of all (medical and nonmedical combined) words used in the notes for each insurance type, excluding stop words, punctuation, words containing digits, 1-letter words, and person names\n"
   ]
  },
  {
   "cell_type": "code",
   "execution_count": null,
   "metadata": {
    "scrolled": true
   },
   "outputs": [],
   "source": [
    "### Load required packages ###\n",
    "from collections import Counter, OrderedDict #This is used to count frequencies of words in a list\n",
    "import pickle #Use this to save dictionaries and lists\n",
    "import pandas as pd\n",
    "\n",
    "import spacy  #This is needed to break sentences into tokens\n",
    "spacy.prefer_gpu()\n",
    "import en_core_web_sm\n",
    "en_core_web_sm.load()\n",
    "from spacy.lang.en import English  #All inputted string data will be in English\n",
    "from nltk.tokenize import word_tokenize"
   ]
  },
  {
   "cell_type": "markdown",
   "metadata": {},
   "source": [
    "## Load data:"
   ]
  },
  {
   "cell_type": "code",
   "execution_count": null,
   "metadata": {},
   "outputs": [],
   "source": [
    "df = pd.read_csv(<Path to dataset>)"
   ]
  },
  {
   "cell_type": "markdown",
   "metadata": {},
   "source": [
    "## Define a function which creates lists of all words that appear in a column of text"
   ]
  },
  {
   "cell_type": "code",
   "execution_count": null,
   "metadata": {},
   "outputs": [],
   "source": [
    "def word_occurrences(data, text_column, value_column, value):\n",
    "    \"\"\"\n",
    "    data: pandas dataframe\n",
    "    text_column: column of notes from which to extract words\n",
    "    value_column: column of patient characteristics that will be used to subset the data (such as race, gender, and insurance columns)\n",
    "    value: extract words only from the rows of text_column for which the value_column is equal to value\n",
    "    returns: list of all words that occur in text_column for the specified rows\n",
    "    \"\"\"\n",
    "    if value != \"all\" and value != \"All\":\n",
    "        allwords = []\n",
    "        for elem in data[text_column][data[value_column]== value]:\n",
    "            if type(elem) == str:\n",
    "                doc = nlp(elem)\n",
    "                for token in doc:\n",
    "                    if not \" \" in token.text and not token.text in {\"`\", \"'s'\", \"n't\"} and len(token.text) > 1:\n",
    "                        allwords.append(token.text) #Add the (lowercase) lemma of each word to the list of all words\n",
    "    else:\n",
    "        allwords = []\n",
    "        for elem in data[text_column]:\n",
    "            if type(elem) == str:\n",
    "                doc = nlp(elem)\n",
    "                for token in doc:\n",
    "                    if not \" \" in token.text and not token.text in {\"`\", \"'s'\", \"n't\"} and len(token.text) > 1:\n",
    "                        allwords.append(token.text) #Add the (lowercase) lemma of each word to the list of all words\n",
    "    return(allwords)"
   ]
  },
  {
   "cell_type": "markdown",
   "metadata": {},
   "source": [
    "# Make medical word lists"
   ]
  },
  {
   "cell_type": "markdown",
   "metadata": {},
   "source": [
    "### Save all MEDICAL words for low-income insurance patients to lists, then save the lists to pickle files"
   ]
  },
  {
   "cell_type": "code",
   "execution_count": null,
   "metadata": {},
   "outputs": [],
   "source": [
    "medical_words_lowincome = word_occurrences(df, \"text_sections_Cleaned1_medical\", \"low_income_insurance\", 1)"
   ]
  },
  {
   "cell_type": "code",
   "execution_count": null,
   "metadata": {},
   "outputs": [],
   "source": [
    "f = open('medical_words_lowincome.pkl', \"wb\")\n",
    "pickle.dump(medical_words_lowincome, f)\n",
    "f.close()"
   ]
  },
  {
   "cell_type": "markdown",
   "metadata": {},
   "source": [
    "### Save all MEDICAL words for non-low-income patients to lists, then save the lists to pickle files"
   ]
  },
  {
   "cell_type": "code",
   "execution_count": null,
   "metadata": {},
   "outputs": [],
   "source": [
    "medical_words_nonlowincome = word_occurrences(df, \"text_sections_Cleaned1_medical\", \"low_income_insurance\", 0)"
   ]
  },
  {
   "cell_type": "code",
   "execution_count": null,
   "metadata": {},
   "outputs": [],
   "source": [
    "f = open('medical_words_nonlowincome.pkl', \"wb\")\n",
    "pickle.dump(medical_words_nonlowincome, f)\n",
    "f.close()"
   ]
  },
  {
   "cell_type": "markdown",
   "metadata": {},
   "source": [
    "# Make nonmedical word lists"
   ]
  },
  {
   "cell_type": "markdown",
   "metadata": {},
   "source": [
    "### Save all NONMEDICAL words for low-income insurance patients to lists, then save the lists to pickle files"
   ]
  },
  {
   "cell_type": "code",
   "execution_count": null,
   "metadata": {},
   "outputs": [],
   "source": [
    "nonmedical_words_lowincome = word_occurrences(df, \"text_sections_Cleaned1_nonmedical\", \"low_income_insurance\", 1)"
   ]
  },
  {
   "cell_type": "code",
   "execution_count": null,
   "metadata": {},
   "outputs": [],
   "source": [
    "f = open('nonmedical_words_lowincome.pkl', \"wb\")\n",
    "pickle.dump(nonmedical_words_lowincome, f)\n",
    "f.close()"
   ]
  },
  {
   "cell_type": "markdown",
   "metadata": {},
   "source": [
    "### Save all MEDICAL words for non-low-income patients to lists, then save the lists to pickle files"
   ]
  },
  {
   "cell_type": "code",
   "execution_count": null,
   "metadata": {},
   "outputs": [],
   "source": [
    "nonmedical_words_nonlowincome = word_occurrences(df, \"text_sections_Cleaned1_nonmedical\", \"low_income_insurance\", 0)"
   ]
  },
  {
   "cell_type": "code",
   "execution_count": null,
   "metadata": {},
   "outputs": [],
   "source": [
    "f = open('nonmedical_words_nonlowincome.pkl', \"wb\")\n",
    "pickle.dump(nonmedical_words_nonlowincome, f)\n",
    "f.close()"
   ]
  },
  {
   "cell_type": "markdown",
   "metadata": {},
   "source": [
    "## Make all word lists (medical + nonmedical combined)"
   ]
  },
  {
   "cell_type": "code",
   "execution_count": null,
   "metadata": {},
   "outputs": [],
   "source": [
    "all_words_lowincome = word_occurrences(df, \"text_sections_Cleaned1\", \"low_income_insurance\", \"all\")"
   ]
  },
  {
   "cell_type": "code",
   "execution_count": null,
   "metadata": {},
   "outputs": [],
   "source": [
    "f = open('all_words_lowincome.pkl', \"wb\")\n",
    "pickle.dump(all_words_lowincome, f)\n",
    "f.close()"
   ]
  },
  {
   "cell_type": "code",
   "execution_count": null,
   "metadata": {},
   "outputs": [],
   "source": [
    "all_words_nonlowincome = word_occurrences(df, \"text_sections_Cleaned1\", \"low_income_insurance\", \"all\")"
   ]
  },
  {
   "cell_type": "code",
   "execution_count": null,
   "metadata": {},
   "outputs": [],
   "source": [
    "f = open('all_words_nonlowincome.pkl', \"wb\")\n",
    "pickle.dump(all_words_nonlowincome, f)\n",
    "f.close()"
   ]
  }
 ],
 "metadata": {
  "kernelspec": {
   "display_name": "Python 3 (ipykernel)",
   "language": "python",
   "name": "python3"
  },
  "language_info": {
   "codemirror_mode": {
    "name": "ipython",
    "version": 3
   },
   "file_extension": ".py",
   "mimetype": "text/x-python",
   "name": "python",
   "nbconvert_exporter": "python",
   "pygments_lexer": "ipython3",
   "version": "3.8.12"
  }
 },
 "nbformat": 4,
 "nbformat_minor": 4
}
