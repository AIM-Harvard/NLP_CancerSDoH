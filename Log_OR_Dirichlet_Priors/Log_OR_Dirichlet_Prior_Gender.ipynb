{
 "cells": [
  {
   "cell_type": "markdown",
   "metadata": {},
   "source": [
    "# File description:\n",
    "\n",
    "This file computes the log odds ratios with Dirichlet priors comparing word frequency across patient gender. Gender in this dataset is limited to male/female. Female patient notes are compared to male patient notes.\n",
    "\n",
    "The log odds ratios are computed using lists of all words used in the notes for patients of each gender. These lists are computed using the Create_Word_Lists file"
   ]
  },
  {
   "cell_type": "code",
   "execution_count": null,
   "metadata": {
    "scrolled": true
   },
   "outputs": [],
   "source": [
    "### Load required packages ###\n",
    "import pickle\n",
    "import csv\n",
    "import argparse\n",
    "import logging\n",
    "import math\n",
    "import numpy as np\n",
    "import operator\n",
    "from typing import Iterator\n",
    "from collections import Counter\n",
    "from collections import Counter, OrderedDict"
   ]
  },
  {
   "cell_type": "markdown",
   "metadata": {},
   "source": [
    "## Load lists of words from pickle files"
   ]
  },
  {
   "cell_type": "markdown",
   "metadata": {},
   "source": [
    "### Load lists of MEDICAL words"
   ]
  },
  {
   "cell_type": "code",
   "execution_count": null,
   "metadata": {},
   "outputs": [],
   "source": [
    "# Load BROADBAND lists\n",
    "medical_words_Female_broadband = pickle.load(open('Path_to_list', 'rb'))\n",
    "medical_words_Male_broadband = pickle.load(open('Path_to_list', 'rb'))"
   ]
  },
  {
   "cell_type": "code",
   "execution_count": null,
   "metadata": {},
   "outputs": [],
   "source": [
    "# Load Thoracic lists\n",
    "medical_words_Female_thor = pickle.load(open('Path_to_list', 'rb'))\n",
    "medical_words_Male_thor = pickle.load(open('Path_to_list', 'rb'))"
   ]
  },
  {
   "cell_type": "code",
   "execution_count": null,
   "metadata": {},
   "outputs": [],
   "source": [
    "# Combine the lists of medical words for each gender\n",
    "medical_Female = medical_words_Female_broadband + medical_words_Female_thor\n",
    "medical_Male = medical_words_Male_broadband + medical_words_Male_thor"
   ]
  },
  {
   "cell_type": "markdown",
   "metadata": {},
   "source": [
    "### Load lists of NON-MEDICAL words"
   ]
  },
  {
   "cell_type": "code",
   "execution_count": null,
   "metadata": {},
   "outputs": [],
   "source": [
    "# Load BROADBAND lists\n",
    "nonmedical_words_Female_broadband = pickle.load(open('Path_to_list', 'rb'))\n",
    "nonmedical_words_Male_broadband = pickle.load(open('Path_to_list', 'rb'))"
   ]
  },
  {
   "cell_type": "code",
   "execution_count": null,
   "metadata": {},
   "outputs": [],
   "source": [
    "# Load Thoracic lists\n",
    "nonmedical_words_Female_thor = pickle.load(open('Path_to_list', 'rb'))\n",
    "nonmedical_words_Male_thor = pickle.load(open('Path_to_list', 'rb'))"
   ]
  },
  {
   "cell_type": "code",
   "execution_count": null,
   "metadata": {},
   "outputs": [],
   "source": [
    "# Combine the lists of medical words for each gender\n",
    "nonmedical_Female = nonmedical_words_Female_broadband + nonmedical_words_Female_thor\n",
    "nonmedical_Male = nonmedical_words_Male_broadband + nonmedical_words_Male_thor"
   ]
  },
  {
   "cell_type": "markdown",
   "metadata": {},
   "source": [
    "## Run log-odds ratio with Dirichlet prior"
   ]
  },
  {
   "cell_type": "code",
   "execution_count": null,
   "metadata": {},
   "outputs": [],
   "source": [
    "### The following code computes the Log Odds Ratio Informative Dirichlet Prior ###\n",
    "def _size(corpus: dict) -> int:              #This counts the total number of words (including all repetitions)    \n",
    "    return sum(corpus.values())"
   ]
  },
  {
   "cell_type": "code",
   "execution_count": null,
   "metadata": {},
   "outputs": [],
   "source": [
    "def _log_odds(                              #Computes the log odds (with a dirichlet prior) of a given word \n",
    "    word: str,\n",
    "    c1: dict,\n",
    "    c2: dict,\n",
    "    bg: dict,\n",
    "    size1: int,\n",
    "    size2: int,\n",
    "    size3: int,\n",
    ") -> float:\n",
    "\n",
    "    if word in set(c1.keys()):\n",
    "        numerator_1 = c1[word] + bg[word]\n",
    "    else:\n",
    "        numerator_1 = bg[word]\n",
    "    \n",
    "    if word in set(c2.keys()):\n",
    "        numerator_2 = c2[word] + bg[word]\n",
    "    else:\n",
    "        numerator_2 = bg[word]\n",
    "        \n",
    "    denom_1 = size1 + size3 - numerator_1\n",
    "    denom_2 = size2 + size3 - numerator_2\n",
    "    \n",
    "    raw_logodds = math.log(numerator_1 / denom_1) - math.log(\n",
    "        numerator_2 / denom_2\n",
    "    )\n",
    "\n",
    "    variance = (1 / numerator_1) + (1 / numerator_2)\n",
    "    return raw_logodds \n",
    "\n"
   ]
  },
  {
   "cell_type": "code",
   "execution_count": null,
   "metadata": {},
   "outputs": [],
   "source": [
    "def _z_score(                              \n",
    "    word: str,\n",
    "    c1: dict,\n",
    "    c2: dict,\n",
    "    bg: dict,\n",
    "    size1: int,\n",
    "    size2: int,\n",
    "    size3: int,\n",
    ") -> float:\n",
    "\n",
    "    if word in set(c1.keys()):\n",
    "        numerator_1 = c1[word] + bg[word]\n",
    "    else:\n",
    "        numerator_1 = bg[word]\n",
    "    \n",
    "    if word in set(c2.keys()):\n",
    "        numerator_2 = c2[word] + bg[word]\n",
    "    else:\n",
    "        numerator_2 = bg[word]\n",
    "        \n",
    "    denom_1 = size1 + size3 - numerator_1\n",
    "    denom_2 = size2 + size3 - numerator_2\n",
    "    \n",
    "    raw_logodds = math.log(numerator_1 / denom_1) - math.log(\n",
    "        numerator_2 / denom_2\n",
    "    )\n",
    "\n",
    "    variance = (1 / numerator_1) + (1 / numerator_2)\n",
    "    return raw_logodds / math.sqrt(variance)\n",
    "\n"
   ]
  },
  {
   "cell_type": "code",
   "execution_count": null,
   "metadata": {},
   "outputs": [],
   "source": [
    "def _log_odds_CI(                              \n",
    "    word: str,\n",
    "    c1: dict,\n",
    "    c2: dict,\n",
    "    bg: dict,\n",
    "    size1: int,\n",
    "    size2: int,\n",
    "    size3: int,\n",
    ") -> float:\n",
    "\n",
    "    if word in set(c1.keys()):\n",
    "        numerator_1 = c1[word] + bg[word]\n",
    "    else:\n",
    "        numerator_1 = bg[word]\n",
    "    \n",
    "    if word in set(c2.keys()):\n",
    "        numerator_2 = c2[word] + bg[word]\n",
    "    else:\n",
    "        numerator_2 = bg[word]\n",
    "        \n",
    "    denom_1 = size1 + size3 - numerator_1\n",
    "    denom_2 = size2 + size3 - numerator_2\n",
    "    \n",
    "    raw_logodds = math.log(numerator_1 / denom_1) - math.log(\n",
    "        numerator_2 / denom_2\n",
    "    )\n",
    "\n",
    "    variance = (1 / numerator_1) + (1 / numerator_2)\n",
    "    return [round(raw_logodds - 1.96*math.sqrt(variance),3), round(raw_logodds + 1.96*math.sqrt(variance),3)]"
   ]
  },
  {
   "cell_type": "markdown",
   "metadata": {},
   "source": [
    "# 0: Create background corpus"
   ]
  },
  {
   "cell_type": "markdown",
   "metadata": {},
   "source": [
    "The dirichlet prior will shrink odds ratios toward their \"global values\" from the background corpus. Therefore, it's important to ensure that each gender is adequately represented in the background corpus. We will use all medical and nonmedical words from both genders as a background corpus. \n",
    "\n",
    "See Monroe paper: http://languagelog.ldc.upenn.edu/myl/Monroe.pdf"
   ]
  },
  {
   "cell_type": "markdown",
   "metadata": {},
   "source": [
    "### New oversampling scheme for background corpus\n",
    "\n",
    "Oversample the nonmedical words in the female group to match the number of nonmedical words in the male group.\n",
    "\n",
    "Do the same for all medical words"
   ]
  },
  {
   "cell_type": "code",
   "execution_count": null,
   "metadata": {},
   "outputs": [],
   "source": [
    "# Import required packages\n",
    "from random import choices\n",
    "from collections import Counter, OrderedDict\n",
    "\n",
    "nonmedical_words_list = choices(nonmedical_Female , k = len(nonmedical_Male)) + nonmedical_Male\n",
    "medical_words_list = choices(medical_Female , k = len(medical_Male)) + medical_Male\n",
    "c_bg = dict(sorted(Counter(nonmedical_words_list + medical_words_list).items(), key=lambda x: x[1], reverse=True))"
   ]
  },
  {
   "cell_type": "markdown",
   "metadata": {},
   "source": [
    "# **1a:** Compute log-odds ratios for medical and non-medical words combined"
   ]
  },
  {
   "cell_type": "markdown",
   "metadata": {},
   "source": [
    "### Compare Female vs. Male\n",
    "A ratio > 1 means the odds of the word occurring for a Female patient is greater than the odds of the word occurring for a Male patient."
   ]
  },
  {
   "cell_type": "code",
   "execution_count": null,
   "metadata": {},
   "outputs": [],
   "source": [
    "c_1 = dict(sorted(Counter(medical_Female + nonmedical_Female).items(), key=lambda x: x[1], reverse=True))\n",
    "c_2 = dict(sorted(Counter(medical_Male + nonmedical_Male).items(), key=lambda x: x[1], reverse=True))\n",
    "\n",
    "size1 = _size(c_1)\n",
    "size2 = _size(c_2)\n",
    "size3 = _size(c_bg)\n",
    "\n",
    "supported_tokens = set(c_1.keys())\n",
    "supported_tokens &= c_2.keys()\n",
    "supported_tokens &= c_bg.keys()"
   ]
  },
  {
   "cell_type": "code",
   "execution_count": null,
   "metadata": {},
   "outputs": [],
   "source": [
    "ratios = []\n",
    "for tok in supported_tokens:\n",
    "    rat = _log_odds(tok, c_1, c_2, c_bg, size1, size2, size3)\n",
    "    ratios.append((tok, rat))\n",
    "\n",
    "ratios.sort(key=operator.itemgetter(1), reverse=True)"
   ]
  },
  {
   "cell_type": "code",
   "execution_count": null,
   "metadata": {},
   "outputs": [],
   "source": [
    "# The following words had higher odds of occurring for Female patients\n",
    "ratios[:50]"
   ]
  },
  {
   "cell_type": "code",
   "execution_count": null,
   "metadata": {},
   "outputs": [],
   "source": [
    "# The following words had higher odds of occurring for Male patients\n",
    "ratios[len(ratios)-50: len(ratios)]"
   ]
  },
  {
   "cell_type": "code",
   "execution_count": null,
   "metadata": {},
   "outputs": [],
   "source": [
    "with open('<Path to save this csv>', 'w') as f:\n",
    "    writer = csv.writer(f)\n",
    "    for val in ratios:\n",
    "        writer.writerow([val])"
   ]
  },
  {
   "cell_type": "markdown",
   "metadata": {},
   "source": [
    "# **1b:** Compute z-scores for medical and non-medical words combined"
   ]
  },
  {
   "cell_type": "markdown",
   "metadata": {},
   "source": [
    "### Compare Female vs. Male\n",
    "Account for uncertainty about the log odds ratios by using the z-score (logodds/standarddev(logodds)), per Monroe et al.: http://languagelog.ldc.upenn.edu/myl/Monroe.pdf\n",
    "\n",
    "Compare the z-score to some threshold (commonly, 1.96). If |z-score| > 1.96, the word is significant."
   ]
  },
  {
   "cell_type": "code",
   "execution_count": null,
   "metadata": {},
   "outputs": [],
   "source": [
    "c_1 = dict(sorted(Counter(medical_Female + nonmedical_Female).items(), key=lambda x: x[1], reverse=True))\n",
    "c_2 = dict(sorted(Counter(medical_Male + nonmedical_Male).items(), key=lambda x: x[1], reverse=True))\n",
    "\n",
    "size1 = _size(c_1)\n",
    "size2 = _size(c_2)\n",
    "size3 = _size(c_bg)\n",
    "\n",
    "supported_tokens = set(c_1.keys())\n",
    "supported_tokens &= c_2.keys()\n",
    "supported_tokens &= c_bg.keys()"
   ]
  },
  {
   "cell_type": "code",
   "execution_count": null,
   "metadata": {},
   "outputs": [],
   "source": [
    "scores = []\n",
    "for tok in supported_tokens:\n",
    "    score = _z_score(tok, c_1, c_2, c_bg, size1, size2, size3)\n",
    "    scores.append((tok, score))\n",
    "\n",
    "scores.sort(key=operator.itemgetter(1), reverse=True)"
   ]
  },
  {
   "cell_type": "code",
   "execution_count": null,
   "metadata": {},
   "outputs": [],
   "source": [
    "# The following words had higher odds of occurring for Female patients\n",
    "scores[:50]"
   ]
  },
  {
   "cell_type": "code",
   "execution_count": null,
   "metadata": {},
   "outputs": [],
   "source": [
    "# The following words had higher odds of occurring for Male patients\n",
    "scores[len(scores)-50: len(scores)]"
   ]
  },
  {
   "cell_type": "code",
   "execution_count": null,
   "metadata": {},
   "outputs": [],
   "source": [
    "with open('<Path to save this csv>', 'w') as f:\n",
    "    writer = csv.writer(f)\n",
    "    for val in ratios:\n",
    "        writer.writerow([val])"
   ]
  },
  {
   "cell_type": "markdown",
   "metadata": {},
   "source": [
    "# 1c: Compute the 95% confidence intervals for the log odds ratios for medical and nonmedical words combined"
   ]
  },
  {
   "cell_type": "markdown",
   "metadata": {},
   "source": [
    "### Female vs Male"
   ]
  },
  {
   "cell_type": "code",
   "execution_count": null,
   "metadata": {},
   "outputs": [],
   "source": [
    "c_1 = dict(sorted(Counter(medical_Female + nonmedical_Female).items(), key=lambda x: x[1], reverse=True))\n",
    "c_2 = dict(sorted(Counter(medical_Male + nonmedical_Male).items(), key=lambda x: x[1], reverse=True))\n",
    "\n",
    "size1 = _size(c_1)\n",
    "size2 = _size(c_2)\n",
    "size3 = _size(c_bg)\n",
    "\n",
    "supported_tokens = set(c_1.keys())\n",
    "supported_tokens &= c_2.keys()\n",
    "supported_tokens &= c_bg.keys()"
   ]
  },
  {
   "cell_type": "code",
   "execution_count": null,
   "metadata": {},
   "outputs": [],
   "source": [
    "CIs = []\n",
    "for tok in supported_tokens:\n",
    "    CI = _log_odds_CI(tok, c_1, c_2, c_bg, size1, size2, size3)\n",
    "    CIs.append((tok, CI))\n",
    "\n",
    "\n",
    "#Sort to match the ordering of the z-scores above\n",
    "CIs_sorted = []\n",
    "CIs = dict(CIs)\n",
    "for tok in dict(scores).keys():\n",
    "    CIs_sorted.append((tok,CIs.get(tok)))\n",
    "\n",
    "    "
   ]
  },
  {
   "cell_type": "code",
   "execution_count": null,
   "metadata": {},
   "outputs": [],
   "source": [
    "# The following had higher odds of occurring for female patients\n",
    "CIs_sorted[:50]"
   ]
  },
  {
   "cell_type": "code",
   "execution_count": null,
   "metadata": {},
   "outputs": [],
   "source": [
    "# the following had higher odds of occurring for male patients\n",
    "CIs_sorted[len(CIs_sorted)-50: len(CIs_sorted)]"
   ]
  },
  {
   "cell_type": "code",
   "execution_count": null,
   "metadata": {},
   "outputs": [],
   "source": [
    "with open('<Path to save this csv>', 'w') as f:\n",
    "    writer = csv.writer(f)\n",
    "    for val in ratios:\n",
    "        writer.writerow([val])"
   ]
  },
  {
   "cell_type": "markdown",
   "metadata": {},
   "source": [
    "# **2a:** Compute log OR for medical words"
   ]
  },
  {
   "cell_type": "markdown",
   "metadata": {},
   "source": [
    "### Re-define the background corpus to include only medical words"
   ]
  },
  {
   "cell_type": "code",
   "execution_count": null,
   "metadata": {},
   "outputs": [],
   "source": [
    "c_bg = dict(sorted(Counter(medical_words_list).items(), key=lambda x: x[1], reverse=True))"
   ]
  },
  {
   "cell_type": "markdown",
   "metadata": {},
   "source": [
    "### Compare for Female vs. Male"
   ]
  },
  {
   "cell_type": "code",
   "execution_count": null,
   "metadata": {
    "scrolled": false
   },
   "outputs": [],
   "source": [
    "c_1 = dict(sorted(Counter(medical_Female).items(), key=lambda x: x[1], reverse=True))\n",
    "c_2 = dict(sorted(Counter(medical_Male).items(), key=lambda x: x[1], reverse=True))\n",
    "\n",
    "size1 = _size(c_1)\n",
    "size2 = _size(c_2)\n",
    "\n",
    "\n",
    "supported_tokens = set(list(c_1.keys()) +list(c_2.keys()))\n",
    "#supported_tokens &= c_2.keys()\n",
    "#supported_tokens &= c_bg.keys()\n",
    "\n",
    "ratios = []\n",
    "\n",
    "for tok in supported_tokens:\n",
    "    try:\n",
    "        rat = _log_odds(tok, c_1, c_2, c_bg, size1, size2, size3)\n",
    "        ratios.append((tok, rat))\n",
    "    except:\n",
    "        continue\n",
    "\n",
    "ratios.sort(key=operator.itemgetter(1), reverse=True)"
   ]
  },
  {
   "cell_type": "code",
   "execution_count": null,
   "metadata": {},
   "outputs": [],
   "source": [
    "# The following medical words had higher odds of occurring for Female patients\n",
    "ratios[:50]"
   ]
  },
  {
   "cell_type": "code",
   "execution_count": null,
   "metadata": {},
   "outputs": [],
   "source": [
    "# The following medical words had higher odds of occurring for Male patients\n",
    "ratios[len(ratios)-50: len(ratios)]"
   ]
  },
  {
   "cell_type": "code",
   "execution_count": null,
   "metadata": {},
   "outputs": [],
   "source": [
    "with open('<Path to save this csv>', 'w') as f:\n",
    "    writer = csv.writer(f)\n",
    "    for val in ratios:\n",
    "        writer.writerow([val])"
   ]
  },
  {
   "cell_type": "markdown",
   "metadata": {},
   "source": [
    "# 2b: Compute z-scores for medical words"
   ]
  },
  {
   "cell_type": "markdown",
   "metadata": {},
   "source": [
    "### Compare Female vs. Male\n",
    "Account for uncertainty about the log odds ratios by using the z-score (logodds/standarddev(logodds)), per Monroe et al.: http://languagelog.ldc.upenn.edu/myl/Monroe.pdf\n",
    "\n",
    "Compare the z-score to some threshold (commonly, 1.96). If |z-score| > 1.96, the word is significant."
   ]
  },
  {
   "cell_type": "code",
   "execution_count": null,
   "metadata": {},
   "outputs": [],
   "source": [
    "c_1 = dict(sorted(Counter(medical_Female).items(), key=lambda x: x[1], reverse=True))\n",
    "c_2 = dict(sorted(Counter(medical_Male).items(), key=lambda x: x[1], reverse=True))\n",
    "\n",
    "size1 = _size(c_1)\n",
    "size2 = _size(c_2)\n",
    "size3 = _size(c_bg)\n",
    "\n",
    "supported_tokens = set(c_1.keys())\n",
    "supported_tokens &= c_2.keys()\n",
    "supported_tokens &= c_bg.keys()"
   ]
  },
  {
   "cell_type": "code",
   "execution_count": null,
   "metadata": {},
   "outputs": [],
   "source": [
    "scores = []\n",
    "for tok in supported_tokens:\n",
    "    score = _z_score(tok, c_1, c_2, c_bg, size1, size2, size3)\n",
    "    scores.append((tok, score))\n",
    "\n",
    "scores.sort(key=operator.itemgetter(1), reverse=True)"
   ]
  },
  {
   "cell_type": "code",
   "execution_count": null,
   "metadata": {},
   "outputs": [],
   "source": [
    "# words with z-scores > 1.96 had higher odds of occuring for Female patients at 5% level of significance\n",
    "scores[:50]"
   ]
  },
  {
   "cell_type": "code",
   "execution_count": null,
   "metadata": {},
   "outputs": [],
   "source": [
    "# words with z-scores < -1.96 had higher odds of occuring for Male patients at 5% level of significance\n",
    "scores[len(scores)-50: len(scores)]"
   ]
  },
  {
   "cell_type": "code",
   "execution_count": null,
   "metadata": {},
   "outputs": [],
   "source": [
    "with open('<Path to save this csv>', 'w') as f:\n",
    "    writer = csv.writer(f)\n",
    "    for val in ratios:\n",
    "        writer.writerow([val])"
   ]
  },
  {
   "cell_type": "markdown",
   "metadata": {},
   "source": [
    "# 2c: Compute 95% confidence intervals for the log odds ratios for medical words"
   ]
  },
  {
   "cell_type": "markdown",
   "metadata": {},
   "source": [
    "### Female vs Male"
   ]
  },
  {
   "cell_type": "code",
   "execution_count": null,
   "metadata": {},
   "outputs": [],
   "source": [
    "c_1 = dict(sorted(Counter(medical_Female).items(), key=lambda x: x[1], reverse=True))\n",
    "c_2 = dict(sorted(Counter(medical_Male).items(), key=lambda x: x[1], reverse=True))\n",
    "\n",
    "size1 = _size(c_1)\n",
    "size2 = _size(c_2)\n",
    "size3 = _size(c_bg)\n",
    "\n",
    "supported_tokens = set(c_1.keys())\n",
    "supported_tokens &= c_2.keys()\n",
    "supported_tokens &= c_bg.keys()"
   ]
  },
  {
   "cell_type": "code",
   "execution_count": null,
   "metadata": {},
   "outputs": [],
   "source": [
    "CIs = []\n",
    "for tok in supported_tokens:\n",
    "    CI = _log_odds_CI(tok, c_1, c_2, c_bg, size1, size2, size3)\n",
    "    CIs.append((tok, CI))\n",
    "\n",
    "#ratios.sort(key=operator.itemgetter(1), reverse=True)\n",
    "\n",
    "#Sort to match the ordering of the z-scores above\n",
    "CIs_sorted = []\n",
    "CIs = dict(CIs)\n",
    "for tok in dict(scores).keys():\n",
    "    CIs_sorted.append((tok,CIs.get(tok)))\n",
    "\n",
    "    "
   ]
  },
  {
   "cell_type": "code",
   "execution_count": null,
   "metadata": {},
   "outputs": [],
   "source": [
    "# The following had higher odds of occurring for female patients\n",
    "CIs_sorted[:50]"
   ]
  },
  {
   "cell_type": "code",
   "execution_count": null,
   "metadata": {},
   "outputs": [],
   "source": [
    "# The following had higher odds of occurring for male patients\n",
    "CIs_sorted[len(CIs_sorted)-50: len(CIs_sorted)]"
   ]
  },
  {
   "cell_type": "code",
   "execution_count": null,
   "metadata": {},
   "outputs": [],
   "source": [
    "with open('<Path to save this csv>', 'w') as f:\n",
    "    writer = csv.writer(f)\n",
    "    for val in ratios:\n",
    "        writer.writerow([val])"
   ]
  },
  {
   "cell_type": "markdown",
   "metadata": {},
   "source": [
    "# **3a:** Compute log OR for nonmedical words"
   ]
  },
  {
   "cell_type": "markdown",
   "metadata": {},
   "source": [
    "### Redefine the background corpus to only include nonmedical words"
   ]
  },
  {
   "cell_type": "code",
   "execution_count": null,
   "metadata": {},
   "outputs": [],
   "source": [
    "from random import choices\n",
    "from collections import Counter, OrderedDict\n",
    "nonmedical_words_list = choices(nonmedical_Female , k = len(nonmedical_Male)) + nonmedical_Male\n",
    "c_bg = dict(sorted(Counter(nonmedical_words_list).items(), key=lambda x: x[1], reverse=True))\n",
    "size3 = _size(c_bg)"
   ]
  },
  {
   "cell_type": "markdown",
   "metadata": {},
   "source": [
    "### Compare nonmedical words for Female vs. Male"
   ]
  },
  {
   "cell_type": "code",
   "execution_count": null,
   "metadata": {
    "scrolled": true
   },
   "outputs": [],
   "source": [
    "c_1 = dict(sorted(Counter(nonmedical_Female).items(), key=lambda x: x[1], reverse=True))\n",
    "c_2 = dict(sorted(Counter(nonmedical_Male).items(), key=lambda x: x[1], reverse=True))\n",
    "\n",
    "size1 = _size(c_1)\n",
    "size2 = _size(c_2)\n",
    "\n",
    "\n",
    "supported_tokens = set(list(c_1.keys()) +list(c_2.keys()))\n",
    "#supported_tokens &= c_2.keys()\n",
    "#supported_tokens &= c_bg.keys()\n",
    "\n",
    "ratios = []\n",
    "\n",
    "for tok in supported_tokens:\n",
    "    try:\n",
    "        rat = _log_odds(tok, c_1, c_2, c_bg, size1, size2, size3)\n",
    "        ratios.append((tok, rat))\n",
    "    except:\n",
    "        #print(tok)\n",
    "        continue\n",
    "        \n",
    "\n",
    "ratios.sort(key=operator.itemgetter(1), reverse=True)"
   ]
  },
  {
   "cell_type": "code",
   "execution_count": null,
   "metadata": {},
   "outputs": [],
   "source": [
    "# The following nonmedical words had higher odds of occurring for Female patients\n",
    "ratios[:50]"
   ]
  },
  {
   "cell_type": "code",
   "execution_count": null,
   "metadata": {},
   "outputs": [],
   "source": [
    "# The following nonmedical words had higher odds of occurring for Male patients \n",
    "ratios[len(ratios)-50: len(ratios)]"
   ]
  },
  {
   "cell_type": "code",
   "execution_count": null,
   "metadata": {},
   "outputs": [],
   "source": [
    "with open('<Path to save this csv>', 'w') as f:\n",
    "    writer = csv.writer(f)\n",
    "    for val in ratios:\n",
    "        writer.writerow([val])"
   ]
  },
  {
   "cell_type": "markdown",
   "metadata": {},
   "source": [
    "# 3b: Compute z-scores for nonmedical words"
   ]
  },
  {
   "cell_type": "markdown",
   "metadata": {},
   "source": [
    "### Female vs Male"
   ]
  },
  {
   "cell_type": "code",
   "execution_count": null,
   "metadata": {},
   "outputs": [],
   "source": [
    "c_1 = dict(sorted(Counter(nonmedical_Female).items(), key=lambda x: x[1], reverse=True))\n",
    "c_2 = dict(sorted(Counter(nonmedical_Male).items(), key=lambda x: x[1], reverse=True))\n",
    "\n",
    "size1 = _size(c_1)\n",
    "size2 = _size(c_2)\n",
    "\n",
    "\n",
    "supported_tokens = set(list(c_1.keys()) +list(c_2.keys()))\n",
    "#supported_tokens &= c_2.keys()\n",
    "#supported_tokens &= c_bg.keys()\n",
    "\n",
    "scores = []\n",
    "\n",
    "for tok in supported_tokens:\n",
    "    try:\n",
    "        score = _z_score(tok, c_1, c_2, c_bg, size1, size2, size3)\n",
    "        scores.append((tok, score))\n",
    "    except:\n",
    "        continue\n",
    "\n",
    "scores.sort(key=operator.itemgetter(1), reverse=True)"
   ]
  },
  {
   "cell_type": "code",
   "execution_count": null,
   "metadata": {},
   "outputs": [],
   "source": [
    "# words with z-scores > 1.96 had higher odds of occuring for Female patients at 5% level of significance\n",
    "scores[:50]"
   ]
  },
  {
   "cell_type": "code",
   "execution_count": null,
   "metadata": {},
   "outputs": [],
   "source": [
    "# words with z-scores < -1.96 had higher odds of occuring for Male patients at 5% level of significance\n",
    "scores[len(scores)-50: len(scores)]"
   ]
  },
  {
   "cell_type": "code",
   "execution_count": null,
   "metadata": {},
   "outputs": [],
   "source": [
    "with open('<Path to save this csv>', 'w') as f:\n",
    "    writer = csv.writer(f)\n",
    "    for val in ratios:\n",
    "        writer.writerow([val])"
   ]
  },
  {
   "cell_type": "markdown",
   "metadata": {},
   "source": [
    "# 3c: Compute 95% confidence intervals for the log odds ratios for nonmedical words"
   ]
  },
  {
   "cell_type": "markdown",
   "metadata": {},
   "source": [
    "### Female vs Male"
   ]
  },
  {
   "cell_type": "code",
   "execution_count": null,
   "metadata": {},
   "outputs": [],
   "source": [
    "c_1 = dict(sorted(Counter(nonmedical_Female).items(), key=lambda x: x[1], reverse=True))\n",
    "c_2 = dict(sorted(Counter(nonmedical_Male).items(), key=lambda x: x[1], reverse=True))\n",
    "\n",
    "size1 = _size(c_1)\n",
    "size2 = _size(c_2)\n",
    "\n",
    "supported_tokens = set(c_1.keys())\n",
    "supported_tokens &= c_2.keys()\n",
    "supported_tokens &= c_bg.keys()"
   ]
  },
  {
   "cell_type": "code",
   "execution_count": null,
   "metadata": {},
   "outputs": [],
   "source": [
    "CIs = []\n",
    "for tok in supported_tokens:\n",
    "    CI = _log_odds_CI(tok, c_1, c_2, c_bg, size1, size2, size3)\n",
    "    CIs.append((tok, CI))\n",
    "\n",
    "#ratios.sort(key=operator.itemgetter(1), reverse=True)\n",
    "\n",
    "#Sort to match the ordering of the z-scores above\n",
    "CIs_sorted = []\n",
    "CIs = dict(CIs)\n",
    "for tok in dict(scores).keys():\n",
    "    CIs_sorted.append((tok,CIs.get(tok)))\n",
    "\n",
    "    \n",
    "\n",
    "scores.sort(key=operator.itemgetter(1), reverse=True)"
   ]
  },
  {
   "cell_type": "code",
   "execution_count": null,
   "metadata": {},
   "outputs": [],
   "source": [
    "# The following had higher odds of occurring for female patients\n",
    "CIs_sorted[:50]"
   ]
  },
  {
   "cell_type": "code",
   "execution_count": null,
   "metadata": {},
   "outputs": [],
   "source": [
    "# The following had higher odds of occurring for male patients\n",
    "CIs_sorted[len(CIs_sorted)-50: len(CIs_sorted)]"
   ]
  },
  {
   "cell_type": "code",
   "execution_count": null,
   "metadata": {},
   "outputs": [],
   "source": [
    "with open('<Path to save this csv>', 'w') as f:\n",
    "    writer = csv.writer(f)\n",
    "    for val in ratios:\n",
    "        writer.writerow([val])"
   ]
  },
  {
   "cell_type": "code",
   "execution_count": null,
   "metadata": {},
   "outputs": [],
   "source": []
  }
 ],
 "metadata": {
  "kernelspec": {
   "display_name": "Python 3 (ipykernel)",
   "language": "python",
   "name": "python3"
  },
  "language_info": {
   "codemirror_mode": {
    "name": "ipython",
    "version": 3
   },
   "file_extension": ".py",
   "mimetype": "text/x-python",
   "name": "python",
   "nbconvert_exporter": "python",
   "pygments_lexer": "ipython3",
   "version": "3.8.12"
  }
 },
 "nbformat": 4,
 "nbformat_minor": 4
}
