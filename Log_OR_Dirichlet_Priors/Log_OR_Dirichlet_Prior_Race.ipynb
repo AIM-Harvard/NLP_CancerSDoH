{
 "cells": [
  {
   "cell_type": "markdown",
   "metadata": {},
   "source": [
    "# File description:\n",
    "\n",
    "This file computes the log odds ratios with Dirichlet priors comparing word frequency across patient race. Non-hispanic White patient notes are compared to Black patient notes, and all other notes are compared to White patient notes.\n",
    "\n",
    "The log odds ratios are computed using lists of all words used in the notes for patients of each race. These lists are computed using the Create_Word_Lists file"
   ]
  },
  {
   "cell_type": "code",
   "execution_count": null,
   "metadata": {
    "scrolled": true
   },
   "outputs": [],
   "source": [
    "# Load required packages \n",
    "import pickle\n",
    "import csv\n",
    "import argparse\n",
    "import logging\n",
    "import math\n",
    "import numpy as np\n",
    "import operator\n",
    "from typing import Iterator\n",
    "from collections import Counter\n",
    "from collections import Counter, OrderedDict"
   ]
  },
  {
   "cell_type": "markdown",
   "metadata": {},
   "source": [
    "## Load lists of words from pickle files"
   ]
  },
  {
   "cell_type": "markdown",
   "metadata": {},
   "source": [
    "### Load lists of MEDICAL words"
   ]
  },
  {
   "cell_type": "code",
   "execution_count": null,
   "metadata": {},
   "outputs": [],
   "source": [
    "medical_words_Asian = pickle.load(open('Path_to_list', 'rb'))\n",
    "medical_words_Hispanic = pickle.load(open('Path_to_list', 'rb'))\n",
    "medical_words_Black = pickle.load(open('Path_to_list', 'rb'))\n",
    "medical_words_Unknown = pickle.load(open('Path_to_list', 'rb'))\n",
    "medical_words_Other = pickle.load(open('Path_to_list', 'rb'))\n",
    "medical_words_White = pickle.load(open('Path_to_list', 'rb'))\n"
   ]
  },
  {
   "cell_type": "markdown",
   "metadata": {},
   "source": [
    "### Load lists of NON-MEDICAL words"
   ]
  },
  {
   "cell_type": "code",
   "execution_count": null,
   "metadata": {},
   "outputs": [],
   "source": [
    "nonmedical_words_Asian = pickle.load(open('Path_to_list', 'rb'))\n",
    "nonmedical_words_Hispanic = pickle.load(open('Path_to_list', 'rb'))\n",
    "nonmedical_words_Black = pickle.load(open('Path_to_list', 'rb'))\n",
    "nonmedical_words_Unknown = pickle.load(open('Path_to_list', 'rb'))\n",
    "nonmedical_words_Other = pickle.load(open('Path_to_list', 'rb'))\n",
    "nonmedical_words_White = pickle.load(open('Path_to_list', 'rb'))"
   ]
  },
  {
   "cell_type": "markdown",
   "metadata": {},
   "source": [
    "## Run log-odds ratio with Dirichlet prior"
   ]
  },
  {
   "cell_type": "code",
   "execution_count": null,
   "metadata": {},
   "outputs": [],
   "source": [
    "def _size(corpus: dict) -> int:              #This counts the total number of words (including all repetitions)    \n",
    "    return sum(corpus.values())"
   ]
  },
  {
   "cell_type": "code",
   "execution_count": null,
   "metadata": {},
   "outputs": [],
   "source": [
    "def _log_odds(                          \n",
    "    word: str,\n",
    "    c1: dict,\n",
    "    c2: dict,\n",
    "    bg: dict,\n",
    "    size1: int,\n",
    "    size2: int,\n",
    "    size3: int,\n",
    ") -> float:\n",
    "\n",
    "    if word in set(c1.keys()):\n",
    "        numerator_1 = c1[word] + bg[word]\n",
    "    else:\n",
    "        numerator_1 = bg[word]\n",
    "    \n",
    "    if word in set(c2.keys()):\n",
    "        numerator_2 = c2[word] + bg[word]\n",
    "    else:\n",
    "        numerator_2 = bg[word]\n",
    "        \n",
    "    denom_1 = size1 + size3 - numerator_1\n",
    "    denom_2 = size2 + size3 - numerator_2\n",
    "    \n",
    "    raw_logodds = math.log(numerator_1 / denom_1) - math.log(\n",
    "        numerator_2 / denom_2\n",
    "    )\n",
    "\n",
    "    variance = (1 / numerator_1) + (1 / numerator_2)\n",
    "    return raw_logodds\n",
    "\n"
   ]
  },
  {
   "cell_type": "code",
   "execution_count": null,
   "metadata": {},
   "outputs": [],
   "source": [
    "def _z_score(                             \n",
    "    word: str,\n",
    "    c1: dict,\n",
    "    c2: dict,\n",
    "    bg: dict,\n",
    "    size1: int,\n",
    "    size2: int,\n",
    "    size3: int,\n",
    ") -> float:\n",
    "    \n",
    "    if word in set(c1.keys()):\n",
    "        numerator_1 = c1[word] + bg[word]\n",
    "    else:\n",
    "        numerator_1 = bg[word]\n",
    "    \n",
    "    if word in set(c2.keys()):\n",
    "        numerator_2 = c2[word] + bg[word]\n",
    "    else:\n",
    "        numerator_2 = bg[word]\n",
    "        \n",
    "    denom_1 = size1 + size3 - numerator_1\n",
    "    denom_2 = size2 + size3 - numerator_2\n",
    "    \n",
    "    raw_logodds = math.log(numerator_1 / denom_1) - math.log(\n",
    "        numerator_2 / denom_2\n",
    "    )\n",
    "\n",
    "    variance = (1 / numerator_1) + (1 / numerator_2)\n",
    "    return raw_logodds / math.sqrt(variance)\n",
    "\n"
   ]
  },
  {
   "cell_type": "code",
   "execution_count": null,
   "metadata": {},
   "outputs": [],
   "source": [
    "def _log_odds_CI(                             \n",
    "    word: str,\n",
    "    c1: dict,\n",
    "    c2: dict,\n",
    "    bg: dict,\n",
    "    size1: int,\n",
    "    size2: int,\n",
    "    size3: int,\n",
    ") -> float:\n",
    "    \n",
    "    if word in set(c1.keys()):\n",
    "        numerator_1 = c1[word] + bg[word]\n",
    "    else:\n",
    "        numerator_1 = bg[word]\n",
    "    \n",
    "    if word in set(c2.keys()):\n",
    "        numerator_2 = c2[word] + bg[word]\n",
    "    else:\n",
    "        numerator_2 = bg[word]\n",
    "        \n",
    "    denom_1 = size1 + size3 - numerator_1\n",
    "    denom_2 = size2 + size3 - numerator_2\n",
    "    \n",
    "    raw_logodds = math.log(numerator_1 / denom_1) - math.log(\n",
    "        numerator_2 / denom_2\n",
    "    )\n",
    "\n",
    "    variance = (1 / numerator_1) + (1 / numerator_2)\n",
    "    return [round(raw_logodds - 1.96*math.sqrt(variance),3), round(raw_logodds + 1.96*math.sqrt(variance),3)]"
   ]
  },
  {
   "cell_type": "markdown",
   "metadata": {},
   "source": [
    "# 0: Create background corpus"
   ]
  },
  {
   "cell_type": "markdown",
   "metadata": {},
   "source": [
    "The dirichlet prior will shrink odds ratios toward their global values from the background corpus. Therefore, it's important to ensure that each race is equally represented in the background corpus. We will oversample words from the non-White word lists to match the number of words in the White word lists.\n",
    "\n",
    "For the medical word analysis, the background corpus will include only medical words. For the nonmedical word analysis, the background corpus will include only nonmedical words. For the all-words analysis, the background corpus will include both medical and nonmedical words\n",
    "\n",
    "See Monroe paper: http://languagelog.ldc.upenn.edu/myl/Monroe.pdf"
   ]
  },
  {
   "cell_type": "code",
   "execution_count": null,
   "metadata": {},
   "outputs": [],
   "source": [
    "# Import required packages\n",
    "from random import choices\n",
    "from collections import Counter, OrderedDict\n",
    "\n",
    "# Define the background corpus (c_bg) for the all words analysis\n",
    "nonmedical_words_list = choices(nonmedical_Black , k = len(nonmedical_White)) + choices(nonmedical_Hispanic , k = len(nonmedical_White)) + choices(nonmedical_Asian , k = len(nonmedical_White)) + choices(nonmedical_Other , k = len(nonmedical_White)) + choices(nonmedical_Unknown , k = len(nonmedical_White)) + nonmedical_White\n",
    "medical_words_list = choices(medical_Black , k = len(medical_White)) + choices(medical_Hispanic , k = len(medical_White)) + choices(medical_Asian , k = len(medical_White)) + choices(medical_Other , k = len(medical_White)) + choices(medical_Unknown , k = len(medical_White)) + medical_White\n",
    "c_bg = dict(sorted(Counter(nonmedical_words_list + medical_words_list).items(), key=lambda x: x[1], reverse=True))"
   ]
  },
  {
   "cell_type": "markdown",
   "metadata": {},
   "source": [
    "# **1a:** Compute log-odds ratios for medical and non-medical words combined"
   ]
  },
  {
   "cell_type": "markdown",
   "metadata": {},
   "source": [
    "### Compare Black vs. White\n",
    "A ratio > 1 means the odds of the word occurring for a Black patient is greater than the odds of the word occurring for a White patient."
   ]
  },
  {
   "cell_type": "code",
   "execution_count": null,
   "metadata": {},
   "outputs": [],
   "source": [
    "c_1 = dict(sorted(Counter(choices(medical_Black , k = len(medical_White)) + choices(nonmedical_Black , k = len(nonmedical_White))).items(), key=lambda x: x[1], reverse=True))\n",
    "c_2 = dict(sorted(Counter(medical_White + nonmedical_White).items(), key=lambda x: x[1], reverse=True))\n",
    "\n",
    "size1 = _size(c_1)\n",
    "size2 = _size(c_2)\n",
    "size3 = _size(c_bg)\n",
    "\n",
    "supported_tokens = set(c_1.keys())\n",
    "supported_tokens &= c_2.keys()\n",
    "supported_tokens &= c_bg.keys()"
   ]
  },
  {
   "cell_type": "code",
   "execution_count": null,
   "metadata": {},
   "outputs": [],
   "source": [
    "ratios = []\n",
    "for tok in supported_tokens:\n",
    "    rat = _log_odds(tok, c_1, c_2, c_bg, size1, size2, size3)\n",
    "    ratios.append((tok, rat))\n",
    "\n",
    "ratios.sort(key=operator.itemgetter(1), reverse=True)"
   ]
  },
  {
   "cell_type": "code",
   "execution_count": null,
   "metadata": {},
   "outputs": [],
   "source": [
    "# The following words had higher odds of occurring for Black patients\n",
    "ratios[:50]"
   ]
  },
  {
   "cell_type": "code",
   "execution_count": null,
   "metadata": {},
   "outputs": [],
   "source": [
    "# The following words had higher odds of occurring for White patients\n",
    "ratios[len(ratios)-50: len(ratios)]"
   ]
  },
  {
   "cell_type": "code",
   "execution_count": null,
   "metadata": {},
   "outputs": [],
   "source": [
    "with open('<Path to save this csv>', 'w') as f:\n",
    "    writer = csv.writer(f)\n",
    "    for val in ratios:\n",
    "        writer.writerow([val])"
   ]
  },
  {
   "cell_type": "markdown",
   "metadata": {},
   "source": [
    "### Compare Hispanic vs. White\n",
    "A ratio > 1 means the odds of the word occurring for a Black patient is greater than the odds of the word occurring for a White patient."
   ]
  },
  {
   "cell_type": "code",
   "execution_count": null,
   "metadata": {},
   "outputs": [],
   "source": [
    "c_1 = dict(sorted(Counter(choices(medical_Hispanic , k = len(medical_White)) + choices(nonmedical_Hispanic , k = len(nonmedical_White))).items(), key=lambda x: x[1], reverse=True))\n",
    "c_2 = dict(sorted(Counter(medical_White + nonmedical_White).items(), key=lambda x: x[1], reverse=True))\n",
    "\n",
    "size1 = _size(c_1)\n",
    "size2 = _size(c_2)\n",
    "size3 = _size(c_bg)\n",
    "\n",
    "supported_tokens = set(c_1.keys())\n",
    "supported_tokens &= c_2.keys()\n",
    "supported_tokens &= c_bg.keys()"
   ]
  },
  {
   "cell_type": "code",
   "execution_count": null,
   "metadata": {},
   "outputs": [],
   "source": [
    "ratios = []\n",
    "for tok in supported_tokens:\n",
    "    rat = _log_odds(tok, c_1, c_2, c_bg, size1, size2, size3)\n",
    "    ratios.append((tok, rat))\n",
    "\n",
    "ratios.sort(key=operator.itemgetter(1), reverse=True)"
   ]
  },
  {
   "cell_type": "code",
   "execution_count": null,
   "metadata": {},
   "outputs": [],
   "source": [
    "# The following words had higher odds of occurring for Hispanic patients\n",
    "ratios[:50]"
   ]
  },
  {
   "cell_type": "code",
   "execution_count": null,
   "metadata": {},
   "outputs": [],
   "source": [
    "# The following words had higher odds of occurring for White patients\n",
    "ratios[len(ratios)-50: len(ratios)]"
   ]
  },
  {
   "cell_type": "code",
   "execution_count": null,
   "metadata": {},
   "outputs": [],
   "source": [
    "with open('<Path to save this csv>', 'w') as f:\n",
    "    writer = csv.writer(f)\n",
    "    for val in ratios:\n",
    "        writer.writerow([val])"
   ]
  },
  {
   "cell_type": "code",
   "execution_count": null,
   "metadata": {},
   "outputs": [],
   "source": []
  },
  {
   "cell_type": "markdown",
   "metadata": {},
   "source": [
    "### Compare Asian vs. White\n",
    "A ratio > 1 means the odds of the word occurring for an Asian patient is greater than the odds of the word occurring for a White patient."
   ]
  },
  {
   "cell_type": "code",
   "execution_count": null,
   "metadata": {},
   "outputs": [],
   "source": [
    "c_1 = dict(sorted(Counter(choices(medical_Asian , k = len(medical_White)) + choices(nonmedical_Asian , k = len(nonmedical_White))).items(), key=lambda x: x[1], reverse=True))\n",
    "c_2 = dict(sorted(Counter(medical_White + nonmedical_White).items(), key=lambda x: x[1], reverse=True))\n",
    "\n",
    "size1 = _size(c_1)\n",
    "size2 = _size(c_2)\n",
    "size3 = _size(c_bg)\n",
    "\n",
    "supported_tokens = set(c_1.keys())\n",
    "supported_tokens &= c_2.keys()\n",
    "supported_tokens &= c_bg.keys()"
   ]
  },
  {
   "cell_type": "code",
   "execution_count": null,
   "metadata": {},
   "outputs": [],
   "source": [
    "ratios = []\n",
    "for tok in supported_tokens:\n",
    "    rat = _log_odds(tok, c_1, c_2, c_bg, size1, size2, size3)\n",
    "    ratios.append((tok, rat))\n",
    "\n",
    "ratios.sort(key=operator.itemgetter(1), reverse=True)"
   ]
  },
  {
   "cell_type": "code",
   "execution_count": null,
   "metadata": {},
   "outputs": [],
   "source": [
    "# The following words had higher odds of occurring for Asian patients\n",
    "ratios[:50]"
   ]
  },
  {
   "cell_type": "code",
   "execution_count": null,
   "metadata": {},
   "outputs": [],
   "source": [
    "# The following words had higher odds of occurring for White patients\n",
    "ratios[len(ratios)-50: len(ratios)]"
   ]
  },
  {
   "cell_type": "code",
   "execution_count": null,
   "metadata": {},
   "outputs": [],
   "source": [
    "with open('<Path to save this csv>', 'w') as f:\n",
    "    writer = csv.writer(f)\n",
    "    for val in ratios:\n",
    "        writer.writerow([val])"
   ]
  },
  {
   "cell_type": "markdown",
   "metadata": {},
   "source": [
    "### Compare Other vs. White\n",
    "A ratio > 1 means the odds of the word occurring for a Other patient is greater than the odds of the word occurring for a White patient."
   ]
  },
  {
   "cell_type": "code",
   "execution_count": null,
   "metadata": {},
   "outputs": [],
   "source": [
    "c_1 = dict(sorted(Counter(choices(medical_Other , k = len(medical_White)) + choices(nonmedical_Other , k = len(nonmedical_White))).items(), key=lambda x: x[1], reverse=True))\n",
    "c_2 = dict(sorted(Counter(medical_White + nonmedical_White).items(), key=lambda x: x[1], reverse=True))\n",
    "\n",
    "size1 = _size(c_1)\n",
    "size2 = _size(c_2)\n",
    "size3 = _size(c_bg)\n",
    "\n",
    "supported_tokens = set(c_1.keys())\n",
    "supported_tokens &= c_2.keys()\n",
    "supported_tokens &= c_bg.keys()"
   ]
  },
  {
   "cell_type": "code",
   "execution_count": null,
   "metadata": {},
   "outputs": [],
   "source": [
    "ratios = []\n",
    "for tok in supported_tokens:\n",
    "    rat = _log_odds(tok, c_1, c_2, c_bg, size1, size2, size3)\n",
    "    ratios.append((tok, rat))\n",
    "\n",
    "ratios.sort(key=operator.itemgetter(1), reverse=True)"
   ]
  },
  {
   "cell_type": "code",
   "execution_count": null,
   "metadata": {},
   "outputs": [],
   "source": [
    "# The following words had higher odds of occurring for Other patients\n",
    "ratios[:50]"
   ]
  },
  {
   "cell_type": "code",
   "execution_count": null,
   "metadata": {},
   "outputs": [],
   "source": [
    "# The following words had higher odds of occurring for White patients\n",
    "ratios[len(ratios)-50: len(ratios)]"
   ]
  },
  {
   "cell_type": "code",
   "execution_count": null,
   "metadata": {},
   "outputs": [],
   "source": [
    "with open('<Path to save this csv>', 'w') as f:\n",
    "    writer = csv.writer(f)\n",
    "    for val in ratios:\n",
    "        writer.writerow([val])"
   ]
  },
  {
   "cell_type": "code",
   "execution_count": null,
   "metadata": {},
   "outputs": [],
   "source": []
  },
  {
   "cell_type": "markdown",
   "metadata": {},
   "source": [
    "# 1b: Compute z-scores and 95% confidence intervals for the log odds ratios for medical and nonmedical words combined"
   ]
  },
  {
   "cell_type": "markdown",
   "metadata": {},
   "source": [
    "### Compare Black vs. White\n",
    "Account for uncertainty about the log odds ratios by using the z-score (logodds/standarddev(logodds)), per Monroe et al.: http://languagelog.ldc.upenn.edu/myl/Monroe.pdf\n",
    "\n",
    "Compare the z-score to some threshold (commonly, 1.96). If |z-score| > 1.96, the word is significant."
   ]
  },
  {
   "cell_type": "code",
   "execution_count": null,
   "metadata": {},
   "outputs": [],
   "source": [
    "c_1 = dict(sorted(Counter(choices(medical_Black , k = len(medical_White)) + choices(nonmedical_Black , k = len(nonmedical_White))).items(), key=lambda x: x[1], reverse=True))\n",
    "c_2 = dict(sorted(Counter(medical_White + nonmedical_White).items(), key=lambda x: x[1], reverse=True))\n",
    "\n",
    "size1 = _size(c_1)\n",
    "size2 = _size(c_2)\n",
    "size3 = _size(c_bg)\n",
    "\n",
    "supported_tokens = set(c_1.keys())\n",
    "supported_tokens &= c_2.keys()\n",
    "supported_tokens &= c_bg.keys()"
   ]
  },
  {
   "cell_type": "code",
   "execution_count": null,
   "metadata": {},
   "outputs": [],
   "source": [
    "scores = []\n",
    "for tok in supported_tokens:\n",
    "    score = _z_score(tok, c_1, c_2, c_bg, size1, size2, size3)\n",
    "    scores.append((tok, score))\n",
    "\n",
    "scores.sort(key=operator.itemgetter(1), reverse=True)"
   ]
  },
  {
   "cell_type": "code",
   "execution_count": null,
   "metadata": {},
   "outputs": [],
   "source": [
    "# The following words had higher odds of occurring for Black patients\n",
    "scores[:50]"
   ]
  },
  {
   "cell_type": "code",
   "execution_count": null,
   "metadata": {},
   "outputs": [],
   "source": [
    "# The following words had higher odds of occurring for White patients\n",
    "scores[len(scores)-50: len(scores)]"
   ]
  },
  {
   "cell_type": "code",
   "execution_count": null,
   "metadata": {},
   "outputs": [],
   "source": [
    "with open('<Path to save this csv>', 'w') as f:\n",
    "    writer = csv.writer(f)\n",
    "    for val in scores:\n",
    "        writer.writerow([val])"
   ]
  },
  {
   "cell_type": "code",
   "execution_count": null,
   "metadata": {},
   "outputs": [],
   "source": [
    "c_1 = dict(sorted(Counter(choices(medical_Black , k = len(medical_White)) + choices(nonmedical_Black , k = len(nonmedical_White))).items(), key=lambda x: x[1], reverse=True))\n",
    "c_2 = dict(sorted(Counter(medical_White + nonmedical_White).items(), key=lambda x: x[1], reverse=True))\n",
    "\n",
    "size1 = _size(c_1)\n",
    "size2 = _size(c_2)\n",
    "\n",
    "supported_tokens = set(c_1.keys())\n",
    "supported_tokens &= c_2.keys()\n",
    "supported_tokens &= c_bg.keys()"
   ]
  },
  {
   "cell_type": "code",
   "execution_count": null,
   "metadata": {},
   "outputs": [],
   "source": [
    "CIs = []\n",
    "for tok in supported_tokens:\n",
    "    CI = _log_odds_CI(tok, c_1, c_2, c_bg, size1, size2, size3)\n",
    "    CIs.append((tok, CI))\n",
    "\n",
    "#ratios.sort(key=operator.itemgetter(1), reverse=True)\n",
    "\n",
    "#Sort to match the ordering of the z-scores above\n",
    "CIs_sorted = []\n",
    "CIs = dict(CIs)\n",
    "for tok in dict(scores).keys():\n",
    "    CIs_sorted.append((tok,CIs.get(tok)))\n",
    "\n",
    "    "
   ]
  },
  {
   "cell_type": "code",
   "execution_count": null,
   "metadata": {},
   "outputs": [],
   "source": [
    "CIs_sorted[:50]"
   ]
  },
  {
   "cell_type": "code",
   "execution_count": null,
   "metadata": {},
   "outputs": [],
   "source": [
    "CIs_sorted[len(CIs_sorted)-50: len(CIs_sorted)]"
   ]
  },
  {
   "cell_type": "code",
   "execution_count": null,
   "metadata": {},
   "outputs": [],
   "source": [
    "with open('<Path to save this csv>', 'w') as f:\n",
    "    writer = csv.writer(f)\n",
    "    for val in CIs_sorted:\n",
    "        writer.writerow([val])"
   ]
  },
  {
   "cell_type": "code",
   "execution_count": null,
   "metadata": {},
   "outputs": [],
   "source": []
  },
  {
   "cell_type": "markdown",
   "metadata": {},
   "source": [
    "### Compare Hispanic vs White"
   ]
  },
  {
   "cell_type": "code",
   "execution_count": null,
   "metadata": {},
   "outputs": [],
   "source": [
    "c_1 = dict(sorted(Counter(choices(medical_Hispanic , k = len(medical_White)) + choices(nonmedical_Hispanic , k = len(nonmedical_White))).items(), key=lambda x: x[1], reverse=True))\n",
    "c_2 = dict(sorted(Counter(medical_White + nonmedical_White).items(), key=lambda x: x[1], reverse=True))\n",
    "\n",
    "size1 = _size(c_1)\n",
    "size2 = _size(c_2)\n",
    "size3 = _size(c_bg)\n",
    "\n",
    "supported_tokens = set(c_1.keys())\n",
    "supported_tokens &= c_2.keys()\n",
    "supported_tokens &= c_bg.keys()"
   ]
  },
  {
   "cell_type": "code",
   "execution_count": null,
   "metadata": {},
   "outputs": [],
   "source": [
    "scores = []\n",
    "for tok in supported_tokens:\n",
    "    score = _z_score(tok, c_1, c_2, c_bg, size1, size2, size3)\n",
    "    scores.append((tok, score))\n",
    "\n",
    "scores.sort(key=operator.itemgetter(1), reverse=True)"
   ]
  },
  {
   "cell_type": "code",
   "execution_count": null,
   "metadata": {},
   "outputs": [],
   "source": [
    "# The following words had higher odds of occurring for Hispanic patients\n",
    "scores[:50]"
   ]
  },
  {
   "cell_type": "code",
   "execution_count": null,
   "metadata": {},
   "outputs": [],
   "source": [
    "# The following words had higher odds of occurring for White patients\n",
    "scores[len(scores)-50: len(scores)]"
   ]
  },
  {
   "cell_type": "code",
   "execution_count": null,
   "metadata": {},
   "outputs": [],
   "source": [
    "with open('<Path to save this csv>', 'w') as f:\n",
    "    writer = csv.writer(f)\n",
    "    for val in scores:\n",
    "        writer.writerow([val])"
   ]
  },
  {
   "cell_type": "code",
   "execution_count": null,
   "metadata": {},
   "outputs": [],
   "source": [
    "c_1 = dict(sorted(Counter(choices(medical_Hispanic , k = len(medical_White)) + choices(nonmedical_Hispanic , k = len(nonmedical_White))).items(), key=lambda x: x[1], reverse=True))\n",
    "c_2 = dict(sorted(Counter(medical_White + nonmedical_White).items(), key=lambda x: x[1], reverse=True))\n",
    "\n",
    "size1 = _size(c_1)\n",
    "size2 = _size(c_2)\n",
    "size3 = _size(c_bg)\n",
    "\n",
    "supported_tokens = set(c_1.keys())\n",
    "supported_tokens &= c_2.keys()\n",
    "supported_tokens &= c_bg.keys()"
   ]
  },
  {
   "cell_type": "code",
   "execution_count": null,
   "metadata": {},
   "outputs": [],
   "source": [
    "CIs = []\n",
    "for tok in supported_tokens:\n",
    "    CI = _log_odds_CI(tok, c_1, c_2, c_bg, size1, size2, size3)\n",
    "    CIs.append((tok, CI))\n",
    "\n",
    "#ratios.sort(key=operator.itemgetter(1), reverse=True)\n",
    "\n",
    "#Sort to match the ordering of the z-scores above\n",
    "CIs_sorted = []\n",
    "CIs = dict(CIs)\n",
    "for tok in dict(scores).keys():\n",
    "    CIs_sorted.append((tok,CIs.get(tok)))\n",
    "\n",
    "    "
   ]
  },
  {
   "cell_type": "code",
   "execution_count": null,
   "metadata": {},
   "outputs": [],
   "source": [
    "CIs_sorted[:50]"
   ]
  },
  {
   "cell_type": "code",
   "execution_count": null,
   "metadata": {},
   "outputs": [],
   "source": [
    "CIs_sorted[len(CIs_sorted)-50: len(CIs_sorted)]"
   ]
  },
  {
   "cell_type": "code",
   "execution_count": null,
   "metadata": {},
   "outputs": [],
   "source": [
    "with open('<Path to save this csv>', 'w') as f:\n",
    "    writer = csv.writer(f)\n",
    "    for val in CIs_sorted:\n",
    "        writer.writerow([val])"
   ]
  },
  {
   "cell_type": "markdown",
   "metadata": {},
   "source": [
    "### Compare Asian vs. White\n",
    "Account for uncertainty about the log odds ratios by using the z-score (logodds/standarddev(logodds)), per Monroe et al.: http://languagelog.ldc.upenn.edu/myl/Monroe.pdf\n",
    "\n",
    "Compare the z-score to some threshold (commonly, 1.96). If |z-score| > 1.96, the word is significant."
   ]
  },
  {
   "cell_type": "code",
   "execution_count": null,
   "metadata": {},
   "outputs": [],
   "source": [
    "c_1 = dict(sorted(Counter(choices(medical_Asian , k = len(medical_White)) + choices(nonmedical_Asian , k = len(nonmedical_White))).items(), key=lambda x: x[1], reverse=True))\n",
    "c_2 = dict(sorted(Counter(medical_White + nonmedical_White).items(), key=lambda x: x[1], reverse=True))\n",
    "\n",
    "size1 = _size(c_1)\n",
    "size2 = _size(c_2)\n",
    "\n",
    "supported_tokens = set(c_1.keys())\n",
    "supported_tokens &= c_2.keys()\n",
    "supported_tokens &= c_bg.keys()"
   ]
  },
  {
   "cell_type": "code",
   "execution_count": null,
   "metadata": {},
   "outputs": [],
   "source": [
    "scores = []\n",
    "for tok in supported_tokens:\n",
    "    score = _z_score(tok, c_1, c_2, c_bg, size1, size2, size3)\n",
    "    scores.append((tok, score))\n",
    "\n",
    "scores.sort(key=operator.itemgetter(1), reverse=True)"
   ]
  },
  {
   "cell_type": "code",
   "execution_count": null,
   "metadata": {},
   "outputs": [],
   "source": [
    "# The following words had higher odds of occurring for Asian patients\n",
    "scores[:50]"
   ]
  },
  {
   "cell_type": "code",
   "execution_count": null,
   "metadata": {},
   "outputs": [],
   "source": [
    "# The following words had higher odds of occurring for White patients\n",
    "scores[len(scores)-50: len(scores)]"
   ]
  },
  {
   "cell_type": "code",
   "execution_count": null,
   "metadata": {},
   "outputs": [],
   "source": [
    "with open('<Path to save this csv>', 'w') as f:\n",
    "    writer = csv.writer(f)\n",
    "    for val in scores:\n",
    "        writer.writerow([val])"
   ]
  },
  {
   "cell_type": "code",
   "execution_count": null,
   "metadata": {},
   "outputs": [],
   "source": [
    "c_1 = dict(sorted(Counter(choices(medical_Asian , k = len(medical_White)) + choices(nonmedical_Asian , k = len(nonmedical_White))).items(), key=lambda x: x[1], reverse=True))\n",
    "c_2 = dict(sorted(Counter(medical_White + nonmedical_White).items(), key=lambda x: x[1], reverse=True))\n",
    "\n",
    "size1 = _size(c_1)\n",
    "size2 = _size(c_2)\n",
    "\n",
    "supported_tokens = set(c_1.keys())\n",
    "supported_tokens &= c_2.keys()\n",
    "supported_tokens &= c_bg.keys()"
   ]
  },
  {
   "cell_type": "code",
   "execution_count": null,
   "metadata": {},
   "outputs": [],
   "source": [
    "CIs = []\n",
    "for tok in supported_tokens:\n",
    "    CI = _log_odds_CI(tok, c_1, c_2, c_bg, size1, size2, size3)\n",
    "    CIs.append((tok, CI))\n",
    "\n",
    "#ratios.sort(key=operator.itemgetter(1), reverse=True)\n",
    "\n",
    "#Sort to match the ordering of the z-scores above\n",
    "CIs_sorted = []\n",
    "CIs = dict(CIs)\n",
    "for tok in dict(scores).keys():\n",
    "    CIs_sorted.append((tok,CIs.get(tok)))\n",
    "\n",
    "    "
   ]
  },
  {
   "cell_type": "code",
   "execution_count": null,
   "metadata": {},
   "outputs": [],
   "source": [
    "CIs_sorted[:50]"
   ]
  },
  {
   "cell_type": "code",
   "execution_count": null,
   "metadata": {},
   "outputs": [],
   "source": [
    "CIs_sorted[len(CIs_sorted)-50: len(CIs_sorted)]"
   ]
  },
  {
   "cell_type": "code",
   "execution_count": null,
   "metadata": {},
   "outputs": [],
   "source": [
    "with open('<Path to save this csv>', 'w') as f:\n",
    "    writer = csv.writer(f)\n",
    "    for val in CIs_sorted:\n",
    "        writer.writerow([val])"
   ]
  },
  {
   "cell_type": "markdown",
   "metadata": {},
   "source": [
    "### Compare Other vs. White\n",
    "Account for uncertainty about the log odds ratios by using the z-score (logodds/standarddev(logodds)), per Monroe et al.: http://languagelog.ldc.upenn.edu/myl/Monroe.pdf\n",
    "\n",
    "Compare the z-score to some threshold (commonly, 1.96). If |z-score| > 1.96, the word is significant."
   ]
  },
  {
   "cell_type": "code",
   "execution_count": null,
   "metadata": {},
   "outputs": [],
   "source": [
    "c_1 = dict(sorted(Counter(choices(medical_Other , k = len(medical_White)) + choices(nonmedical_Other , k = len(nonmedical_White))).items(), key=lambda x: x[1], reverse=True))\n",
    "c_2 = dict(sorted(Counter(medical_White + nonmedical_White).items(), key=lambda x: x[1], reverse=True))\n",
    "\n",
    "size1 = _size(c_1)\n",
    "size2 = _size(c_2)\n",
    "\n",
    "supported_tokens = set(c_1.keys())\n",
    "supported_tokens &= c_2.keys()\n",
    "supported_tokens &= c_bg.keys()"
   ]
  },
  {
   "cell_type": "code",
   "execution_count": null,
   "metadata": {},
   "outputs": [],
   "source": [
    "scores = []\n",
    "for tok in supported_tokens:\n",
    "    score = _z_score(tok, c_1, c_2, c_bg, size1, size2, size3)\n",
    "    scores.append((tok, score))\n",
    "\n",
    "scores.sort(key=operator.itemgetter(1), reverse=True)"
   ]
  },
  {
   "cell_type": "code",
   "execution_count": null,
   "metadata": {},
   "outputs": [],
   "source": [
    "# The following words had higher odds of occurring for Other patients\n",
    "scores[:50]"
   ]
  },
  {
   "cell_type": "code",
   "execution_count": null,
   "metadata": {},
   "outputs": [],
   "source": [
    "# The following words had higher odds of occurring for White patients\n",
    "scores[len(scores)-50: len(scores)]"
   ]
  },
  {
   "cell_type": "code",
   "execution_count": null,
   "metadata": {},
   "outputs": [],
   "source": [
    "with open('<Path to save this csv>', 'w') as f:\n",
    "    writer = csv.writer(f)\n",
    "    for val in scores:\n",
    "        writer.writerow([val])"
   ]
  },
  {
   "cell_type": "code",
   "execution_count": null,
   "metadata": {},
   "outputs": [],
   "source": [
    "c_1 = dict(sorted(Counter(choices(medical_Other , k = len(medical_White)) + choices(nonmedical_Other , k = len(nonmedical_White))).items(), key=lambda x: x[1], reverse=True))\n",
    "c_2 = dict(sorted(Counter(medical_White + nonmedical_White).items(), key=lambda x: x[1], reverse=True))\n",
    "\n",
    "size1 = _size(c_1)\n",
    "size2 = _size(c_2)\n",
    "\n",
    "supported_tokens = set(c_1.keys())\n",
    "supported_tokens &= c_2.keys()\n",
    "supported_tokens &= c_bg.keys()"
   ]
  },
  {
   "cell_type": "code",
   "execution_count": null,
   "metadata": {},
   "outputs": [],
   "source": [
    "CIs = []\n",
    "for tok in supported_tokens:\n",
    "    CI = _log_odds_CI(tok, c_1, c_2, c_bg, size1, size2, size3)\n",
    "    CIs.append((tok, CI))\n",
    "\n",
    "#ratios.sort(key=operator.itemgetter(1), reverse=True)\n",
    "\n",
    "#Sort to match the ordering of the z-scores above\n",
    "CIs_sorted = []\n",
    "CIs = dict(CIs)\n",
    "for tok in dict(scores).keys():\n",
    "    CIs_sorted.append((tok,CIs.get(tok)))\n",
    "\n",
    "    "
   ]
  },
  {
   "cell_type": "code",
   "execution_count": null,
   "metadata": {},
   "outputs": [],
   "source": [
    "CIs_sorted[:50]"
   ]
  },
  {
   "cell_type": "code",
   "execution_count": null,
   "metadata": {},
   "outputs": [],
   "source": [
    "CIs_sorted[len(CIs_sorted)-50: len(CIs_sorted)]"
   ]
  },
  {
   "cell_type": "code",
   "execution_count": null,
   "metadata": {},
   "outputs": [],
   "source": [
    "with open('<Path to save this csv>', 'w') as f:\n",
    "    writer = csv.writer(f)\n",
    "    for val in CIs_sorted:\n",
    "        writer.writerow([val])"
   ]
  },
  {
   "cell_type": "markdown",
   "metadata": {},
   "source": [
    "# **2a:** Compute log OR for medical words"
   ]
  },
  {
   "cell_type": "markdown",
   "metadata": {},
   "source": [
    "### Redefine the background corpus to only include medical words"
   ]
  },
  {
   "cell_type": "code",
   "execution_count": null,
   "metadata": {},
   "outputs": [],
   "source": [
    "c_bg = dict(sorted(Counter(medical_words_list).items(), key=lambda x: x[1], reverse=True))\n",
    "size3 = _size(c_bg)"
   ]
  },
  {
   "cell_type": "markdown",
   "metadata": {},
   "source": [
    "### Compare for Black vs. White"
   ]
  },
  {
   "cell_type": "code",
   "execution_count": null,
   "metadata": {
    "scrolled": false
   },
   "outputs": [],
   "source": [
    "c_1 = dict(sorted(Counter(choices(medical_Black , k = len(medical_White))).items(), key=lambda x: x[1], reverse=True))\n",
    "c_2 = dict(sorted(Counter(medical_White).items(), key=lambda x: x[1], reverse=True))\n",
    "\n",
    "size1 = _size(c_1)\n",
    "size2 = _size(c_2)\n",
    "\n",
    "\n",
    "supported_tokens = set(list(c_1.keys()) +list(c_2.keys()))\n",
    "#supported_tokens &= c_2.keys()\n",
    "#supported_tokens &= c_bg.keys()\n",
    "\n",
    "ratios = []\n",
    "\n",
    "for tok in supported_tokens:\n",
    "    try:\n",
    "        rat = _log_odds(tok, c_1, c_2, c_bg, size1, size2, size3)\n",
    "        ratios.append((tok, rat))\n",
    "    except:\n",
    "        print(tok)\n",
    "\n",
    "ratios.sort(key=operator.itemgetter(1), reverse=True)"
   ]
  },
  {
   "cell_type": "code",
   "execution_count": null,
   "metadata": {},
   "outputs": [],
   "source": [
    "# The following medical words had higher odds of occurring for Black patients\n",
    "ratios[:50]"
   ]
  },
  {
   "cell_type": "code",
   "execution_count": null,
   "metadata": {},
   "outputs": [],
   "source": [
    "# The following medical words had higher odds of occurring for White patients\n",
    "ratios[len(ratios)-50: len(ratios)]"
   ]
  },
  {
   "cell_type": "code",
   "execution_count": null,
   "metadata": {},
   "outputs": [],
   "source": [
    "with open('<Path to save this csv>', 'w') as f:\n",
    "    writer = csv.writer(f)\n",
    "    for val in ratios:\n",
    "        writer.writerow([val])"
   ]
  },
  {
   "cell_type": "code",
   "execution_count": null,
   "metadata": {},
   "outputs": [],
   "source": []
  },
  {
   "cell_type": "markdown",
   "metadata": {},
   "source": [
    "### Compare Hispanic vs. White"
   ]
  },
  {
   "cell_type": "code",
   "execution_count": null,
   "metadata": {
    "scrolled": false
   },
   "outputs": [],
   "source": [
    "c_1 = dict(sorted(Counter(choices(medical_Hispanic , k = len(medical_White))).items(), key=lambda x: x[1], reverse=True))\n",
    "c_2 = dict(sorted(Counter(medical_White).items(), key=lambda x: x[1], reverse=True))\n",
    "\n",
    "size1 = _size(c_1)\n",
    "size2 = _size(c_2)\n",
    "\n",
    "\n",
    "supported_tokens = set(list(c_1.keys()) +list(c_2.keys()))\n",
    "#supported_tokens &= c_2.keys()\n",
    "#supported_tokens &= c_bg.keys()\n",
    "\n",
    "ratios = []\n",
    "\n",
    "for tok in supported_tokens:\n",
    "    try:\n",
    "        rat = _log_odds(tok, c_1, c_2, c_bg, size1, size2, size3)\n",
    "        ratios.append((tok, rat))\n",
    "    except:\n",
    "        print(tok)\n",
    "\n",
    "ratios.sort(key=operator.itemgetter(1), reverse=True)"
   ]
  },
  {
   "cell_type": "code",
   "execution_count": null,
   "metadata": {},
   "outputs": [],
   "source": [
    "# The following medical words had higher odds of occurring for Hispanic patients\n",
    "ratios[:50]"
   ]
  },
  {
   "cell_type": "code",
   "execution_count": null,
   "metadata": {},
   "outputs": [],
   "source": [
    "# The following medical words had higher odds of occurring for White patients\n",
    "ratios[len(ratios)-50: len(ratios)]"
   ]
  },
  {
   "cell_type": "code",
   "execution_count": null,
   "metadata": {},
   "outputs": [],
   "source": [
    "with open('<Path to save this csv>', 'w') as f:\n",
    "    writer = csv.writer(f)\n",
    "    for val in ratios:\n",
    "        writer.writerow([val])"
   ]
  },
  {
   "cell_type": "markdown",
   "metadata": {},
   "source": [
    "### Compare for Asian vs. White"
   ]
  },
  {
   "cell_type": "code",
   "execution_count": null,
   "metadata": {
    "scrolled": false
   },
   "outputs": [],
   "source": [
    "c_1 = dict(sorted(Counter(choices(medical_Asian , k = len(medical_White))).items(), key=lambda x: x[1], reverse=True))\n",
    "c_2 = dict(sorted(Counter(medical_White).items(), key=lambda x: x[1], reverse=True))\n",
    "\n",
    "size1 = _size(c_1)\n",
    "size2 = _size(c_2)\n",
    "\n",
    "\n",
    "supported_tokens = set(list(c_1.keys()) +list(c_2.keys()))\n",
    "#supported_tokens &= c_2.keys()\n",
    "#supported_tokens &= c_bg.keys()\n",
    "\n",
    "ratios = []\n",
    "\n",
    "for tok in supported_tokens:\n",
    "    try:\n",
    "        rat = _log_odds(tok, c_1, c_2, c_bg, size1, size2, size3)\n",
    "        ratios.append((tok, rat))\n",
    "    except:\n",
    "        print(tok)\n",
    "\n",
    "ratios.sort(key=operator.itemgetter(1), reverse=True)"
   ]
  },
  {
   "cell_type": "code",
   "execution_count": null,
   "metadata": {},
   "outputs": [],
   "source": [
    "# The following medical words had higher odds of occurring for Asian patients\n",
    "ratios[:50]"
   ]
  },
  {
   "cell_type": "code",
   "execution_count": null,
   "metadata": {},
   "outputs": [],
   "source": [
    "# The following medical words had higher odds of occurring for White patients\n",
    "ratios[len(ratios)-50: len(ratios)]"
   ]
  },
  {
   "cell_type": "code",
   "execution_count": null,
   "metadata": {},
   "outputs": [],
   "source": [
    "with open('<Path to save this csv>', 'w') as f:\n",
    "    writer = csv.writer(f)\n",
    "    for val in ratios:\n",
    "        writer.writerow([val])"
   ]
  },
  {
   "cell_type": "markdown",
   "metadata": {},
   "source": [
    "### Compare for Other vs. White"
   ]
  },
  {
   "cell_type": "code",
   "execution_count": null,
   "metadata": {
    "scrolled": false
   },
   "outputs": [],
   "source": [
    "c_1 = dict(sorted(Counter(choices(medical_Other , k = len(medical_White))).items(), key=lambda x: x[1], reverse=True))\n",
    "c_2 = dict(sorted(Counter(medical_White).items(), key=lambda x: x[1], reverse=True))\n",
    "\n",
    "size1 = _size(c_1)\n",
    "size2 = _size(c_2)\n",
    "\n",
    "\n",
    "supported_tokens = set(list(c_1.keys()) +list(c_2.keys()))\n",
    "#supported_tokens &= c_2.keys()\n",
    "#supported_tokens &= c_bg.keys()\n",
    "\n",
    "ratios = []\n",
    "\n",
    "for tok in supported_tokens:\n",
    "    try:\n",
    "        rat = _log_odds(tok, c_1, c_2, c_bg, size1, size2, size3)\n",
    "        ratios.append((tok, rat))\n",
    "    except:\n",
    "        print(tok)\n",
    "\n",
    "ratios.sort(key=operator.itemgetter(1), reverse=True)"
   ]
  },
  {
   "cell_type": "code",
   "execution_count": null,
   "metadata": {},
   "outputs": [],
   "source": [
    "# The following medical words had higher odds of occurring for Other patients\n",
    "ratios[:50]"
   ]
  },
  {
   "cell_type": "code",
   "execution_count": null,
   "metadata": {},
   "outputs": [],
   "source": [
    "# The following medical words had higher odds of occurring for White patients\n",
    "ratios[len(ratios)-50: len(ratios)]"
   ]
  },
  {
   "cell_type": "code",
   "execution_count": null,
   "metadata": {},
   "outputs": [],
   "source": [
    "with open('<Path to save this csv>', 'w') as f:\n",
    "    writer = csv.writer(f)\n",
    "    for val in ratios:\n",
    "        writer.writerow([val])"
   ]
  },
  {
   "cell_type": "code",
   "execution_count": null,
   "metadata": {},
   "outputs": [],
   "source": []
  },
  {
   "cell_type": "code",
   "execution_count": null,
   "metadata": {},
   "outputs": [],
   "source": []
  },
  {
   "cell_type": "markdown",
   "metadata": {},
   "source": [
    "# 2b: Compute z-scores and 95% confidence intervals for the log odds ratios for medical words"
   ]
  },
  {
   "cell_type": "markdown",
   "metadata": {},
   "source": [
    "### Compare Black vs. White\n",
    "Account for uncertainty about the log odds ratios by using the z-score (logodds/standarddev(logodds)), per Monroe et al.: http://languagelog.ldc.upenn.edu/myl/Monroe.pdf\n",
    "\n",
    "Compare the z-score to some threshold (commonly, 1.96). If |z-score| > 1.96, the word is significant."
   ]
  },
  {
   "cell_type": "code",
   "execution_count": null,
   "metadata": {},
   "outputs": [],
   "source": [
    "c_1 = dict(sorted(Counter(choices(medical_Black , k = len(medical_White))).items(), key=lambda x: x[1], reverse=True))\n",
    "c_2 = dict(sorted(Counter(medical_White).items(), key=lambda x: x[1], reverse=True))\n",
    "\n",
    "size1 = _size(c_1)\n",
    "size2 = _size(c_2)\n",
    "\n",
    "supported_tokens = set(c_1.keys())\n",
    "supported_tokens &= c_2.keys()\n",
    "supported_tokens &= c_bg.keys()"
   ]
  },
  {
   "cell_type": "code",
   "execution_count": null,
   "metadata": {},
   "outputs": [],
   "source": [
    "scores = []\n",
    "for tok in supported_tokens:\n",
    "    score = _z_score(tok, c_1, c_2, c_bg, size1, size2, size3)\n",
    "    scores.append((tok, score))\n",
    "\n",
    "scores.sort(key=operator.itemgetter(1), reverse=True)"
   ]
  },
  {
   "cell_type": "code",
   "execution_count": null,
   "metadata": {},
   "outputs": [],
   "source": [
    "# words with z-scores > 1.96 had higher odds of occuring for Black patients at 5% level of significance\n",
    "scores[:50]"
   ]
  },
  {
   "cell_type": "code",
   "execution_count": null,
   "metadata": {},
   "outputs": [],
   "source": [
    "# words with z-scores < -1.96 had higher odds of occuring for White patients at 5% level of significance\n",
    "scores[len(scores)-50: len(scores)]"
   ]
  },
  {
   "cell_type": "code",
   "execution_count": null,
   "metadata": {},
   "outputs": [],
   "source": [
    "with open('<Path to save this csv>', 'w') as f:\n",
    "    writer = csv.writer(f)\n",
    "    for val in scores:\n",
    "        writer.writerow([val])"
   ]
  },
  {
   "cell_type": "code",
   "execution_count": null,
   "metadata": {},
   "outputs": [],
   "source": [
    "c_1 = dict(sorted(Counter(choices(medical_Black , k = len(medical_White))).items(), key=lambda x: x[1], reverse=True))\n",
    "c_2 = dict(sorted(Counter(medical_White).items(), key=lambda x: x[1], reverse=True))\n",
    "\n",
    "size1 = _size(c_1)\n",
    "size2 = _size(c_2)\n",
    "\n",
    "supported_tokens = set(c_1.keys())\n",
    "supported_tokens &= c_2.keys()\n",
    "supported_tokens &= c_bg.keys()"
   ]
  },
  {
   "cell_type": "code",
   "execution_count": null,
   "metadata": {},
   "outputs": [],
   "source": [
    "CIs = []\n",
    "for tok in supported_tokens:\n",
    "    CI = _log_odds_CI(tok, c_1, c_2, c_bg, size1, size2, size3)\n",
    "    CIs.append((tok, CI))\n",
    "\n",
    "#ratios.sort(key=operator.itemgetter(1), reverse=True)\n",
    "\n",
    "#Sort to match the ordering of the z-scores above\n",
    "CIs_sorted = []\n",
    "CIs = dict(CIs)\n",
    "for tok in dict(scores).keys():\n",
    "    CIs_sorted.append((tok,CIs.get(tok)))\n",
    "\n",
    "    "
   ]
  },
  {
   "cell_type": "code",
   "execution_count": null,
   "metadata": {},
   "outputs": [],
   "source": [
    "CIs_sorted[:50]"
   ]
  },
  {
   "cell_type": "code",
   "execution_count": null,
   "metadata": {},
   "outputs": [],
   "source": [
    "CIs_sorted[len(CIs_sorted)-50: len(CIs_sorted)]"
   ]
  },
  {
   "cell_type": "code",
   "execution_count": null,
   "metadata": {},
   "outputs": [],
   "source": [
    "with open('<Path to save this csv>', 'w') as f:\n",
    "    writer = csv.writer(f)\n",
    "    for val in CIs_sorted:\n",
    "        writer.writerow([val])"
   ]
  },
  {
   "cell_type": "code",
   "execution_count": null,
   "metadata": {},
   "outputs": [],
   "source": []
  },
  {
   "cell_type": "markdown",
   "metadata": {},
   "source": [
    "### Compare Hispanic vs. White"
   ]
  },
  {
   "cell_type": "code",
   "execution_count": null,
   "metadata": {},
   "outputs": [],
   "source": [
    "c_1 = dict(sorted(Counter(choices(medical_Hispanic , k = len(medical_White))).items(), key=lambda x: x[1], reverse=True))\n",
    "c_2 = dict(sorted(Counter(medical_White).items(), key=lambda x: x[1], reverse=True))\n",
    "\n",
    "size1 = _size(c_1)\n",
    "size2 = _size(c_2)\n",
    "\n",
    "supported_tokens = set(c_1.keys())\n",
    "supported_tokens &= c_2.keys()\n",
    "supported_tokens &= c_bg.keys()"
   ]
  },
  {
   "cell_type": "code",
   "execution_count": null,
   "metadata": {},
   "outputs": [],
   "source": [
    "scores = []\n",
    "for tok in supported_tokens:\n",
    "    score = _z_score(tok, c_1, c_2, c_bg, size1, size2, size3)\n",
    "    scores.append((tok, score))\n",
    "\n",
    "scores.sort(key=operator.itemgetter(1), reverse=True)"
   ]
  },
  {
   "cell_type": "code",
   "execution_count": null,
   "metadata": {},
   "outputs": [],
   "source": [
    "# words with z-scores > 1.96 had higher odds of occuring for Hispanic patients at 5% level of significance\n",
    "scores[:50]"
   ]
  },
  {
   "cell_type": "code",
   "execution_count": null,
   "metadata": {},
   "outputs": [],
   "source": [
    "# words with z-scores < -1.96 had higher odds of occuring for White patients at 5% level of significance\n",
    "scores[len(scores)-50: len(scores)]"
   ]
  },
  {
   "cell_type": "code",
   "execution_count": null,
   "metadata": {},
   "outputs": [],
   "source": [
    "with open('<Path to save this csv>', 'w') as f:\n",
    "    writer = csv.writer(f)\n",
    "    for val in scores:\n",
    "        writer.writerow([val])"
   ]
  },
  {
   "cell_type": "code",
   "execution_count": null,
   "metadata": {},
   "outputs": [],
   "source": [
    "c_1 = dict(sorted(Counter(choices(medical_Hispanic , k = len(medical_White))).items(), key=lambda x: x[1], reverse=True))\n",
    "c_2 = dict(sorted(Counter(medical_White).items(), key=lambda x: x[1], reverse=True))\n",
    "\n",
    "size1 = _size(c_1)\n",
    "size2 = _size(c_2)\n",
    "\n",
    "supported_tokens = set(c_1.keys())\n",
    "supported_tokens &= c_2.keys()\n",
    "supported_tokens &= c_bg.keys()"
   ]
  },
  {
   "cell_type": "code",
   "execution_count": null,
   "metadata": {},
   "outputs": [],
   "source": [
    "CIs = []\n",
    "for tok in supported_tokens:\n",
    "    CI = _log_odds_CI(tok, c_1, c_2, c_bg, size1, size2, size3)\n",
    "    CIs.append((tok, CI))\n",
    "\n",
    "#ratios.sort(key=operator.itemgetter(1), reverse=True)\n",
    "\n",
    "#Sort to match the ordering of the z-scores above\n",
    "CIs_sorted = []\n",
    "CIs = dict(CIs)\n",
    "for tok in dict(scores).keys():\n",
    "    CIs_sorted.append((tok,CIs.get(tok)))\n",
    "\n",
    "    "
   ]
  },
  {
   "cell_type": "code",
   "execution_count": null,
   "metadata": {},
   "outputs": [],
   "source": [
    "CIs_sorted[:50]"
   ]
  },
  {
   "cell_type": "code",
   "execution_count": null,
   "metadata": {},
   "outputs": [],
   "source": [
    "CIs_sorted[len(CIs_sorted)-50: len(CIs_sorted)]"
   ]
  },
  {
   "cell_type": "code",
   "execution_count": null,
   "metadata": {},
   "outputs": [],
   "source": [
    "with open('<Path to save this csv>', 'w') as f:\n",
    "    writer = csv.writer(f)\n",
    "    for val in CIs_sorted:\n",
    "        writer.writerow([val])"
   ]
  },
  {
   "cell_type": "markdown",
   "metadata": {},
   "source": [
    "### Compare Asian vs. White\n",
    "Account for uncertainty about the log odds ratios by using the z-score (logodds/standarddev(logodds)), per Monroe et al.: http://languagelog.ldc.upenn.edu/myl/Monroe.pdf\n",
    "\n",
    "Compare the z-score to some threshold (commonly, 1.96). If |z-score| > 1.96, the word is significant."
   ]
  },
  {
   "cell_type": "code",
   "execution_count": null,
   "metadata": {},
   "outputs": [],
   "source": [
    "c_1 = dict(sorted(Counter(choices(medical_Asian , k = len(medical_White))).items(), key=lambda x: x[1], reverse=True))\n",
    "c_2 = dict(sorted(Counter(medical_White).items(), key=lambda x: x[1], reverse=True))\n",
    "\n",
    "size1 = _size(c_1)\n",
    "size2 = _size(c_2)\n",
    "\n",
    "supported_tokens = set(c_1.keys())\n",
    "supported_tokens &= c_2.keys()\n",
    "supported_tokens &= c_bg.keys()"
   ]
  },
  {
   "cell_type": "code",
   "execution_count": null,
   "metadata": {},
   "outputs": [],
   "source": [
    "scores = []\n",
    "for tok in supported_tokens:\n",
    "    score = _z_score(tok, c_1, c_2, c_bg, size1, size2, size3)\n",
    "    scores.append((tok, score))\n",
    "\n",
    "scores.sort(key=operator.itemgetter(1), reverse=True)"
   ]
  },
  {
   "cell_type": "code",
   "execution_count": null,
   "metadata": {},
   "outputs": [],
   "source": [
    "# words with z-scores > 1.96 had higher odds of occuring for Asian patients at 5% level of significance\n",
    "scores[:50]"
   ]
  },
  {
   "cell_type": "code",
   "execution_count": null,
   "metadata": {},
   "outputs": [],
   "source": [
    "# words with z-scores < -1.96 had higher odds of occuring for White patients at 5% level of significance\n",
    "scores[len(scores)-50: len(scores)]"
   ]
  },
  {
   "cell_type": "code",
   "execution_count": null,
   "metadata": {},
   "outputs": [],
   "source": [
    "with open('<Path to save this csv>', 'w') as f:\n",
    "    writer = csv.writer(f)\n",
    "    for val in scores:\n",
    "        writer.writerow([val])"
   ]
  },
  {
   "cell_type": "code",
   "execution_count": null,
   "metadata": {},
   "outputs": [],
   "source": [
    "c_1 = dict(sorted(Counter(choices(medical_Asian , k = len(medical_White))).items(), key=lambda x: x[1], reverse=True))\n",
    "c_2 = dict(sorted(Counter(medical_White).items(), key=lambda x: x[1], reverse=True))\n",
    "\n",
    "size1 = _size(c_1)\n",
    "size2 = _size(c_2)\n",
    "\n",
    "supported_tokens = set(c_1.keys())\n",
    "supported_tokens &= c_2.keys()\n",
    "supported_tokens &= c_bg.keys()"
   ]
  },
  {
   "cell_type": "code",
   "execution_count": null,
   "metadata": {},
   "outputs": [],
   "source": [
    "CIs = []\n",
    "for tok in supported_tokens:\n",
    "    CI = _log_odds_CI(tok, c_1, c_2, c_bg, size1, size2, size3)\n",
    "    CIs.append((tok, CI))\n",
    "\n",
    "#ratios.sort(key=operator.itemgetter(1), reverse=True)\n",
    "\n",
    "#Sort to match the ordering of the z-scores above\n",
    "CIs_sorted = []\n",
    "CIs = dict(CIs)\n",
    "for tok in dict(scores).keys():\n",
    "    CIs_sorted.append((tok,CIs.get(tok)))\n",
    "\n",
    "    "
   ]
  },
  {
   "cell_type": "code",
   "execution_count": null,
   "metadata": {},
   "outputs": [],
   "source": [
    "CIs_sorted[:50]"
   ]
  },
  {
   "cell_type": "code",
   "execution_count": null,
   "metadata": {},
   "outputs": [],
   "source": [
    "CIs_sorted[len(CIs_sorted)-50: len(CIs_sorted)]"
   ]
  },
  {
   "cell_type": "code",
   "execution_count": null,
   "metadata": {},
   "outputs": [],
   "source": [
    "with open('<Path to save this csv>', 'w') as f:\n",
    "    writer = csv.writer(f)\n",
    "    for val in CIs_sorted:\n",
    "        writer.writerow([val])"
   ]
  },
  {
   "cell_type": "markdown",
   "metadata": {},
   "source": [
    "### Compare Other vs. White\n",
    "Account for uncertainty about the log odds ratios by using the z-score (logodds/standarddev(logodds)), per Monroe et al.: http://languagelog.ldc.upenn.edu/myl/Monroe.pdf\n",
    "\n",
    "Compare the z-score to some threshold (commonly, 1.96). If |z-score| > 1.96, the word is significant."
   ]
  },
  {
   "cell_type": "code",
   "execution_count": null,
   "metadata": {},
   "outputs": [],
   "source": [
    "c_1 = dict(sorted(Counter(choices(medical_Other , k = len(medical_White))).items(), key=lambda x: x[1], reverse=True))\n",
    "c_2 = dict(sorted(Counter(medical_White).items(), key=lambda x: x[1], reverse=True))\n",
    "\n",
    "size1 = _size(c_1)\n",
    "size2 = _size(c_2)\n",
    "\n",
    "supported_tokens = set(c_1.keys())\n",
    "supported_tokens &= c_2.keys()\n",
    "supported_tokens &= c_bg.keys()"
   ]
  },
  {
   "cell_type": "code",
   "execution_count": null,
   "metadata": {},
   "outputs": [],
   "source": [
    "scores = []\n",
    "for tok in supported_tokens:\n",
    "    score = _z_score(tok, c_1, c_2, c_bg, size1, size2, size3)\n",
    "    scores.append((tok, score))\n",
    "\n",
    "scores.sort(key=operator.itemgetter(1), reverse=True)"
   ]
  },
  {
   "cell_type": "code",
   "execution_count": null,
   "metadata": {},
   "outputs": [],
   "source": [
    "# words with z-scores > 1.96 had higher odds of occuring for Other patients at 5% level of significance\n",
    "scores[:50]"
   ]
  },
  {
   "cell_type": "code",
   "execution_count": null,
   "metadata": {},
   "outputs": [],
   "source": [
    "# words with z-scores < -1.96 had higher odds of occuring for White patients at 5% level of significance\n",
    "scores[len(scores)-50: len(scores)]"
   ]
  },
  {
   "cell_type": "code",
   "execution_count": null,
   "metadata": {},
   "outputs": [],
   "source": [
    "with open('<Path to save this csv>', 'w') as f:\n",
    "    writer = csv.writer(f)\n",
    "    for val in scores:\n",
    "        writer.writerow([val])"
   ]
  },
  {
   "cell_type": "code",
   "execution_count": null,
   "metadata": {},
   "outputs": [],
   "source": [
    "c_1 = dict(sorted(Counter(choices(medical_Other , k = len(medical_White))).items(), key=lambda x: x[1], reverse=True))\n",
    "c_2 = dict(sorted(Counter(medical_White).items(), key=lambda x: x[1], reverse=True))\n",
    "\n",
    "size1 = _size(c_1)\n",
    "size2 = _size(c_2)\n",
    "\n",
    "supported_tokens = set(c_1.keys())\n",
    "supported_tokens &= c_2.keys()\n",
    "supported_tokens &= c_bg.keys()"
   ]
  },
  {
   "cell_type": "code",
   "execution_count": null,
   "metadata": {},
   "outputs": [],
   "source": [
    "CIs = []\n",
    "for tok in supported_tokens:\n",
    "    CI = _log_odds_CI(tok, c_1, c_2, c_bg, size1, size2, size3)\n",
    "    CIs.append((tok, CI))\n",
    "\n",
    "#ratios.sort(key=operator.itemgetter(1), reverse=True)\n",
    "\n",
    "#Sort to match the ordering of the z-scores above\n",
    "CIs_sorted = []\n",
    "CIs = dict(CIs)\n",
    "for tok in dict(scores).keys():\n",
    "    CIs_sorted.append((tok,CIs.get(tok)))\n",
    "\n",
    "    "
   ]
  },
  {
   "cell_type": "code",
   "execution_count": null,
   "metadata": {},
   "outputs": [],
   "source": [
    "CIs_sorted[:50]"
   ]
  },
  {
   "cell_type": "code",
   "execution_count": null,
   "metadata": {},
   "outputs": [],
   "source": [
    "CIs_sorted[len(CIs_sorted)-50: len(CIs_sorted)]"
   ]
  },
  {
   "cell_type": "code",
   "execution_count": null,
   "metadata": {},
   "outputs": [],
   "source": [
    "with open('<Path to save this csv>', 'w') as f:\n",
    "    writer = csv.writer(f)\n",
    "    for val in CIs_sorted:\n",
    "        writer.writerow([val])"
   ]
  },
  {
   "cell_type": "code",
   "execution_count": null,
   "metadata": {},
   "outputs": [],
   "source": []
  },
  {
   "cell_type": "markdown",
   "metadata": {},
   "source": [
    "# **3a:** Compute log OR for nonmedical words"
   ]
  },
  {
   "cell_type": "markdown",
   "metadata": {},
   "source": [
    "### Redefine the background corpus to only include nonmedical words"
   ]
  },
  {
   "cell_type": "code",
   "execution_count": null,
   "metadata": {},
   "outputs": [],
   "source": [
    "c_bg = dict(sorted(Counter(nonmedical_words_list).items(), key=lambda x: x[1], reverse=True))\n",
    "size3 = _size(c_bg)"
   ]
  },
  {
   "cell_type": "markdown",
   "metadata": {},
   "source": [
    "### Compare nonmedical words for Black vs. White"
   ]
  },
  {
   "cell_type": "code",
   "execution_count": null,
   "metadata": {},
   "outputs": [],
   "source": [
    "c_1 = dict(sorted(Counter(choices(nonmedical_Black , k = len(nonmedical_White))).items(), key=lambda x: x[1], reverse=True))\n",
    "c_2 = dict(sorted(Counter(nonmedical_White).items(), key=lambda x: x[1], reverse=True))\n",
    "\n",
    "size1 = _size(c_1)\n",
    "size2 = _size(c_2)\n",
    "\n",
    "\n",
    "supported_tokens = set(list(c_1.keys()) +list(c_2.keys()))\n",
    "#supported_tokens &= c_2.keys()\n",
    "#supported_tokens &= c_bg.keys()\n",
    "\n",
    "ratios = []\n",
    "\n",
    "for tok in supported_tokens:\n",
    "    try:\n",
    "        rat = _log_odds(tok, c_1, c_2, c_bg, size1, size2, size3)\n",
    "        ratios.append((tok, rat))\n",
    "    except:\n",
    "        print(tok)\n",
    "\n",
    "ratios.sort(key=operator.itemgetter(1), reverse=True)"
   ]
  },
  {
   "cell_type": "code",
   "execution_count": null,
   "metadata": {},
   "outputs": [],
   "source": [
    "# The following nonmedical words had higher odds of occurring for Black patients\n",
    "ratios[:50]"
   ]
  },
  {
   "cell_type": "code",
   "execution_count": null,
   "metadata": {},
   "outputs": [],
   "source": [
    "# The following nonmedical words had higher odds of occurring for White patients \n",
    "ratios[len(ratios)-50: len(ratios)]"
   ]
  },
  {
   "cell_type": "code",
   "execution_count": null,
   "metadata": {},
   "outputs": [],
   "source": [
    "with open('<Path to save this csv>', 'w') as f:\n",
    "    writer = csv.writer(f)\n",
    "    for val in ratios:\n",
    "        writer.writerow([val])"
   ]
  },
  {
   "cell_type": "markdown",
   "metadata": {},
   "source": [
    "### Compare nonmedical words for Hispanic vs. White"
   ]
  },
  {
   "cell_type": "code",
   "execution_count": null,
   "metadata": {},
   "outputs": [],
   "source": [
    "c_1 = dict(sorted(Counter(choices(nonmedical_Hispanic , k = len(nonmedical_White))).items(), key=lambda x: x[1], reverse=True))\n",
    "c_2 = dict(sorted(Counter(nonmedical_White).items(), key=lambda x: x[1], reverse=True))\n",
    "\n",
    "size1 = _size(c_1)\n",
    "size2 = _size(c_2)\n",
    "\n",
    "\n",
    "supported_tokens = set(list(c_1.keys()) +list(c_2.keys()))\n",
    "#supported_tokens &= c_2.keys()\n",
    "#supported_tokens &= c_bg.keys()\n",
    "\n",
    "ratios = []\n",
    "\n",
    "for tok in supported_tokens:\n",
    "    try:\n",
    "        rat = _log_odds(tok, c_1, c_2, c_bg, size1, size2, size3)\n",
    "        ratios.append((tok, rat))\n",
    "    except:\n",
    "        print(tok)\n",
    "\n",
    "ratios.sort(key=operator.itemgetter(1), reverse=True)"
   ]
  },
  {
   "cell_type": "code",
   "execution_count": null,
   "metadata": {},
   "outputs": [],
   "source": [
    "# The following nonmedical words had higher odds of occurring for Hispanic patients\n",
    "ratios[:50]"
   ]
  },
  {
   "cell_type": "code",
   "execution_count": null,
   "metadata": {},
   "outputs": [],
   "source": [
    "# The following nonmedical words had higher odds of occurring for White patients \n",
    "ratios[len(ratios)-50: len(ratios)]"
   ]
  },
  {
   "cell_type": "code",
   "execution_count": null,
   "metadata": {},
   "outputs": [],
   "source": [
    "with open('<Path to save this csv>', 'w') as f:\n",
    "    writer = csv.writer(f)\n",
    "    for val in ratios:\n",
    "        writer.writerow([val])"
   ]
  },
  {
   "cell_type": "markdown",
   "metadata": {},
   "source": [
    "### Compare nonmedical words for Asian vs. White"
   ]
  },
  {
   "cell_type": "code",
   "execution_count": null,
   "metadata": {},
   "outputs": [],
   "source": [
    "c_1 = dict(sorted(Counter(choices(nonmedical_Asian , k = len(nonmedical_White))).items(), key=lambda x: x[1], reverse=True))\n",
    "c_2 = dict(sorted(Counter(nonmedical_White).items(), key=lambda x: x[1], reverse=True))\n",
    "\n",
    "size1 = _size(c_1)\n",
    "size2 = _size(c_2)\n",
    "\n",
    "\n",
    "supported_tokens = set(list(c_1.keys()) +list(c_2.keys()))\n",
    "#supported_tokens &= c_2.keys()\n",
    "#supported_tokens &= c_bg.keys()\n",
    "\n",
    "ratios = []\n",
    "\n",
    "for tok in supported_tokens:\n",
    "    try:\n",
    "        rat = _log_odds(tok, c_1, c_2, c_bg, size1, size2, size3)\n",
    "        ratios.append((tok, rat))\n",
    "    except:\n",
    "        print(tok)\n",
    "\n",
    "ratios.sort(key=operator.itemgetter(1), reverse=True)"
   ]
  },
  {
   "cell_type": "code",
   "execution_count": null,
   "metadata": {},
   "outputs": [],
   "source": [
    "# The following nonmedical words had higher odds of occurring for Asian patients\n",
    "ratios[:50]"
   ]
  },
  {
   "cell_type": "code",
   "execution_count": null,
   "metadata": {},
   "outputs": [],
   "source": [
    "# The following nonmedical words had higher odds of occurring for White patients \n",
    "ratios[len(ratios)-50: len(ratios)]"
   ]
  },
  {
   "cell_type": "code",
   "execution_count": null,
   "metadata": {},
   "outputs": [],
   "source": [
    "with open('<Path to save this csv>', 'w') as f:\n",
    "    writer = csv.writer(f)\n",
    "    for val in ratios:\n",
    "        writer.writerow([val])"
   ]
  },
  {
   "cell_type": "markdown",
   "metadata": {},
   "source": [
    "### Compare nonmedical words for Other vs. White"
   ]
  },
  {
   "cell_type": "code",
   "execution_count": null,
   "metadata": {},
   "outputs": [],
   "source": [
    "c_1 = dict(sorted(Counter(choices(nonmedical_Other , k = len(nonmedical_White))).items(), key=lambda x: x[1], reverse=True))\n",
    "c_2 = dict(sorted(Counter(nonmedical_White).items(), key=lambda x: x[1], reverse=True))\n",
    "\n",
    "size1 = _size(c_1)\n",
    "size2 = _size(c_2)\n",
    "\n",
    "\n",
    "supported_tokens = set(list(c_1.keys()) +list(c_2.keys()))\n",
    "#supported_tokens &= c_2.keys()\n",
    "#supported_tokens &= c_bg.keys()\n",
    "\n",
    "ratios = []\n",
    "\n",
    "for tok in supported_tokens:\n",
    "    try:\n",
    "        rat = _log_odds(tok, c_1, c_2, c_bg, size1, size2, size3)\n",
    "        ratios.append((tok, rat))\n",
    "    except:\n",
    "        print(tok)\n",
    "\n",
    "ratios.sort(key=operator.itemgetter(1), reverse=True)"
   ]
  },
  {
   "cell_type": "code",
   "execution_count": null,
   "metadata": {},
   "outputs": [],
   "source": [
    "# The following nonmedical words had higher odds of occurring for Other patients\n",
    "ratios[:50]"
   ]
  },
  {
   "cell_type": "code",
   "execution_count": null,
   "metadata": {},
   "outputs": [],
   "source": [
    "# The following nonmedical words had higher odds of occurring for White patients \n",
    "ratios[len(ratios)-50: len(ratios)]"
   ]
  },
  {
   "cell_type": "code",
   "execution_count": null,
   "metadata": {},
   "outputs": [],
   "source": [
    "with open('<Path to save this csv>', 'w') as f:\n",
    "    writer = csv.writer(f)\n",
    "    for val in ratios:\n",
    "        writer.writerow([val])"
   ]
  },
  {
   "cell_type": "code",
   "execution_count": null,
   "metadata": {},
   "outputs": [],
   "source": []
  },
  {
   "cell_type": "markdown",
   "metadata": {},
   "source": [
    "# 3b: Compute z-scores and 95% confidence intervals for the log odds ratios for nonmedical words"
   ]
  },
  {
   "cell_type": "markdown",
   "metadata": {},
   "source": [
    "### Black vs White"
   ]
  },
  {
   "cell_type": "code",
   "execution_count": null,
   "metadata": {},
   "outputs": [],
   "source": [
    "c_1 = dict(sorted(Counter(choices(nonmedical_Black , k = len(nonmedical_White))).items(), key=lambda x: x[1], reverse=True))\n",
    "c_2 = dict(sorted(Counter(nonmedical_White).items(), key=lambda x: x[1], reverse=True))\n",
    "\n",
    "size1 = _size(c_1)\n",
    "size2 = _size(c_2)\n",
    "\n",
    "\n",
    "supported_tokens = set(list(c_1.keys()) +list(c_2.keys()))\n",
    "#supported_tokens &= c_2.keys()\n",
    "#supported_tokens &= c_bg.keys()\n",
    "\n",
    "scores = []\n",
    "\n",
    "for tok in supported_tokens:\n",
    "    try:\n",
    "        score = _z_score(tok, c_1, c_2, c_bg, size1, size2, size3)\n",
    "        scores.append((tok, score))\n",
    "    except:\n",
    "        print(tok)\n",
    "\n",
    "scores.sort(key=operator.itemgetter(1), reverse=True)"
   ]
  },
  {
   "cell_type": "code",
   "execution_count": null,
   "metadata": {},
   "outputs": [],
   "source": [
    "# words with z-scores > 1.96 had higher odds of occuring for Black patients at 5% level of significance\n",
    "scores[:50]"
   ]
  },
  {
   "cell_type": "code",
   "execution_count": null,
   "metadata": {},
   "outputs": [],
   "source": [
    "# words with z-scores < -1.96 had higher odds of occuring for White patients at 5% level of significance\n",
    "scores[len(scores)-50: len(scores)]"
   ]
  },
  {
   "cell_type": "code",
   "execution_count": null,
   "metadata": {},
   "outputs": [],
   "source": [
    "with open('<Path to save this csv>', 'w') as f:\n",
    "    writer = csv.writer(f)\n",
    "    for val in scores:\n",
    "        writer.writerow([val])"
   ]
  },
  {
   "cell_type": "code",
   "execution_count": null,
   "metadata": {},
   "outputs": [],
   "source": [
    "c_1 = dict(sorted(Counter(choices(nonmedical_Black , k = len(nonmedical_White))).items(), key=lambda x: x[1], reverse=True))\n",
    "c_2 = dict(sorted(Counter(nonmedical_White).items(), key=lambda x: x[1], reverse=True))\n",
    "\n",
    "size1 = _size(c_1)\n",
    "size2 = _size(c_2)\n",
    "\n",
    "\n",
    "supported_tokens = set(list(c_1.keys()) +list(c_2.keys()))\n",
    "#supported_tokens &= c_2.keys()\n",
    "#supported_tokens &= c_bg.keys()"
   ]
  },
  {
   "cell_type": "code",
   "execution_count": null,
   "metadata": {},
   "outputs": [],
   "source": [
    "CIs = []\n",
    "for tok in supported_tokens:\n",
    "    CI = _log_odds_CI(tok, c_1, c_2, c_bg, size1, size2, size3)\n",
    "    CIs.append((tok, CI))\n",
    "\n",
    "#ratios.sort(key=operator.itemgetter(1), reverse=True)\n",
    "\n",
    "#Sort to match the ordering of the z-scores above\n",
    "CIs_sorted = []\n",
    "CIs = dict(CIs)\n",
    "for tok in dict(scores).keys():\n",
    "    CIs_sorted.append((tok,CIs.get(tok)))\n",
    "\n",
    "    "
   ]
  },
  {
   "cell_type": "code",
   "execution_count": null,
   "metadata": {},
   "outputs": [],
   "source": [
    "CIs_sorted[:50]"
   ]
  },
  {
   "cell_type": "code",
   "execution_count": null,
   "metadata": {},
   "outputs": [],
   "source": [
    "CIs_sorted[len(CIs_sorted)-50: len(CIs_sorted)]"
   ]
  },
  {
   "cell_type": "code",
   "execution_count": null,
   "metadata": {},
   "outputs": [],
   "source": [
    "with open('<Path to save this csv>', 'w') as f:\n",
    "    writer = csv.writer(f)\n",
    "    for val in CIs_sorted:\n",
    "        writer.writerow([val])"
   ]
  },
  {
   "cell_type": "markdown",
   "metadata": {},
   "source": [
    "### Hispanic vs White"
   ]
  },
  {
   "cell_type": "code",
   "execution_count": null,
   "metadata": {},
   "outputs": [],
   "source": [
    "c_1 = dict(sorted(Counter(choices(nonmedical_Hispanic , k = len(nonmedical_White))).items(), key=lambda x: x[1], reverse=True))\n",
    "c_2 = dict(sorted(Counter(nonmedical_White).items(), key=lambda x: x[1], reverse=True))\n",
    "\n",
    "size1 = _size(c_1)\n",
    "size2 = _size(c_2)\n",
    "\n",
    "\n",
    "supported_tokens = set(list(c_1.keys()) +list(c_2.keys()))\n",
    "#supported_tokens &= c_2.keys()\n",
    "#supported_tokens &= c_bg.keys()\n",
    "\n",
    "scores = []\n",
    "\n",
    "for tok in supported_tokens:\n",
    "    try:\n",
    "        score = _z_score(tok, c_1, c_2, c_bg, size1, size2, size3)\n",
    "        scores.append((tok, score))\n",
    "    except:\n",
    "        print(tok)\n",
    "\n",
    "scores.sort(key=operator.itemgetter(1), reverse=True)"
   ]
  },
  {
   "cell_type": "code",
   "execution_count": null,
   "metadata": {},
   "outputs": [],
   "source": [
    "# words with z-scores > 1.96 had higher odds of occuring for Hispanic patients at 5% level of significance\n",
    "scores[:50]"
   ]
  },
  {
   "cell_type": "code",
   "execution_count": null,
   "metadata": {},
   "outputs": [],
   "source": [
    "# words with z-scores < -1.96 had higher odds of occuring for White patients at 5% level of significance\n",
    "scores[len(scores)-50: len(scores)]"
   ]
  },
  {
   "cell_type": "code",
   "execution_count": null,
   "metadata": {},
   "outputs": [],
   "source": [
    "with open('<Path to save this csv>', 'w') as f:\n",
    "    writer = csv.writer(f)\n",
    "    for val in scores:\n",
    "        writer.writerow([val])"
   ]
  },
  {
   "cell_type": "code",
   "execution_count": null,
   "metadata": {},
   "outputs": [],
   "source": [
    "c_1 = dict(sorted(Counter(choices(nonmedical_Hispanic, k = len(nonmedical_White))).items(), key=lambda x: x[1], reverse=True))\n",
    "c_2 = dict(sorted(Counter(nonmedical_White).items(), key=lambda x: x[1], reverse=True))\n",
    "\n",
    "size1 = _size(c_1)\n",
    "size2 = _size(c_2)\n",
    "\n",
    "\n",
    "supported_tokens = set(list(c_1.keys()) +list(c_2.keys()))\n",
    "#supported_tokens &= c_2.keys()\n",
    "#supported_tokens &= c_bg.keys()"
   ]
  },
  {
   "cell_type": "code",
   "execution_count": null,
   "metadata": {},
   "outputs": [],
   "source": [
    "CIs = []\n",
    "for tok in supported_tokens:\n",
    "    CI = _log_odds_CI(tok, c_1, c_2, c_bg, size1, size2, size3)\n",
    "    CIs.append((tok, CI))\n",
    "\n",
    "#ratios.sort(key=operator.itemgetter(1), reverse=True)\n",
    "\n",
    "#Sort to match the ordering of the z-scores above\n",
    "CIs_sorted = []\n",
    "CIs = dict(CIs)\n",
    "for tok in dict(scores).keys():\n",
    "    CIs_sorted.append((tok,CIs.get(tok)))\n",
    "\n",
    "    "
   ]
  },
  {
   "cell_type": "code",
   "execution_count": null,
   "metadata": {},
   "outputs": [],
   "source": [
    "CIs_sorted[:50]"
   ]
  },
  {
   "cell_type": "code",
   "execution_count": null,
   "metadata": {},
   "outputs": [],
   "source": [
    "CIs_sorted[len(CIs_sorted)-50: len(CIs_sorted)]"
   ]
  },
  {
   "cell_type": "code",
   "execution_count": null,
   "metadata": {},
   "outputs": [],
   "source": [
    "with open('<Path to save this csv>', 'w') as f:\n",
    "    writer = csv.writer(f)\n",
    "    for val in CIs_sorted:\n",
    "        writer.writerow([val])"
   ]
  },
  {
   "cell_type": "markdown",
   "metadata": {},
   "source": [
    "### Asian vs White"
   ]
  },
  {
   "cell_type": "code",
   "execution_count": null,
   "metadata": {},
   "outputs": [],
   "source": [
    "c_1 = dict(sorted(Counter(choices(nonmedical_Asian , k = len(nonmedical_White))).items(), key=lambda x: x[1], reverse=True))\n",
    "c_2 = dict(sorted(Counter(nonmedical_White).items(), key=lambda x: x[1], reverse=True))\n",
    "\n",
    "size1 = _size(c_1)\n",
    "size2 = _size(c_2)\n",
    "\n",
    "\n",
    "supported_tokens = set(list(c_1.keys()) +list(c_2.keys()))\n",
    "#supported_tokens &= c_2.keys()\n",
    "#supported_tokens &= c_bg.keys()\n",
    "\n",
    "scores = []\n",
    "\n",
    "for tok in supported_tokens:\n",
    "    try:\n",
    "        score = _z_score(tok, c_1, c_2, c_bg, size1, size2, size3)\n",
    "        scores.append((tok, score))\n",
    "    except:\n",
    "        print(tok)\n",
    "\n",
    "scores.sort(key=operator.itemgetter(1), reverse=True)"
   ]
  },
  {
   "cell_type": "code",
   "execution_count": null,
   "metadata": {},
   "outputs": [],
   "source": [
    "# words with z-scores > 1.96 had higher odds of occuring for Asian patients at 5% level of significance\n",
    "scores[:50]"
   ]
  },
  {
   "cell_type": "code",
   "execution_count": null,
   "metadata": {},
   "outputs": [],
   "source": [
    "# words with z-scores < -1.96 had higher odds of occuring for White patients at 5% level of significance\n",
    "scores[len(scores)-50: len(scores)]"
   ]
  },
  {
   "cell_type": "code",
   "execution_count": null,
   "metadata": {},
   "outputs": [],
   "source": [
    "with open('<Path to save this csv>', 'w') as f:\n",
    "    writer = csv.writer(f)\n",
    "    for val in scores:\n",
    "        writer.writerow([val])"
   ]
  },
  {
   "cell_type": "code",
   "execution_count": null,
   "metadata": {},
   "outputs": [],
   "source": [
    "c_1 = dict(sorted(Counter(choices(nonmedical_Asian , k = len(nonmedical_White))).items(), key=lambda x: x[1], reverse=True))\n",
    "c_2 = dict(sorted(Counter(nonmedical_White).items(), key=lambda x: x[1], reverse=True))\n",
    "\n",
    "size1 = _size(c_1)\n",
    "size2 = _size(c_2)\n",
    "\n",
    "\n",
    "supported_tokens = set(list(c_1.keys()) +list(c_2.keys()))\n",
    "#supported_tokens &= c_2.keys()\n",
    "#supported_tokens &= c_bg.keys()"
   ]
  },
  {
   "cell_type": "code",
   "execution_count": null,
   "metadata": {},
   "outputs": [],
   "source": [
    "CIs = []\n",
    "for tok in supported_tokens:\n",
    "    CI = _log_odds_CI(tok, c_1, c_2, c_bg, size1, size2, size3)\n",
    "    CIs.append((tok, CI))\n",
    "\n",
    "#ratios.sort(key=operator.itemgetter(1), reverse=True)\n",
    "\n",
    "#Sort to match the ordering of the z-scores above\n",
    "CIs_sorted = []\n",
    "CIs = dict(CIs)\n",
    "for tok in dict(scores).keys():\n",
    "    CIs_sorted.append((tok,CIs.get(tok)))\n",
    "\n",
    "    "
   ]
  },
  {
   "cell_type": "code",
   "execution_count": null,
   "metadata": {},
   "outputs": [],
   "source": [
    "CIs_sorted[:50]"
   ]
  },
  {
   "cell_type": "code",
   "execution_count": null,
   "metadata": {},
   "outputs": [],
   "source": [
    "CIs_sorted[len(CIs_sorted)-50: len(CIs_sorted)]"
   ]
  },
  {
   "cell_type": "code",
   "execution_count": null,
   "metadata": {},
   "outputs": [],
   "source": [
    "with open('<Path to save this csv>', 'w') as f:\n",
    "    writer = csv.writer(f)\n",
    "    for val in CIs_sorted:\n",
    "        writer.writerow([val])"
   ]
  },
  {
   "cell_type": "markdown",
   "metadata": {},
   "source": [
    "### Other vs White"
   ]
  },
  {
   "cell_type": "code",
   "execution_count": null,
   "metadata": {},
   "outputs": [],
   "source": [
    "c_1 = dict(sorted(Counter(choices(nonmedical_Other, k = len(nonmedical_White))).items(), key=lambda x: x[1], reverse=True))\n",
    "c_2 = dict(sorted(Counter(nonmedical_White).items(), key=lambda x: x[1], reverse=True))\n",
    "\n",
    "size1 = _size(c_1)\n",
    "size2 = _size(c_2)\n",
    "\n",
    "\n",
    "supported_tokens = set(list(c_1.keys()) +list(c_2.keys()))\n",
    "#supported_tokens &= c_2.keys()\n",
    "#supported_tokens &= c_bg.keys()\n",
    "\n",
    "scores = []\n",
    "\n",
    "for tok in supported_tokens:\n",
    "    try:\n",
    "        score = _z_score(tok, c_1, c_2, c_bg, size1, size2, size3)\n",
    "        scores.append((tok, score))\n",
    "    except:\n",
    "        print(tok)\n",
    "\n",
    "scores.sort(key=operator.itemgetter(1), reverse=True)"
   ]
  },
  {
   "cell_type": "code",
   "execution_count": null,
   "metadata": {},
   "outputs": [],
   "source": [
    "# words with z-scores > 1.96 had higher odds of occuring for Other patients at 5% level of significance\n",
    "scores[:50]"
   ]
  },
  {
   "cell_type": "code",
   "execution_count": null,
   "metadata": {},
   "outputs": [],
   "source": [
    "# words with z-scores < -1.96 had higher odds of occuring for White patients at 5% level of significance\n",
    "scores[len(scores)-50: len(scores)]"
   ]
  },
  {
   "cell_type": "code",
   "execution_count": null,
   "metadata": {},
   "outputs": [],
   "source": [
    "with open('<Path to save this csv>', 'w') as f:\n",
    "    writer = csv.writer(f)\n",
    "    for val in scores:\n",
    "        writer.writerow([val])"
   ]
  },
  {
   "cell_type": "code",
   "execution_count": null,
   "metadata": {},
   "outputs": [],
   "source": [
    "c_1 = dict(sorted(Counter(choices(nonmedical_Other, k = len(nonmedical_White))).items(), key=lambda x: x[1], reverse=True))\n",
    "c_2 = dict(sorted(Counter(nonmedical_White).items(), key=lambda x: x[1], reverse=True))\n",
    "\n",
    "size1 = _size(c_1)\n",
    "size2 = _size(c_2)\n",
    "\n",
    "\n",
    "supported_tokens = set(list(c_1.keys()) +list(c_2.keys()))"
   ]
  },
  {
   "cell_type": "code",
   "execution_count": null,
   "metadata": {},
   "outputs": [],
   "source": [
    "CIs = []\n",
    "for tok in supported_tokens:\n",
    "    CI = _log_odds_CI(tok, c_1, c_2, c_bg, size1, size2, size3)\n",
    "    CIs.append((tok, CI))\n",
    "\n",
    "#ratios.sort(key=operator.itemgetter(1), reverse=True)\n",
    "\n",
    "#Sort to match the ordering of the z-scores above\n",
    "CIs_sorted = []\n",
    "CIs = dict(CIs)\n",
    "for tok in dict(scores).keys():\n",
    "    CIs_sorted.append((tok,CIs.get(tok)))\n",
    "\n",
    "    "
   ]
  },
  {
   "cell_type": "code",
   "execution_count": null,
   "metadata": {},
   "outputs": [],
   "source": [
    "CIs_sorted[:50]"
   ]
  },
  {
   "cell_type": "code",
   "execution_count": null,
   "metadata": {},
   "outputs": [],
   "source": [
    "CIs_sorted[len(CIs_sorted)-50: len(CIs_sorted)]"
   ]
  },
  {
   "cell_type": "code",
   "execution_count": null,
   "metadata": {},
   "outputs": [],
   "source": [
    "with open('<Path to save this csv>', 'w') as f:\n",
    "    writer = csv.writer(f)\n",
    "    for val in CIs_sorted:\n",
    "        writer.writerow([val])"
   ]
  },
  {
   "cell_type": "code",
   "execution_count": null,
   "metadata": {},
   "outputs": [],
   "source": []
  },
  {
   "cell_type": "code",
   "execution_count": null,
   "metadata": {},
   "outputs": [],
   "source": []
  }
 ],
 "metadata": {
  "kernelspec": {
   "display_name": "Python 3 (ipykernel)",
   "language": "python",
   "name": "python3"
  },
  "language_info": {
   "codemirror_mode": {
    "name": "ipython",
    "version": 3
   },
   "file_extension": ".py",
   "mimetype": "text/x-python",
   "name": "python",
   "nbconvert_exporter": "python",
   "pygments_lexer": "ipython3",
   "version": "3.8.12"
  }
 },
 "nbformat": 4,
 "nbformat_minor": 4
}
