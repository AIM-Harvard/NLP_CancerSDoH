{
 "cells": [
  {
   "cell_type": "markdown",
   "metadata": {},
   "source": [
    "# File description:\n",
    "\n",
    "This file computes the log odds ratios with Dirichlet priors comparing word frequency across patient insurance type (low-income insurance vs other). Low-income insurance patient notes are compared to other-insurance patient notes.\n",
    "\n",
    "The log odds ratios are computed using lists of all words used in the notes for patients of each insurance type. These lists are computed using the Create_Word_Lists file"
   ]
  },
  {
   "cell_type": "code",
   "execution_count": 7,
   "metadata": {
    "scrolled": true
   },
   "outputs": [],
   "source": [
    "### Load required packages ###\n",
    "import pickle\n",
    "import csv\n",
    "import argparse\n",
    "import logging\n",
    "import math\n",
    "import numpy as np\n",
    "import operator\n",
    "from typing import Iterator\n",
    "from collections import Counter\n",
    "from collections import Counter, OrderedDict"
   ]
  },
  {
   "cell_type": "markdown",
   "metadata": {},
   "source": [
    "## Load lists of words from pickle files"
   ]
  },
  {
   "cell_type": "markdown",
   "metadata": {},
   "source": [
    "### Load lists of MEDICAL words"
   ]
  },
  {
   "cell_type": "code",
   "execution_count": 8,
   "metadata": {},
   "outputs": [],
   "source": [
    "# Load BROADBAND lists\n",
    "medical_words_lowincome_broadband = pickle.load(open('Path_to_list', 'rb'))\n",
    "medical_words_nonlowincome_broadband = pickle.load(open('Path_to_list', 'rb'))"
   ]
  },
  {
   "cell_type": "code",
   "execution_count": 9,
   "metadata": {},
   "outputs": [],
   "source": [
    "# Load Thoracic lists\n",
    "medical_words_lowincome_thor = pickle.load(open('Path_to_list', 'rb'))\n",
    "medical_words_nonlowincome_thor = pickle.load(open('Path_to_list', 'rb'))"
   ]
  },
  {
   "cell_type": "code",
   "execution_count": 10,
   "metadata": {},
   "outputs": [],
   "source": [
    "# Combine the lists of words into one large list for non-low-income patients and one for low-income patients\n",
    "medical_words_lowincome = medical_words_lowincome_broadband + medical_words_lowincome_thor\n",
    "medical_words_nonlowincome = medical_words_nonlowincome_thor + medical_words_nonlowincome_broadband"
   ]
  },
  {
   "cell_type": "markdown",
   "metadata": {},
   "source": [
    "### Load lists of NON-MEDICAL words"
   ]
  },
  {
   "cell_type": "code",
   "execution_count": 11,
   "metadata": {},
   "outputs": [],
   "source": [
    "# Load BROADBAND lists\n",
    "nonmedical_words_lowincome_broadband = pickle.load(open('Path_to_list', 'rb'))\n",
    "nonmedical_words_nonlowincome_broadband = pickle.load(open('Path_to_list', 'rb'))"
   ]
  },
  {
   "cell_type": "code",
   "execution_count": 12,
   "metadata": {},
   "outputs": [],
   "source": [
    "# Load Thoracic lists\n",
    "nonmedical_words_lowincome_thor = pickle.load(open('Path_to_list', 'rb'))\n",
    "nonmedical_words_nonlowincome_thor = pickle.load(open('Path_to_list', 'rb'))"
   ]
  },
  {
   "cell_type": "code",
   "execution_count": 13,
   "metadata": {},
   "outputs": [],
   "source": [
    "# Combine the lists of words into one large list for non-low-income patients and one for low-income patients\n",
    "nonmedical_words_lowincome = nonmedical_words_lowincome_broadband + nonmedical_words_lowincome_thor\n",
    "nonmedical_words_nonlowincome = nonmedical_words_nonlowincome_thor + nonmedical_words_nonlowincome_broadband"
   ]
  },
  {
   "cell_type": "markdown",
   "metadata": {},
   "source": [
    "## Run log-odds ratio with Dirichlet prior"
   ]
  },
  {
   "cell_type": "code",
   "execution_count": 14,
   "metadata": {},
   "outputs": [],
   "source": [
    "### The following code computes the Log Odds Ratio Informative Dirichlet Prior ###\n",
    "def _size(corpus: dict) -> int:              #This counts the total number of words (including all repetitions)    \n",
    "    return sum(corpus.values())"
   ]
  },
  {
   "cell_type": "code",
   "execution_count": 15,
   "metadata": {},
   "outputs": [],
   "source": [
    "def _z_score(                              \n",
    "    word: str,\n",
    "    c1: dict,\n",
    "    c2: dict,\n",
    "    bg: dict,\n",
    "    size1: int,\n",
    "    size2: int,\n",
    "    size3: int,\n",
    ") -> float:\n",
    "\n",
    "    if word in set(c1.keys()):\n",
    "        numerator_1 = c1[word] + bg[word]\n",
    "    else:\n",
    "        numerator_1 = bg[word]\n",
    "    \n",
    "    if word in set(c2.keys()):\n",
    "        numerator_2 = c2[word] + bg[word]\n",
    "    else:\n",
    "        numerator_2 = bg[word]\n",
    "        \n",
    "    denom_1 = size1 + size3 - numerator_1\n",
    "    denom_2 = size2 + size3 - numerator_2\n",
    "    \n",
    "    raw_logodds = math.log(numerator_1 / denom_1) - math.log(\n",
    "        numerator_2 / denom_2\n",
    "    )\n",
    "\n",
    "    variance = (1 / numerator_1) + (1 / numerator_2)\n",
    "    return raw_logodds / math.sqrt(variance)\n",
    "\n"
   ]
  },
  {
   "cell_type": "code",
   "execution_count": 16,
   "metadata": {},
   "outputs": [],
   "source": [
    "def _log_odds(                             \n",
    "    word: str,\n",
    "    c1: dict,\n",
    "    c2: dict,\n",
    "    bg: dict,\n",
    "    size1: int,\n",
    "    size2: int,\n",
    "    size3: int,\n",
    ") -> float:\n",
    "\n",
    "    if word in set(c1.keys()):\n",
    "        numerator_1 = c1[word] + bg[word]\n",
    "    else:\n",
    "        numerator_1 = bg[word]\n",
    "    \n",
    "    if word in set(c2.keys()):\n",
    "        numerator_2 = c2[word] + bg[word]\n",
    "    else:\n",
    "        numerator_2 = bg[word]\n",
    "        \n",
    "    denom_1 = size1 + size3 - numerator_1\n",
    "    denom_2 = size2 + size3 - numerator_2\n",
    "    \n",
    "    raw_logodds = math.log(numerator_1 / denom_1) - math.log(\n",
    "        numerator_2 / denom_2\n",
    "    )\n",
    "\n",
    "    variance = (1 / numerator_1) + (1 / numerator_2)\n",
    "    return raw_logodds\n"
   ]
  },
  {
   "cell_type": "code",
   "execution_count": 17,
   "metadata": {},
   "outputs": [],
   "source": [
    "def _log_odds_CI(                              \n",
    "    word: str,\n",
    "    c1: dict,\n",
    "    c2: dict,\n",
    "    bg: dict,\n",
    "    size1: int,\n",
    "    size2: int,\n",
    "    size3: int,\n",
    ") -> float:\n",
    "\n",
    "    if word in set(c1.keys()):\n",
    "        numerator_1 = c1[word] + bg[word]\n",
    "    else:\n",
    "        numerator_1 = bg[word]\n",
    "    \n",
    "    if word in set(c2.keys()):\n",
    "        numerator_2 = c2[word] + bg[word]\n",
    "    else:\n",
    "        numerator_2 = bg[word]\n",
    "        \n",
    "    denom_1 = size1 + size3 - numerator_1\n",
    "    denom_2 = size2 + size3 - numerator_2\n",
    "    \n",
    "    raw_logodds = math.log(numerator_1 / denom_1) - math.log(\n",
    "        numerator_2 / denom_2\n",
    "    )\n",
    "\n",
    "    variance = (1 / numerator_1) + (1 / numerator_2)\n",
    "    return [round(raw_logodds - 1.96*math.sqrt(variance),3), round(raw_logodds + 1.96*math.sqrt(variance),3)]"
   ]
  },
  {
   "cell_type": "markdown",
   "metadata": {},
   "source": [
    "# 0: Create background corpus"
   ]
  },
  {
   "cell_type": "markdown",
   "metadata": {},
   "source": [
    "The dirichlet prior will shrink odds ratios toward their \"global values\" from the background corpus. Therefore, it's important to ensure that each insurance type (low-income/non-low-income) is adequately represented in the background corpus. We will use all medical and nonmedical words from both insurance types as the background corpus.\n",
    "\n",
    "See Monroe paper: http://languagelog.ldc.upenn.edu/myl/Monroe.pdf"
   ]
  },
  {
   "cell_type": "code",
   "execution_count": 22,
   "metadata": {},
   "outputs": [],
   "source": [
    "# Import required packages\n",
    "from random import choices\n",
    "from collections import Counter, OrderedDict\n",
    "\n",
    "#Note: Since there were more words in the non-low-income lists than the low-income lists, oversample words from the low-income lists\n",
    "c_bg = dict(sorted(Counter(medical_words_nonlowincome + nonmedical_words_nonlowincome + choices(medical_words_lowincome + nonmedical_words_lowincome, k = len(medical_words_nonlowincome + nonmedical_words_nonlowincome))).items(), key=lambda x: x[1], reverse=True))"
   ]
  },
  {
   "cell_type": "markdown",
   "metadata": {},
   "source": [
    "# **1a:** Compute log-odds ratios for medical and non-medical words combined"
   ]
  },
  {
   "cell_type": "markdown",
   "metadata": {},
   "source": [
    "### Compare low-income-insurance vs. non-low-income-insurance\n",
    "A ratio > 1 means the odds of the word occurring for a low-income-insurance patient is greater than the odds of the word occurring for a non-low-income-insurance patient."
   ]
  },
  {
   "cell_type": "code",
   "execution_count": 23,
   "metadata": {},
   "outputs": [],
   "source": [
    "c_1 = dict(sorted(Counter(medical_words_lowincome + nonmedical_words_lowincome).items(), key=lambda x: x[1], reverse=True))\n",
    "c_2 = dict(sorted(Counter(medical_words_nonlowincome + nonmedical_words_nonlowincome).items(), key=lambda x: x[1], reverse=True))\n",
    "\n",
    "size1 = _size(c_1)\n",
    "size2 = _size(c_2)\n",
    "size3 = _size(c_bg)\n",
    "\n",
    "supported_tokens = set(c_1.keys())\n",
    "supported_tokens &= c_2.keys()\n",
    "supported_tokens &= c_bg.keys()"
   ]
  },
  {
   "cell_type": "code",
   "execution_count": 24,
   "metadata": {},
   "outputs": [],
   "source": [
    "ratios = []\n",
    "for tok in supported_tokens:\n",
    "    rat = _log_odds(tok, c_1, c_2, c_bg, size1, size2, size3)\n",
    "    ratios.append((tok, rat))\n",
    "\n",
    "ratios.sort(key=operator.itemgetter(1), reverse=True)"
   ]
  },
  {
   "cell_type": "code",
   "execution_count": 25,
   "metadata": {},
   "outputs": [
    {
     "data": {
      "text/plain": [
       "[('slurring', 0.47707027113547795),\n",
       " ('coarctation', 0.4686213282709968),\n",
       " ('osteosclerosis', 0.46701986144724117),\n",
       " ('decannulation', 0.4600517871263037),\n",
       " ('condylomata', 0.45955490124038967),\n",
       " ('jain', 0.4587994578660588),\n",
       " ('feline', 0.4582782300717483),\n",
       " ('implanon', 0.45822788413540394),\n",
       " ('pest', 0.45669710847180056),\n",
       " ('hamate', 0.4564828368349243),\n",
       " ('immunizations', 0.4558469130255993),\n",
       " ('syria', 0.45565837774450735),\n",
       " ('duodenectomy', 0.45459809337672397),\n",
       " ('risperidal', 0.4545977852217167),\n",
       " ('kenyan', 0.45322685457397327),\n",
       " ('deferasirox', 0.4525974873689549),\n",
       " ('zometa', 0.4525065464055853),\n",
       " ('subutex', 0.45233336864082574),\n",
       " ('axid', 0.452048566950058),\n",
       " ('lescol', 0.4518930950765494),\n",
       " ('ixabepilone', 0.4512051429337074),\n",
       " ('epithelioma', 0.45033381105341164),\n",
       " ('exponential', 0.44988113191735124),\n",
       " ('nizatidine', 0.4496303170595173),\n",
       " ('haart', 0.44955225053637626),\n",
       " ('informatic', 0.4493203354745354),\n",
       " ('eagle', 0.446921208528023),\n",
       " ('anchoring', 0.44608717509933804),\n",
       " ('dheas', 0.4453575244530139),\n",
       " ('abacavir', 0.4445483923606268),\n",
       " ('ballottable', 0.44454706027421054),\n",
       " ('tocopheryl', 0.44342515282528616),\n",
       " ('refugee', 0.4434247686764703),\n",
       " ('spirulina', 0.4423279837874734),\n",
       " ('trocar', 0.4420215799196381),\n",
       " ('colicky', 0.4416120070404279),\n",
       " ('polysubstance', 0.4411610582846244),\n",
       " ('spherical', 0.4407299118031638),\n",
       " ('cheilectomy', 0.4402086622279455),\n",
       " ('crustacean', 0.43938813084434614),\n",
       " ('waiter', 0.43938813084434614),\n",
       " ('autotransplantation', 0.43884909383861626),\n",
       " ('hemipelvectomy', 0.43846826983149434),\n",
       " ('microbiota', 0.43836511695437075),\n",
       " ('femininity', 0.4379653539657884),\n",
       " ('haitian', 0.4372716544029416),\n",
       " ('isovue', 0.4372059637286174),\n",
       " ('nmol', 0.4362482645641812),\n",
       " ('dactinomycin', 0.4354149452551752),\n",
       " ('bronze', 0.4350039173912297)]"
      ]
     },
     "execution_count": 25,
     "metadata": {},
     "output_type": "execute_result"
    }
   ],
   "source": [
    "# The following words had higher odds of occurring for low-income-insurance patients\n",
    "ratios[:50]"
   ]
  },
  {
   "cell_type": "code",
   "execution_count": 26,
   "metadata": {},
   "outputs": [
    {
     "data": {
      "text/plain": [
       "[('genu', -0.3121622620716469),\n",
       " ('hypervascular', -0.31339647472321097),\n",
       " ('pnh', -0.3135151412432524),\n",
       " ('iliacus', -0.3136068302276982),\n",
       " ('complexion', -0.313757805660428),\n",
       " ('adenosine', -0.3138587255345655),\n",
       " ('century', -0.3140578100379443),\n",
       " ('lumen', -0.3140580368076922),\n",
       " ('subcapsular', -0.3145317508146288),\n",
       " ('ivp', -0.31455872224767667),\n",
       " ('marathon', -0.31470543389156447),\n",
       " ('kuwait', -0.3157402430982401),\n",
       " ('retrosternal', -0.3159650335480002),\n",
       " ('thrombophilia', -0.31605384836298356),\n",
       " ('hypogammaglobulinemia', -0.31633814003891025),\n",
       " ('decortication', -0.31645570231440523),\n",
       " ('ureterectomy', -0.3165129152241146),\n",
       " ('scoring', -0.3166062776484022),\n",
       " ('angiomyolipoma', -0.31724325943211795),\n",
       " ('methylcellulose', -0.3174000439805855),\n",
       " ('chicago', -0.3174992459013364),\n",
       " ('arthrosis', -0.3175934337978781),\n",
       " ('chb', -0.3178387681463235),\n",
       " ('cystoprostatectomy', -0.3180855887807752),\n",
       " ('chondromalacia', -0.3187750599165291),\n",
       " ('electrocardiogram', -0.319096150195298),\n",
       " ('serosa', -0.31956400707728605),\n",
       " ('bifidobacterium', -0.32010051944113194),\n",
       " ('trabeculation', -0.32103864141575045),\n",
       " ('neovascularity', -0.3212196961819398),\n",
       " ('cosopt', -0.3212347046256845),\n",
       " ('pilot', -0.321510180587639),\n",
       " ('enalapril', -0.3218519354478051),\n",
       " ('veliparib', -0.3221716866617861),\n",
       " ('citracal', -0.3223536413636072),\n",
       " ('psychologic', -0.32259482250004723),\n",
       " ('cyberknife', -0.32360696176666615),\n",
       " ('are', -0.3238244477452401),\n",
       " ('triangle', -0.324275251580719),\n",
       " ('hydralazine', -0.3247419402078844),\n",
       " ('hypermetabolism', -0.3255625318418325),\n",
       " ('glucagon', -0.32561012601839145),\n",
       " ('arsenic', -0.32605330278523503),\n",
       " ('hockey', -0.32716708194931776),\n",
       " ('desensitization', -0.32722469601246296),\n",
       " ('perihepatic', -0.32776445142786237),\n",
       " ('melphalan', -0.3290227358698097),\n",
       " ('microwave', -0.3323040306588698),\n",
       " ('dorzolamide', -0.33263053455964275),\n",
       " ('zoladex', -0.33909566218371445)]"
      ]
     },
     "execution_count": 26,
     "metadata": {},
     "output_type": "execute_result"
    }
   ],
   "source": [
    "# The following words had higher odds of occurring for non-low-income-insurance patients\n",
    "ratios[len(ratios)-50: len(ratios)]"
   ]
  },
  {
   "cell_type": "code",
   "execution_count": null,
   "metadata": {},
   "outputs": [],
   "source": [
    "with open('<Path to save this csv>', 'w') as f:\n",
    "    writer = csv.writer(f)\n",
    "    for val in ratios:\n",
    "        writer.writerow([val])"
   ]
  },
  {
   "cell_type": "markdown",
   "metadata": {},
   "source": [
    "# **1b:** Compute z-scores for medical and non-medical words combined"
   ]
  },
  {
   "cell_type": "markdown",
   "metadata": {},
   "source": [
    "### Compare low-income-insurance vs. non-low-income-insurance\n",
    "Account for uncertainty about the log odds ratios by using the z-score (logodds/standarddev(logodds)), per Monroe et al.: http://languagelog.ldc.upenn.edu/myl/Monroe.pdf\n",
    "\n",
    "Compare the z-score to some threshold (commonly, 1.96). If |z-score| > 1.96, the word is significant."
   ]
  },
  {
   "cell_type": "code",
   "execution_count": 27,
   "metadata": {},
   "outputs": [],
   "source": [
    "c_1 = dict(sorted(Counter(medical_words_lowincome + nonmedical_words_lowincome).items(), key=lambda x: x[1], reverse=True))\n",
    "c_2 = dict(sorted(Counter(medical_words_nonlowincome + nonmedical_words_nonlowincome).items(), key=lambda x: x[1], reverse=True))\n",
    "\n",
    "size1 = _size(c_1)\n",
    "size2 = _size(c_2)\n",
    "size3 = _size(c_bg)\n",
    "\n",
    "supported_tokens = set(c_1.keys())\n",
    "supported_tokens &= c_2.keys()\n",
    "supported_tokens &= c_bg.keys()"
   ]
  },
  {
   "cell_type": "code",
   "execution_count": 28,
   "metadata": {},
   "outputs": [],
   "source": [
    "scores = []\n",
    "for tok in supported_tokens:\n",
    "    score = _z_score(tok, c_1, c_2, c_bg, size1, size2, size3)\n",
    "    scores.append((tok, score))\n",
    "\n",
    "scores.sort(key=operator.itemgetter(1), reverse=True)"
   ]
  },
  {
   "cell_type": "code",
   "execution_count": 29,
   "metadata": {},
   "outputs": [
    {
     "data": {
      "text/plain": [
       "[('she', 34.83775763932472),\n",
       " ('pt', 26.29719201070946),\n",
       " ('her', 25.434937236810395),\n",
       " ('pain', 22.109552545264197),\n",
       " ('brain', 21.397244889628656),\n",
       " ('axitinib', 21.31956964935049),\n",
       " ('fibromyalgia', 20.893193955686225),\n",
       " ('ie', 20.743793157575627),\n",
       " ('avelumab', 19.174588133873012),\n",
       " ('methadone', 19.038897366029218),\n",
       " ('disorder', 18.508099092522876),\n",
       " ('bipolar', 17.836066355859693),\n",
       " ('cabozantinib', 17.482693710124227),\n",
       " ('immunodeficiency', 17.14861406001928),\n",
       " ('docetaxel', 17.010619464785645),\n",
       " ('folfirinox', 16.51013325341809),\n",
       " ('pharmacy', 16.488481908199688),\n",
       " ('pontine', 16.021198371040267),\n",
       " ('oxycodone', 15.880819249672887),\n",
       " ('pertuzumab', 15.678057711894372),\n",
       " ('breast', 15.541109980926485),\n",
       " ('lung', 15.144235982030823),\n",
       " ('goal', 14.503856035298863),\n",
       " ('outside', 14.463667850406166),\n",
       " ('shoulder', 14.318263981357667),\n",
       " ('haart', 14.288457039161832),\n",
       " ('blast', 14.263096885176873),\n",
       " ('transaminitis', 14.25393241216663),\n",
       " ('cocaine', 14.14441882181075),\n",
       " ('depakote', 14.04321618265089),\n",
       " ('meningioma', 14.031574470476508),\n",
       " ('chronic', 13.766156142991422),\n",
       " ('vaginal', 13.70588925636878),\n",
       " ('depression', 13.67864002902115),\n",
       " ('sister', 13.435243829927986),\n",
       " ('axillary', 13.191167091010623),\n",
       " ('opioid', 12.846941256138898),\n",
       " ('virus', 12.614596805441785),\n",
       " ('mediastinoscopy', 12.551437340105544),\n",
       " ('human', 12.499605990773603),\n",
       " ('hour', 12.46195680637359),\n",
       " ('access', 12.451140482565725),\n",
       " ('gluteus', 12.28728282279781),\n",
       " ('insurance', 12.143358329903723),\n",
       " ('anxiety', 12.005509934030268),\n",
       " ('vagina', 11.905897431740058),\n",
       " ('frontal', 11.90076268469575),\n",
       " ('cellular', 11.881438798998996),\n",
       " ('occipital', 11.802199532427036),\n",
       " ('inferolateral', 11.724070216729007)]"
      ]
     },
     "execution_count": 29,
     "metadata": {},
     "output_type": "execute_result"
    }
   ],
   "source": [
    "# The following words had higher odds of occurring for low-income-insurance patients\n",
    "scores[:50]"
   ]
  },
  {
   "cell_type": "code",
   "execution_count": 30,
   "metadata": {},
   "outputs": [
    {
     "data": {
      "text/plain": [
       "[('casodex', -10.728513073988928),\n",
       " ('scan', -10.749927751277221),\n",
       " ('lymphoma', -10.74997960341594),\n",
       " ('urgency', -10.869252592996533),\n",
       " ('procedure', -10.878817181384047),\n",
       " ('frequency', -10.955755625888484),\n",
       " ('perineural', -11.079231724913097),\n",
       " ('scalp', -11.152268608972674),\n",
       " ('variant', -11.160692544586906),\n",
       " ('image', -11.284993740141097),\n",
       " ('adaptive', -11.521206832009051),\n",
       " ('nasal', -11.55868711628875),\n",
       " ('aortic', -11.61424166650554),\n",
       " ('lymphocytic', -11.665422242156309),\n",
       " ('glioblastoma', -11.673264802350953),\n",
       " ('apalutamide', -11.773969060349213),\n",
       " ('cll', -11.823941306455279),\n",
       " ('mesothelioma', -11.84616265972496),\n",
       " ('flap', -11.954041289745541),\n",
       " ('margin', -12.043988169244344),\n",
       " ('avastin', -12.174474606442457),\n",
       " ('hot', -12.19784890661794),\n",
       " ('adenocarcinoma', -12.231563843021465),\n",
       " ('neck', -12.648636203661319),\n",
       " ('nocturia', -12.755093681345777),\n",
       " ('femoral', -12.911354424046994),\n",
       " ('normal', -12.952018548780913),\n",
       " ('treatment', -13.153549577871669),\n",
       " ('marry', -13.175017841062484),\n",
       " ('read', -13.198828659022581),\n",
       " ('urinary', -13.252431183126761),\n",
       " ('radiation', -13.485269089180314),\n",
       " ('flash', -13.488194824542806),\n",
       " ('protocol', -13.67678372665772),\n",
       " ('bicalutamide', -13.775692508819027),\n",
       " ('kappa', -14.043050838852139),\n",
       " ('review', -14.075022575631507),\n",
       " ('biopsy', -14.359909195294835),\n",
       " ('basal', -14.4352063809105),\n",
       " ('none', -14.449610992380784),\n",
       " ('exon', -14.454054993271859),\n",
       " ('prostatectomy', -15.788386515235224),\n",
       " ('core', -16.345104396818247),\n",
       " ('file', -16.456680777938384),\n",
       " ('history', -16.9646206337884),\n",
       " ('wife', -17.364368672670462),\n",
       " ('prostatic', -17.66288444588746),\n",
       " ('mr', -19.77254191454416),\n",
       " ('unrelated', -19.84600056528276),\n",
       " ('prostate', -37.412286251946384)]"
      ]
     },
     "execution_count": 30,
     "metadata": {},
     "output_type": "execute_result"
    }
   ],
   "source": [
    "# The following words had higher odds of occurring for non-low-income-insurance patients\n",
    "scores[len(scores)-50: len(scores)]"
   ]
  },
  {
   "cell_type": "code",
   "execution_count": null,
   "metadata": {},
   "outputs": [],
   "source": [
    "with open('<Path to save this csv>', 'w') as f:\n",
    "    writer = csv.writer(f)\n",
    "    for val in ratios:\n",
    "        writer.writerow([val])"
   ]
  },
  {
   "cell_type": "markdown",
   "metadata": {},
   "source": [
    "# 1c: Compute the 95% confidence intervals for the log odds ratios for medical and nonmedical words combined"
   ]
  },
  {
   "cell_type": "code",
   "execution_count": 31,
   "metadata": {},
   "outputs": [],
   "source": [
    "c_1 = dict(sorted(Counter(medical_words_lowincome + nonmedical_words_lowincome).items(), key=lambda x: x[1], reverse=True))\n",
    "c_2 = dict(sorted(Counter(medical_words_nonlowincome + nonmedical_words_nonlowincome).items(), key=lambda x: x[1], reverse=True))\n",
    "\n",
    "size1 = _size(c_1)\n",
    "size2 = _size(c_2)\n",
    "size3 = _size(c_bg)\n",
    "\n",
    "supported_tokens = set(c_1.keys())\n",
    "supported_tokens &= c_2.keys()\n",
    "supported_tokens &= c_bg.keys()"
   ]
  },
  {
   "cell_type": "code",
   "execution_count": 32,
   "metadata": {},
   "outputs": [],
   "source": [
    "CIs = []\n",
    "for tok in supported_tokens:\n",
    "    CI = _log_odds_CI(tok, c_1, c_2, c_bg, size1, size2, size3)\n",
    "    CIs.append((tok, CI))\n",
    "\n",
    "\n",
    "CIs_sorted = []\n",
    "CIs = dict(CIs)\n",
    "for tok in dict(scores).keys():\n",
    "    CIs_sorted.append((tok,CIs.get(tok)))\n",
    "\n",
    "    "
   ]
  },
  {
   "cell_type": "code",
   "execution_count": 33,
   "metadata": {},
   "outputs": [
    {
     "data": {
      "text/plain": [
       "[('she', [0.035, 0.039]),\n",
       " ('pt', [0.091, 0.106]),\n",
       " ('her', [0.039, 0.045]),\n",
       " ('pain', [0.027, 0.032]),\n",
       " ('brain', [0.058, 0.07]),\n",
       " ('axitinib', [0.28, 0.336]),\n",
       " ('fibromyalgia', [0.327, 0.395]),\n",
       " ('ie', [0.286, 0.346]),\n",
       " ('avelumab', [0.324, 0.397]),\n",
       " ('methadone', [0.233, 0.287]),\n",
       " ('disorder', [0.078, 0.097]),\n",
       " ('bipolar', [0.276, 0.344]),\n",
       " ('cabozantinib', [0.18, 0.226]),\n",
       " ('immunodeficiency', [0.349, 0.439]),\n",
       " ('docetaxel', [0.131, 0.166]),\n",
       " ('folfirinox', [0.135, 0.171]),\n",
       " ('pharmacy', [0.059, 0.075]),\n",
       " ('pontine', [0.358, 0.458]),\n",
       " ('oxycodone', [0.078, 0.1]),\n",
       " ('pertuzumab', [0.244, 0.314]),\n",
       " ('breast', [0.032, 0.041]),\n",
       " ('lung', [0.031, 0.04]),\n",
       " ('goal', [0.113, 0.148]),\n",
       " ('outside', [0.047, 0.062]),\n",
       " ('shoulder', [0.065, 0.086]),\n",
       " ('haart', [0.388, 0.511]),\n",
       " ('blast', [0.139, 0.183]),\n",
       " ('transaminitis', [0.226, 0.298]),\n",
       " ('cocaine', [0.35, 0.463]),\n",
       " ('depakote', [0.319, 0.423]),\n",
       " ('meningioma', [0.157, 0.208]),\n",
       " ('chronic', [0.05, 0.066]),\n",
       " ('vaginal', [0.09, 0.12]),\n",
       " ('depression', [0.063, 0.084]),\n",
       " ('sister', [0.093, 0.125]),\n",
       " ('axillary', [0.056, 0.076]),\n",
       " ('opioid', [0.129, 0.175]),\n",
       " ('virus', [0.191, 0.261]),\n",
       " ('mediastinoscopy', [0.131, 0.179]),\n",
       " ('human', [0.222, 0.305]),\n",
       " ('hour', [0.036, 0.049]),\n",
       " ('access', [0.152, 0.209]),\n",
       " ('gluteus', [0.256, 0.353]),\n",
       " ('insurance', [0.132, 0.183]),\n",
       " ('anxiety', [0.048, 0.067]),\n",
       " ('vagina', [0.181, 0.253]),\n",
       " ('frontal', [0.061, 0.085]),\n",
       " ('cellular', [0.234, 0.327]),\n",
       " ('occipital', [0.106, 0.149]),\n",
       " ('inferolateral', [0.317, 0.444])]"
      ]
     },
     "execution_count": 33,
     "metadata": {},
     "output_type": "execute_result"
    }
   ],
   "source": [
    "# The following had higher odds of occurring for low-income patient\n",
    "CIs_sorted[:50]"
   ]
  },
  {
   "cell_type": "code",
   "execution_count": 34,
   "metadata": {},
   "outputs": [
    {
     "data": {
      "text/plain": [
       "[('casodex', [-0.144, -0.099]),\n",
       " ('scan', [-0.039, -0.027]),\n",
       " ('lymphoma', [-0.099, -0.068]),\n",
       " ('urgency', [-0.103, -0.072]),\n",
       " ('procedure', [-0.051, -0.036]),\n",
       " ('frequency', [-0.067, -0.046]),\n",
       " ('perineural', [-0.154, -0.107]),\n",
       " ('scalp', [-0.129, -0.09]),\n",
       " ('variant', [-0.188, -0.132]),\n",
       " ('image', [-0.052, -0.037]),\n",
       " ('adaptive', [-0.224, -0.159]),\n",
       " ('nasal', [-0.096, -0.068]),\n",
       " ('aortic', [-0.137, -0.097]),\n",
       " ('lymphocytic', [-0.295, -0.21]),\n",
       " ('glioblastoma', [-0.229, -0.163]),\n",
       " ('apalutamide', [-0.355, -0.253]),\n",
       " ('cll', [-0.287, -0.205]),\n",
       " ('mesothelioma', [-0.338, -0.242]),\n",
       " ('flap', [-0.222, -0.159]),\n",
       " ('margin', [-0.071, -0.051]),\n",
       " ('avastin', [-0.203, -0.147]),\n",
       " ('hot', [-0.101, -0.073]),\n",
       " ('adenocarcinoma', [-0.055, -0.04]),\n",
       " ('neck', [-0.041, -0.03]),\n",
       " ('nocturia', [-0.132, -0.097]),\n",
       " ('femoral', [-0.18, -0.133]),\n",
       " ('normal', [-0.033, -0.025]),\n",
       " ('treatment', [-0.035, -0.026]),\n",
       " ('marry', [-0.129, -0.095]),\n",
       " ('read', [-0.107, -0.079]),\n",
       " ('urinary', [-0.066, -0.049]),\n",
       " ('radiation', [-0.034, -0.025]),\n",
       " ('flash', [-0.115, -0.086]),\n",
       " ('protocol', [-0.095, -0.071]),\n",
       " ('bicalutamide', [-0.188, -0.141]),\n",
       " ('kappa', [-0.33, -0.25]),\n",
       " ('review', [-0.028, -0.021]),\n",
       " ('biopsy', [-0.045, -0.034]),\n",
       " ('basal', [-0.204, -0.155]),\n",
       " ('none', [-0.039, -0.03]),\n",
       " ('exon', [-0.226, -0.172]),\n",
       " ('prostatectomy', [-0.181, -0.141]),\n",
       " ('core', [-0.094, -0.074]),\n",
       " ('file', [-0.067, -0.053]),\n",
       " ('history', [-0.023, -0.018]),\n",
       " ('wife', [-0.118, -0.094]),\n",
       " ('prostatic', [-0.155, -0.124]),\n",
       " ('mr', [-0.088, -0.072]),\n",
       " ('unrelated', [-0.135, -0.11]),\n",
       " ('prostate', [-0.133, -0.119])]"
      ]
     },
     "execution_count": 34,
     "metadata": {},
     "output_type": "execute_result"
    }
   ],
   "source": [
    "# The following had higher odds of occurring for non-low-income patient\n",
    "CIs_sorted[len(CIs_sorted)-50: len(CIs_sorted)]"
   ]
  },
  {
   "cell_type": "code",
   "execution_count": 35,
   "metadata": {},
   "outputs": [],
   "source": [
    "with open('<Path to save this csv>', 'w') as f:\n",
    "    writer = csv.writer(f)\n",
    "    for val in ratios:\n",
    "        writer.writerow([val])"
   ]
  },
  {
   "cell_type": "markdown",
   "metadata": {},
   "source": [
    "# **2a:** Compute log OR for medical words"
   ]
  },
  {
   "cell_type": "markdown",
   "metadata": {},
   "source": [
    "### Redefine background corpus to include only medical words"
   ]
  },
  {
   "cell_type": "code",
   "execution_count": 36,
   "metadata": {},
   "outputs": [],
   "source": [
    "c_bg = dict(sorted(Counter(medical_words_nonlowincome + choices(medical_words_lowincome, k = len(medical_words_nonlowincome))).items(), key=lambda x: x[1], reverse=True))\n",
    "size3 = _size(c_bg)"
   ]
  },
  {
   "cell_type": "markdown",
   "metadata": {},
   "source": [
    "### Compare for low-income-insurance vs. non-low-income-insurance"
   ]
  },
  {
   "cell_type": "code",
   "execution_count": 37,
   "metadata": {
    "scrolled": false
   },
   "outputs": [],
   "source": [
    "c_1 = dict(sorted(Counter(medical_words_lowincome).items(), key=lambda x: x[1], reverse=True))\n",
    "c_2 = dict(sorted(Counter(medical_words_nonlowincome).items(), key=lambda x: x[1], reverse=True))\n",
    "\n",
    "size1 = _size(c_1)\n",
    "size2 = _size(c_2)\n",
    "\n",
    "\n",
    "supported_tokens = set(list(c_1.keys()) +list(c_2.keys()))\n",
    "#supported_tokens &= c_2.keys()\n",
    "#supported_tokens &= c_bg.keys()\n",
    "\n",
    "ratios = []\n",
    "\n",
    "for tok in supported_tokens:\n",
    "    try:\n",
    "        rat = _log_odds(tok, c_1, c_2, c_bg, size1, size2, size3)\n",
    "        ratios.append((tok, rat))\n",
    "    except:\n",
    "        print(tok)\n",
    "\n",
    "ratios.sort(key=operator.itemgetter(1), reverse=True)"
   ]
  },
  {
   "cell_type": "code",
   "execution_count": 38,
   "metadata": {},
   "outputs": [
    {
     "data": {
      "text/plain": [
       "[('quixin', 0.7547767493038471),\n",
       " ('consulted', 0.6369937210782481),\n",
       " ('oligouria', 0.5724552073714602),\n",
       " ('tocopherol', 0.5724552073714602),\n",
       " ('astaxanthin', 0.54998241387724),\n",
       " ('mhc', 0.5316332826398327),\n",
       " ('panacinar', 0.5316332202819893),\n",
       " ('bezlotoxumab', 0.5316332202819893),\n",
       " ('triclosan', 0.5316332202819893),\n",
       " ('heaves', 0.5316332202819893),\n",
       " ('pricing', 0.5316332202819893),\n",
       " ('lda', 0.5316332202819893),\n",
       " ('cephalgia', 0.51636581793983),\n",
       " ('synergist', 0.5034624205347118),\n",
       " ('aortogram', 0.50346235074608),\n",
       " ('immunoblot', 0.50346235074608),\n",
       " ('basophilia', 0.50346235074608),\n",
       " ('hygromas', 0.50346235074608),\n",
       " ('cent', 0.50346235074608),\n",
       " ('cupping', 0.50346235074608),\n",
       " ('neurotomy', 0.50346235074608),\n",
       " ('lorcaserin', 0.50346235074608),\n",
       " ('catheterisation', 0.50346235074608),\n",
       " ('nailing', 0.50346235074608),\n",
       " ('ovide', 0.50346235074608),\n",
       " ('uvuloplasty', 0.49591529211877017),\n",
       " ('inspir', 0.49591529211877017),\n",
       " ('succinylcholine', 0.49591529211877017),\n",
       " ('aneuploid', 0.4924125917789137),\n",
       " ('ovaries', 0.4924125917789137),\n",
       " ('opsoclonus', 0.48907376773284206),\n",
       " ('roter', 0.482843457071489),\n",
       " ('hiccuping', 0.4828431481935507),\n",
       " ('copegus', 0.4828431481935507),\n",
       " ('qiyu', 0.4828430709741287),\n",
       " ('combivir', 0.4828430709741287),\n",
       " ('faecal', 0.4828430709741287),\n",
       " ('inhal', 0.4828430709741287),\n",
       " ('biliverdin', 0.4828430709741287),\n",
       " ('chloracne', 0.4828430709741287),\n",
       " ('imi', 0.4828430709741287),\n",
       " ('leukoencephalopathy', 0.4828430709741287),\n",
       " ('bha', 0.4828430709741287),\n",
       " ('perionychia', 0.4828430709741287),\n",
       " ('achlorhydria', 0.4828430709741287),\n",
       " ('pantograph', 0.4828430709741287),\n",
       " ('jejunectomy', 0.4828430709741287),\n",
       " ('vofatamab', 0.4828430709741287),\n",
       " ('illiterate', 0.4828430709741287),\n",
       " ('illiteracy', 0.4793651229064384)]"
      ]
     },
     "execution_count": 38,
     "metadata": {},
     "output_type": "execute_result"
    }
   ],
   "source": [
    "# The following medical words had higher odds of occurring for low-income patients\n",
    "ratios[:50]"
   ]
  },
  {
   "cell_type": "code",
   "execution_count": 39,
   "metadata": {},
   "outputs": [
    {
     "data": {
      "text/plain": [
       "[('pharyngectomy', -0.3438372445546207),\n",
       " ('lotrel', -0.34383728592439056),\n",
       " ('naris', -0.34383731695172415),\n",
       " ('ceritinib', -0.34383732729416927),\n",
       " ('apresoline', -0.34383732729416927),\n",
       " ('mononucleosis', -0.34383735832151174),\n",
       " ('snare', -0.3438374307186649),\n",
       " ('ulcerating', -0.34383744106111713),\n",
       " ('necitumumab', -0.3438374824309349),\n",
       " ('pinguecula', -0.3438374927733907),\n",
       " ('avapro', -0.3438374927733907),\n",
       " ('retropubic', -0.34383753414322094),\n",
       " ('glypican', -0.34383758585552116),\n",
       " ('adenosarcoma', -0.34383763756783914),\n",
       " ('epoch', -0.34383772030757953),\n",
       " ('neurosarcoidosis', -0.3438377720199366),\n",
       " ('dutasteride', -0.3438377823624119),\n",
       " ('hyzaar', -0.34383779270488546),\n",
       " ('mtc', -0.3438378547597427),\n",
       " ('tambocor', -0.34383792715710726),\n",
       " ('sotalol', -0.3438379478420739),\n",
       " ('momelotinib', -0.3438379581845581),\n",
       " ('paricalcitol', -0.34383798921201425),\n",
       " ('lomustine', -0.34383798921201425),\n",
       " ('tremelimumab', -0.3438380305819635),\n",
       " ('cs', -0.34383809263690956),\n",
       " ('arginase', -0.34383825811687174),\n",
       " ('mpnst', -0.3438382684593755),\n",
       " ('levodopa', -0.343838278801881),\n",
       " ('hyperlipemia', -0.3438383098293958),\n",
       " ('cediranib', -0.3438383408569159),\n",
       " ('angiosarcoma', -0.34383850633711965),\n",
       " ('carbidopa', -0.3438385477071968),\n",
       " ('benazepril', -0.3438385890772828),\n",
       " ('desmoplastic', -0.3438390855191038),\n",
       " ('immunophenotype', -0.3438393027128548),\n",
       " ('iri', -0.3438395095643063),\n",
       " ('sinemet', -0.34383975778637677),\n",
       " ('carfilzomib', -0.3438400784070872),\n",
       " ('trebananib', -0.34384009909231494),\n",
       " ('navitoclax', -0.34384102993017507),\n",
       " ('polymyalgia', -0.34384122644103776),\n",
       " ('maxillectomy', -0.34384125746909255),\n",
       " ('pomalidomide', -0.34384162980615685),\n",
       " ('pleurectomy', -0.3438420952286343),\n",
       " ('daratumumab', -0.343842457224774),\n",
       " ('gefitinib', -0.3438427675077911),\n",
       " ('eligard', -0.3438428088789056),\n",
       " ('niraparib', -0.34384292264951277),\n",
       " ('bavituximab', -0.3438430777913766)]"
      ]
     },
     "execution_count": 39,
     "metadata": {},
     "output_type": "execute_result"
    }
   ],
   "source": [
    "# The following medical words had higher odds of occurring for non-low-income patients\n",
    "ratios[len(ratios)-50: len(ratios)]"
   ]
  },
  {
   "cell_type": "code",
   "execution_count": null,
   "metadata": {},
   "outputs": [],
   "source": [
    "with open('<Path to save this csv>', 'w') as f:\n",
    "    writer = csv.writer(f)\n",
    "    for val in ratios:\n",
    "        writer.writerow([val])"
   ]
  },
  {
   "cell_type": "markdown",
   "metadata": {},
   "source": [
    "# 2b: Compute z-scores for medical words"
   ]
  },
  {
   "cell_type": "markdown",
   "metadata": {},
   "source": [
    "### Compare low-income-insurance vs. non-low-income-insurance\n",
    "Account for uncertainty about the log odds ratios by using the z-score (logodds/standarddev(logodds)), per Monroe et al.: http://languagelog.ldc.upenn.edu/myl/Monroe.pdf\n",
    "\n",
    "Compare the z-score to some threshold (commonly, 1.96). If |z-score| > 1.96, the word is significant."
   ]
  },
  {
   "cell_type": "code",
   "execution_count": 40,
   "metadata": {},
   "outputs": [],
   "source": [
    "c_1 = dict(sorted(Counter(medical_words_lowincome).items(), key=lambda x: x[1], reverse=True))\n",
    "c_2 = dict(sorted(Counter(medical_words_nonlowincome).items(), key=lambda x: x[1], reverse=True))\n",
    "\n",
    "size1 = _size(c_1)\n",
    "size2 = _size(c_2)\n",
    "size3 = _size(c_bg)\n",
    "\n",
    "supported_tokens = set(c_1.keys())\n",
    "supported_tokens &= c_2.keys()\n",
    "supported_tokens &= c_bg.keys()"
   ]
  },
  {
   "cell_type": "code",
   "execution_count": 41,
   "metadata": {},
   "outputs": [],
   "source": [
    "scores = []\n",
    "for tok in supported_tokens:\n",
    "    score = _z_score(tok, c_1, c_2, c_bg, size1, size2, size3)\n",
    "    scores.append((tok, score))\n",
    "\n",
    "scores.sort(key=operator.itemgetter(1), reverse=True)"
   ]
  },
  {
   "cell_type": "code",
   "execution_count": 42,
   "metadata": {},
   "outputs": [
    {
     "data": {
      "text/plain": [
       "[('pt', 26.131029201545427),\n",
       " ('pain', 22.63095678225238),\n",
       " ('brain', 21.524038665666207),\n",
       " ('axitinib', 21.260563782196243),\n",
       " ('fibromyalgia', 20.936965557059395),\n",
       " ('ie', 20.42303179287087),\n",
       " ('avelumab', 19.35384588642298),\n",
       " ('methadone', 19.13494035369599),\n",
       " ('disorder', 18.494215297168523),\n",
       " ('bipolar', 17.873754718031464),\n",
       " ('cabozantinib', 17.258987446694114),\n",
       " ('immunodeficiency', 17.112276518891328),\n",
       " ('docetaxel', 16.98925077326428),\n",
       " ('folfirinox', 16.376720694355715),\n",
       " ('pontine', 16.12817323412844),\n",
       " ('oxycodone', 15.951542292362255),\n",
       " ('pertuzumab', 15.821089973605382),\n",
       " ('breast', 15.511475394466924),\n",
       " ('lung', 15.081237276954958),\n",
       " ('outside', 14.825118617403085),\n",
       " ('haart', 14.407141271450591),\n",
       " ('transaminitis', 14.266973743325448),\n",
       " ('cocaine', 14.241682556480438),\n",
       " ('shoulder', 14.130623281493135),\n",
       " ('depakote', 14.009657291523467),\n",
       " ('meningioma', 13.752227422710746),\n",
       " ('axillary', 13.602751192104543),\n",
       " ('depression', 13.488157206432163),\n",
       " ('opioid', 12.72735262647787),\n",
       " ('virus', 12.560145993359798),\n",
       " ('mediastinoscopy', 12.389313139773748),\n",
       " ('gluteus', 12.138443465882332),\n",
       " ('anxiety', 12.074974318621859),\n",
       " ('nephrectomy', 12.06085078365247),\n",
       " ('occipital', 12.032826094295169),\n",
       " ('frontal', 11.84677190708942),\n",
       " ('vagina', 11.833740269781423),\n",
       " ('inferolateral', 11.826910484265436),\n",
       " ('cellular', 11.723628311964529),\n",
       " ('myelofibrosis', 11.5447609828656),\n",
       " ('mediastinal', 11.504255789285802),\n",
       " ('hilar', 11.478565072752305),\n",
       " ('cd', 11.403088882922889),\n",
       " ('endobronchial', 11.014748837042259),\n",
       " ('knife', 10.969699702005427),\n",
       " ('divalproex', 10.965354269539631),\n",
       " ('ponatinib', 10.9348095037279),\n",
       " ('lymphoblast', 10.667986295936595),\n",
       " ('polysubstance', 10.638902506629496),\n",
       " ('cerebellum', 10.598359650021752)]"
      ]
     },
     "execution_count": 42,
     "metadata": {},
     "output_type": "execute_result"
    }
   ],
   "source": [
    "# words with z-scores > 1.96 had higher odds of occuring for low-income insurance patients at 5% level of significance\n",
    "scores[:50]"
   ]
  },
  {
   "cell_type": "code",
   "execution_count": 43,
   "metadata": {},
   "outputs": [
    {
     "data": {
      "text/plain": [
       "[('stomach', -8.674461682495764),\n",
       " ('mid', -8.79295837226487),\n",
       " ('thigh', -8.8930146245618),\n",
       " ('rp', -8.903753673807138),\n",
       " ('aspirin', -9.09089552442337),\n",
       " ('cetirizine', -9.152540298642663),\n",
       " ('bcc', -9.269568900353963),\n",
       " ('stricture', -9.368533456813775),\n",
       " ('hyperplasia', -9.52536160353449),\n",
       " ('carcinoma', -9.613112354465521),\n",
       " ('zyrtec', -9.689816402739037),\n",
       " ('lambda', -9.866086215227424),\n",
       " ('tumor', -9.937075108703503),\n",
       " ('salvage', -9.96030800247736),\n",
       " ('crizotinib', -9.98440947632699),\n",
       " ('desensitization', -10.142849545600534),\n",
       " ('melanoma', -10.20797388931448),\n",
       " ('focal', -10.255048045478537),\n",
       " ('nivolumab', -10.60741837565935),\n",
       " ('lymphoma', -10.613871818570292),\n",
       " ('scan', -10.732791870805576),\n",
       " ('casodex', -10.832346517187984),\n",
       " ('scalp', -10.91185704240561),\n",
       " ('skin', -10.920510039337247),\n",
       " ('perineural', -10.921073712176968),\n",
       " ('mesothelioma', -11.669714310187343),\n",
       " ('glioblastoma', -11.669757739901364),\n",
       " ('nasal', -11.803396811957041),\n",
       " ('apalutamide', -11.813436080329097),\n",
       " ('cll', -11.858039897572603),\n",
       " ('adenocarcinoma', -11.884305900548346),\n",
       " ('avastin', -11.996362331821544),\n",
       " ('margin', -12.061563358447904),\n",
       " ('aortic', -12.077720807081185),\n",
       " ('flap', -12.168107862338125),\n",
       " ('neck', -12.324757004248767),\n",
       " ('marry', -13.094991497484767),\n",
       " ('femoral', -13.16838568165343),\n",
       " ('nocturia', -13.387607846808823),\n",
       " ('flash', -13.559177415202447),\n",
       " ('bicalutamide', -13.84876605265274),\n",
       " ('basal', -14.31386248907467),\n",
       " ('biopsy', -14.318793223197117),\n",
       " ('exon', -14.699076844496899),\n",
       " ('prostatectomy', -15.854359313846164),\n",
       " ('core', -16.116997138440787),\n",
       " ('file', -16.971825203820902),\n",
       " ('prostatic', -17.79163280267975),\n",
       " ('unrelated', -19.733859201537705),\n",
       " ('prostate', -37.48353740001876)]"
      ]
     },
     "execution_count": 43,
     "metadata": {},
     "output_type": "execute_result"
    }
   ],
   "source": [
    "# words with z-scores < -1.96 had higher odds of occuring for non-low-income insurance patients at 5% level of significance\n",
    "scores[len(scores)-50: len(scores)]"
   ]
  },
  {
   "cell_type": "code",
   "execution_count": null,
   "metadata": {},
   "outputs": [],
   "source": [
    "with open('<Path to save this csv>', 'w') as f:\n",
    "    writer = csv.writer(f)\n",
    "    for val in ratios:\n",
    "        writer.writerow([val])"
   ]
  },
  {
   "cell_type": "markdown",
   "metadata": {},
   "source": [
    "# 2c: Compute 95% confidence intervals for the log odds ratios for medical words"
   ]
  },
  {
   "cell_type": "code",
   "execution_count": 44,
   "metadata": {},
   "outputs": [],
   "source": [
    "c_1 = dict(sorted(Counter(medical_words_lowincome).items(), key=lambda x: x[1], reverse=True))\n",
    "c_2 = dict(sorted(Counter(medical_words_nonlowincome).items(), key=lambda x: x[1], reverse=True))\n",
    "\n",
    "size1 = _size(c_1)\n",
    "size2 = _size(c_2)\n",
    "size3 = _size(c_bg)\n",
    "\n",
    "supported_tokens = set(c_1.keys())\n",
    "supported_tokens &= c_2.keys()\n",
    "supported_tokens &= c_bg.keys()"
   ]
  },
  {
   "cell_type": "code",
   "execution_count": 46,
   "metadata": {},
   "outputs": [],
   "source": [
    "CIs = []\n",
    "for tok in supported_tokens:\n",
    "    CI = _log_odds_CI(tok, c_1, c_2, c_bg, size1, size2, size3)\n",
    "    CIs.append((tok, CI))\n",
    "\n",
    "\n",
    "CIs_sorted = []\n",
    "CIs = dict(CIs)\n",
    "for tok in dict(scores).keys():\n",
    "    CIs_sorted.append((tok,CIs.get(tok)))\n",
    "\n",
    "    "
   ]
  },
  {
   "cell_type": "code",
   "execution_count": 47,
   "metadata": {},
   "outputs": [
    {
     "data": {
      "text/plain": [
       "[('pt', [0.091, 0.106]),\n",
       " ('pain', [0.027, 0.033]),\n",
       " ('brain', [0.058, 0.07]),\n",
       " ('axitinib', [0.279, 0.336]),\n",
       " ('fibromyalgia', [0.328, 0.395]),\n",
       " ('ie', [0.285, 0.346]),\n",
       " ('avelumab', [0.324, 0.397]),\n",
       " ('methadone', [0.234, 0.287]),\n",
       " ('disorder', [0.078, 0.097]),\n",
       " ('bipolar', [0.276, 0.344]),\n",
       " ('cabozantinib', [0.179, 0.224]),\n",
       " ('immunodeficiency', [0.349, 0.44]),\n",
       " ('docetaxel', [0.131, 0.166]),\n",
       " ('folfirinox', [0.134, 0.17]),\n",
       " ('pontine', [0.357, 0.456]),\n",
       " ('oxycodone', [0.078, 0.1]),\n",
       " ('pertuzumab', [0.245, 0.315]),\n",
       " ('breast', [0.032, 0.041]),\n",
       " ('lung', [0.031, 0.04]),\n",
       " ('outside', [0.049, 0.063]),\n",
       " ('haart', [0.386, 0.508]),\n",
       " ('transaminitis', [0.226, 0.298]),\n",
       " ('cocaine', [0.35, 0.462]),\n",
       " ('shoulder', [0.064, 0.085]),\n",
       " ('depakote', [0.319, 0.423]),\n",
       " ('meningioma', [0.154, 0.205]),\n",
       " ('axillary', [0.058, 0.078]),\n",
       " ('depression', [0.062, 0.083]),\n",
       " ('opioid', [0.128, 0.174]),\n",
       " ('virus', [0.191, 0.261]),\n",
       " ('mediastinoscopy', [0.129, 0.178]),\n",
       " ('gluteus', [0.254, 0.352]),\n",
       " ('anxiety', [0.049, 0.067]),\n",
       " ('nephrectomy', [0.087, 0.121]),\n",
       " ('occipital', [0.108, 0.151]),\n",
       " ('frontal', [0.06, 0.084]),\n",
       " ('vagina', [0.18, 0.252]),\n",
       " ('inferolateral', [0.317, 0.443]),\n",
       " ('cellular', [0.232, 0.326]),\n",
       " ('myelofibrosis', [0.28, 0.395]),\n",
       " ('mediastinal', [0.053, 0.075]),\n",
       " ('hilar', [0.054, 0.076]),\n",
       " ('cd', [0.162, 0.229]),\n",
       " ('endobronchial', [0.127, 0.182]),\n",
       " ('knife', [0.289, 0.415]),\n",
       " ('divalproex', [0.333, 0.478]),\n",
       " ('ponatinib', [0.273, 0.392]),\n",
       " ('lymphoblast', [0.269, 0.39]),\n",
       " ('polysubstance', [0.359, 0.521]),\n",
       " ('cerebellum', [0.134, 0.195])]"
      ]
     },
     "execution_count": 47,
     "metadata": {},
     "output_type": "execute_result"
    }
   ],
   "source": [
    "# The following had higher odds of occurring for low-income patient\n",
    "CIs_sorted[:50]"
   ]
  },
  {
   "cell_type": "code",
   "execution_count": 48,
   "metadata": {},
   "outputs": [
    {
     "data": {
      "text/plain": [
       "[('stomach', [-0.11, -0.07]),\n",
       " ('mid', [-0.069, -0.044]),\n",
       " ('thigh', [-0.099, -0.064]),\n",
       " ('rp', [-0.143, -0.091]),\n",
       " ('aspirin', [-0.083, -0.054]),\n",
       " ('cetirizine', [-0.207, -0.134]),\n",
       " ('bcc', [-0.229, -0.149]),\n",
       " ('stricture', [-0.226, -0.148]),\n",
       " ('hyperplasia', [-0.148, -0.097]),\n",
       " ('carcinoma', [-0.037, -0.024]),\n",
       " ('zyrtec', [-0.203, -0.135]),\n",
       " ('lambda', [-0.29, -0.194]),\n",
       " ('tumor', [-0.037, -0.025]),\n",
       " ('salvage', [-0.179, -0.12]),\n",
       " ('crizotinib', [-0.329, -0.221]),\n",
       " ('desensitization', [-0.385, -0.26]),\n",
       " ('melanoma', [-0.084, -0.057]),\n",
       " ('focal', [-0.064, -0.043]),\n",
       " ('nivolumab', [-0.111, -0.076]),\n",
       " ('lymphoma', [-0.097, -0.067]),\n",
       " ('scan', [-0.039, -0.027]),\n",
       " ('casodex', [-0.145, -0.101]),\n",
       " ('scalp', [-0.126, -0.088]),\n",
       " ('skin', [-0.032, -0.022]),\n",
       " ('perineural', [-0.151, -0.105]),\n",
       " ('mesothelioma', [-0.332, -0.237]),\n",
       " ('glioblastoma', [-0.229, -0.163]),\n",
       " ('nasal', [-0.098, -0.07]),\n",
       " ('apalutamide', [-0.356, -0.255]),\n",
       " ('cll', [-0.288, -0.206]),\n",
       " ('adenocarcinoma', [-0.054, -0.039]),\n",
       " ('avastin', [-0.2, -0.144]),\n",
       " ('margin', [-0.071, -0.051]),\n",
       " ('aortic', [-0.142, -0.103]),\n",
       " ('flap', [-0.226, -0.163]),\n",
       " ('neck', [-0.04, -0.029]),\n",
       " ('marry', [-0.128, -0.095]),\n",
       " ('femoral', [-0.184, -0.137]),\n",
       " ('nocturia', [-0.139, -0.103]),\n",
       " ('flash', [-0.116, -0.086]),\n",
       " ('bicalutamide', [-0.189, -0.142]),\n",
       " ('basal', [-0.202, -0.153]),\n",
       " ('biopsy', [-0.044, -0.034]),\n",
       " ('exon', [-0.23, -0.176]),\n",
       " ('prostatectomy', [-0.182, -0.142]),\n",
       " ('core', [-0.093, -0.072]),\n",
       " ('file', [-0.069, -0.055]),\n",
       " ('prostatic', [-0.156, -0.125]),\n",
       " ('unrelated', [-0.134, -0.11]),\n",
       " ('prostate', [-0.133, -0.12])]"
      ]
     },
     "execution_count": 48,
     "metadata": {},
     "output_type": "execute_result"
    }
   ],
   "source": [
    "# The following had higher odds of occurring for non-low-income patient\n",
    "CIs_sorted[len(CIs_sorted)-50: len(CIs_sorted)]"
   ]
  },
  {
   "cell_type": "code",
   "execution_count": 49,
   "metadata": {},
   "outputs": [],
   "source": [
    "with open('<Path to save this csv>', 'w') as f:\n",
    "    writer = csv.writer(f)\n",
    "    for val in ratios:\n",
    "        writer.writerow([val])"
   ]
  },
  {
   "cell_type": "markdown",
   "metadata": {},
   "source": [
    "# **3a:** Compute log OR for nonmedical words"
   ]
  },
  {
   "cell_type": "markdown",
   "metadata": {},
   "source": [
    "### Redefine background corpus to only include nonmedical words"
   ]
  },
  {
   "cell_type": "code",
   "execution_count": 50,
   "metadata": {},
   "outputs": [],
   "source": [
    "c_bg = dict(sorted(Counter(nonmedical_words_nonlowincome + choices(nonmedical_words_lowincome, k = len(nonmedical_words_nonlowincome))).items(), key=lambda x: x[1], reverse=True))\n",
    "size3 = _size(c_bg)"
   ]
  },
  {
   "cell_type": "markdown",
   "metadata": {},
   "source": [
    "### Compare nonmedical words for low-income vs. non-low-income"
   ]
  },
  {
   "cell_type": "code",
   "execution_count": 51,
   "metadata": {},
   "outputs": [],
   "source": [
    "c_1 = dict(sorted(Counter(nonmedical_words_lowincome).items(), key=lambda x: x[1], reverse=True))\n",
    "c_2 = dict(sorted(Counter(nonmedical_words_nonlowincome).items(), key=lambda x: x[1], reverse=True))\n",
    "\n",
    "size1 = _size(c_1)\n",
    "size2 = _size(c_2)\n",
    "\n",
    "\n",
    "supported_tokens = set(list(c_1.keys()) +list(c_2.keys()))\n",
    "#supported_tokens &= c_2.keys()\n",
    "#supported_tokens &= c_bg.keys()\n",
    "\n",
    "ratios = []\n",
    "\n",
    "for tok in supported_tokens:\n",
    "    try:\n",
    "        rat = _log_odds(tok, c_1, c_2, c_bg, size1, size2, size3)\n",
    "        ratios.append((tok, rat))\n",
    "    except:\n",
    "        print(tok)\n",
    "\n",
    "ratios.sort(key=operator.itemgetter(1), reverse=True)"
   ]
  },
  {
   "cell_type": "code",
   "execution_count": 52,
   "metadata": {},
   "outputs": [
    {
     "data": {
      "text/plain": [
       "[('teens', 0.7546333768100837),\n",
       " ('ipecac', 0.6368503479596654),\n",
       " ('taught', 0.6368503479596654),\n",
       " ('interfered', 0.5723118336280564),\n",
       " ('groups', 0.5723118336280564),\n",
       " ('gross', 0.5723118336280564),\n",
       " ('clubhouse', 0.5498390348983779),\n",
       " ('coparent', 0.5498390348983779),\n",
       " ('palms', 0.5314899030361477),\n",
       " ('performer', 0.531489845913768),\n",
       " ('planes', 0.531489845913768),\n",
       " ('cognac', 0.523521854437746),\n",
       " ('blocking', 0.5033191036097566),\n",
       " ('quarrel', 0.5033189757530341),\n",
       " ('panacea', 0.5033189757530341),\n",
       " ('chive', 0.5033189757530341),\n",
       " ('underemployment', 0.5033189757530341),\n",
       " ('msq', 0.5033189757530341),\n",
       " ('kratom', 0.5033189757530341),\n",
       " ('sphinx', 0.5033189757530341),\n",
       " ('hyperpigmented', 0.49226921030077087),\n",
       " ('malpractice', 0.48893037976959697),\n",
       " ('compleat', 0.48893037976959697),\n",
       " ('mechanics', 0.48574418460333924),\n",
       " ('oldwoman', 0.48269976609058673),\n",
       " ('stepsister', 0.48269976609058673),\n",
       " ('soldier', 0.4826996953562652),\n",
       " ('nutcracker', 0.4826996953562652),\n",
       " ('deportation', 0.4826996953562652),\n",
       " ('noni', 0.47978884562660795),\n",
       " ('baria', 0.4794357311797057),\n",
       " ('indic', 0.47433152322603966),\n",
       " ('assertiveness', 0.47433152322603966),\n",
       " ('reinforcer', 0.47433152322603966),\n",
       " ('missionary', 0.47433152322603966),\n",
       " ('coding', 0.47433152322603966),\n",
       " ('desiccated', 0.47433152322603966),\n",
       " ('estimator', 0.4724014723263057),\n",
       " ('syrian', 0.4717707799046824),\n",
       " ('osprey', 0.4699512166955806),\n",
       " ('hazelnut', 0.4693139191502862),\n",
       " ('feline', 0.46695320616836256),\n",
       " ('rodent', 0.4669531286274662),\n",
       " ('slang', 0.4669514227343843),\n",
       " ('calming', 0.4669514227343843),\n",
       " ('forgiveness', 0.46695134519409187),\n",
       " ('uninsured', 0.46695134519409187),\n",
       " ('cyclone', 0.46695134519409187),\n",
       " ('neurotic', 0.46695134519409187),\n",
       " ('skills', 0.46695134519409187)]"
      ]
     },
     "execution_count": 52,
     "metadata": {},
     "output_type": "execute_result"
    }
   ],
   "source": [
    "# The following nonmedical words had higher odds of occurring for low-income patients\n",
    "ratios[:50]"
   ]
  },
  {
   "cell_type": "code",
   "execution_count": 53,
   "metadata": {},
   "outputs": [
    {
     "data": {
      "text/plain": [
       "[('racquetball', -0.34397945103615335),\n",
       " ('brake', -0.3439794605168025),\n",
       " ('obstetrician', -0.3439794794781026),\n",
       " ('prophase', -0.3439794889587535),\n",
       " ('cafe', -0.3439794889587535),\n",
       " ('pagan', -0.34397951740070987),\n",
       " ('osteopath', -0.34397954584266976),\n",
       " ('photography', -0.34397954584266976),\n",
       " ('sow', -0.34397955532332425),\n",
       " ('grass', -0.34397955532332425),\n",
       " ('submarine', -0.34397956480397873),\n",
       " ('competitive', -0.3439795837652895),\n",
       " ('mango', -0.3439795837652895),\n",
       " ('louisiana', -0.3439795837652895),\n",
       " ('uncaria', -0.34397962168791985),\n",
       " ('periodontist', -0.3439796311685779),\n",
       " ('collagenous', -0.3439796501298975),\n",
       " ('lymphangiogram', -0.3439796501298975),\n",
       " ('sir', -0.3439796880525403),\n",
       " ('manufacturing', -0.34397970701386527),\n",
       " ('pellet', -0.34397971649452863),\n",
       " ('pilocytic', -0.3439797259751938),\n",
       " ('wisconsin', -0.34397974493652406),\n",
       " ('latvia', -0.34397974493652406),\n",
       " ('venezuela', -0.3439797544171892),\n",
       " ('compressible', -0.34397976389785434),\n",
       " ('scotch', -0.3439797923398551),\n",
       " ('wall', -0.3439798113011925),\n",
       " ('retrospective', -0.34397983026253165),\n",
       " ('heterologous', -0.34397983026253165),\n",
       " ('transect', -0.3439798681852171),\n",
       " ('megakaryocytic', -0.3439798681852171),\n",
       " ('researcher', -0.34397987766588756),\n",
       " ('plumbing', -0.3439798871465616),\n",
       " ('romania', -0.34397996299196265),\n",
       " ('chylous', -0.3439800009146765),\n",
       " ('ascending', -0.34398003883739925),\n",
       " ('photon', -0.3439800483180804),\n",
       " ('wasp', -0.3439800862408138),\n",
       " ('firefighter', -0.3439801526056172),\n",
       " ('jet', -0.3439801526056172),\n",
       " ('lake', -0.3439802094897537),\n",
       " ('schema', -0.3439802568932162),\n",
       " ('aplasia', -0.3439802948159958),\n",
       " ('incipient', -0.3439803801422805),\n",
       " ('neutron', -0.34398119548448314),\n",
       " ('metaplastic', -0.34398154627244537),\n",
       " ('epiphora', -0.343981612637819),\n",
       " ('muscadine', -0.3439818591379957),\n",
       " ('malt', -0.3439819349842761)]"
      ]
     },
     "execution_count": 53,
     "metadata": {},
     "output_type": "execute_result"
    }
   ],
   "source": [
    "# The following nonmedical words had higher odds of occurring for non-low-income patients \n",
    "ratios[len(ratios)-50: len(ratios)]"
   ]
  },
  {
   "cell_type": "code",
   "execution_count": null,
   "metadata": {},
   "outputs": [],
   "source": [
    "with open('<Path to save this csv>', 'w') as f:\n",
    "    writer = csv.writer(f)\n",
    "    for val in ratios:\n",
    "        writer.writerow([val])"
   ]
  },
  {
   "cell_type": "markdown",
   "metadata": {},
   "source": [
    "# 3b: Compute z-scores for nonmedical words"
   ]
  },
  {
   "cell_type": "code",
   "execution_count": 54,
   "metadata": {},
   "outputs": [],
   "source": [
    "c_1 = dict(sorted(Counter(nonmedical_words_lowincome).items(), key=lambda x: x[1], reverse=True))\n",
    "c_2 = dict(sorted(Counter(nonmedical_words_nonlowincome).items(), key=lambda x: x[1], reverse=True))\n",
    "\n",
    "size1 = _size(c_1)\n",
    "size2 = _size(c_2)\n",
    "\n",
    "\n",
    "supported_tokens = set(list(c_1.keys()) +list(c_2.keys()))\n",
    "#supported_tokens &= c_2.keys()\n",
    "#supported_tokens &= c_bg.keys()\n",
    "\n",
    "scores = []\n",
    "\n",
    "for tok in supported_tokens:\n",
    "    try:\n",
    "        score = _z_score(tok, c_1, c_2, c_bg, size1, size2, size3)\n",
    "        scores.append((tok, score))\n",
    "    except:\n",
    "        print(tok)\n",
    "\n",
    "scores.sort(key=operator.itemgetter(1), reverse=True)"
   ]
  },
  {
   "cell_type": "code",
   "execution_count": 55,
   "metadata": {},
   "outputs": [
    {
     "data": {
      "text/plain": [
       "[('she', 35.33183693395091),\n",
       " ('her', 25.306341575806265),\n",
       " ('pharmacy', 16.37677993871482),\n",
       " ('blast', 14.327420859048829),\n",
       " ('goal', 14.038604170859022),\n",
       " ('sister', 13.870593494604451),\n",
       " ('vaginal', 13.75926596640333),\n",
       " ('chronic', 13.727551830560754),\n",
       " ('human', 12.679326643579254),\n",
       " ('hour', 12.34895733052445),\n",
       " ('insurance', 12.028551975540404),\n",
       " ('access', 11.983841920301966),\n",
       " ('help', 11.571302982745022),\n",
       " ('intrapelvic', 11.366389788538964),\n",
       " ('intrathecal', 11.024469776192877),\n",
       " ('interpreter', 10.867635524857128),\n",
       " ('viral', 10.78217949684937),\n",
       " ('ox', 10.650653648910522),\n",
       " ('like', 10.64060070719339),\n",
       " ('housing', 10.638174299188245),\n",
       " ('secondary', 10.61911932502813),\n",
       " ('divorce', 10.613479630660986),\n",
       " ('provide', 10.268577549464998),\n",
       " ('peptic', 10.185858890145337),\n",
       " ('partial', 10.015121518702117),\n",
       " ('hospital', 10.000228175060919),\n",
       " ('polypoid', 9.853228568051609),\n",
       " ('ideation', 9.840965545269244),\n",
       " ('myeloid', 9.621261604631155),\n",
       " ('refill', 9.578903604938327),\n",
       " ('indicator', 9.529618046991704),\n",
       " ('inpatient', 9.401408960297818),\n",
       " ('graduate', 9.347222459625701),\n",
       " ('friend', 9.339432961269967),\n",
       " ('markedly', 9.31485673310638),\n",
       " ('lebanon', 9.26714915828441),\n",
       " ('morocco', 9.241189909931405),\n",
       " ('due', 9.216800522860531),\n",
       " ('appointment', 9.08075126465981),\n",
       " ('parent', 8.938227782969589),\n",
       " ('self', 8.851564940351759),\n",
       " ('need', 8.834492902952833),\n",
       " ('final', 8.646384584312393),\n",
       " ('control', 8.634755529436061),\n",
       " ('intent', 8.629982993634615),\n",
       " ('utah', 8.547935746016043),\n",
       " ('mother', 8.255197588852129),\n",
       " ('tracheostomy', 8.223474823983882),\n",
       " ('attenuation', 8.172574196443097),\n",
       " ('transfer', 8.154436351419687)]"
      ]
     },
     "execution_count": 55,
     "metadata": {},
     "output_type": "execute_result"
    }
   ],
   "source": [
    "# words with z-scores > 1.96 had higher odds of occuring for low-income insurance patients at 5% level of significance\n",
    "scores[:50]"
   ]
  },
  {
   "cell_type": "code",
   "execution_count": 56,
   "metadata": {},
   "outputs": [
    {
     "data": {
      "text/plain": [
       "[('motion', -7.486094858165483),\n",
       " ('set', -7.51342020856957),\n",
       " ('assay', -7.617202005168795),\n",
       " ('form', -7.650294872783311),\n",
       " ('medium', -7.716088558778836),\n",
       " ('microwave', -7.8006895143749455),\n",
       " ('replacement', -7.869752195084501),\n",
       " ('golf', -7.9469470772197095),\n",
       " ('undifferentiated', -7.958935468523697),\n",
       " ('medical', -8.014625529090498),\n",
       " ('calcify', -8.056620867550425),\n",
       " ('well', -8.083973082648814),\n",
       " ('actinic', -8.101424650798883),\n",
       " ('toxicity', -8.2634032646828),\n",
       " ('hormonal', -8.386429301517506),\n",
       " ('often', -8.467885739347656),\n",
       " ('date', -8.546821526491604),\n",
       " ('body', -8.568114691321718),\n",
       " ('direction', -8.571377778216421),\n",
       " ('myxoid', -8.58937154575766),\n",
       " ('serous', -9.008205398591832),\n",
       " ('analysis', -9.177753847216248),\n",
       " ('stenosis', -9.216180681857061),\n",
       " ('mild', -9.257567600517287),\n",
       " ('male', -9.616427078087249),\n",
       " ('husband', -9.925070381277916),\n",
       " ('adjuvant', -9.963158009254276),\n",
       " ('pathology', -10.29858573820105),\n",
       " ('urgency', -10.551943906449912),\n",
       " ('benign', -10.699727820039666),\n",
       " ('available', -10.818329489083503),\n",
       " ('procedure', -10.979754475588908),\n",
       " ('frequency', -11.071615082836244),\n",
       " ('variant', -11.166535491196745),\n",
       " ('image', -11.251976011985391),\n",
       " ('adaptive', -11.825538453137678),\n",
       " ('lymphocytic', -11.902897403661648),\n",
       " ('hot', -12.309210985672019),\n",
       " ('normal', -13.183028718827446),\n",
       " ('urinary', -13.193829760173964),\n",
       " ('read', -13.204115744908975),\n",
       " ('treatment', -13.359477490804217),\n",
       " ('protocol', -13.685921457718017),\n",
       " ('kappa', -13.994889055670725),\n",
       " ('radiation', -14.093788288117429),\n",
       " ('none', -14.32349690533989),\n",
       " ('review', -14.742664415724704),\n",
       " ('history', -17.27186672864738),\n",
       " ('wife', -17.377240433974485),\n",
       " ('mr', -20.0287085171977)]"
      ]
     },
     "execution_count": 56,
     "metadata": {},
     "output_type": "execute_result"
    }
   ],
   "source": [
    "# words with z-scores < -1.96 had higher odds of occuring for non-low-income insurance patients at 5% level of significance\n",
    "scores[len(scores)-50: len(scores)]"
   ]
  },
  {
   "cell_type": "code",
   "execution_count": null,
   "metadata": {},
   "outputs": [],
   "source": [
    "with open('<Path to save this csv>', 'w') as f:\n",
    "    writer = csv.writer(f)\n",
    "    for val in ratios:\n",
    "        writer.writerow([val])"
   ]
  },
  {
   "cell_type": "markdown",
   "metadata": {},
   "source": [
    "# 3c: Compute 95% confidence intervals for the log odds ratios for nonmedical words"
   ]
  },
  {
   "cell_type": "code",
   "execution_count": 57,
   "metadata": {},
   "outputs": [],
   "source": [
    "c_1 = dict(sorted(Counter(nonmedical_words_lowincome).items(), key=lambda x: x[1], reverse=True))\n",
    "c_2 = dict(sorted(Counter(nonmedical_words_nonlowincome).items(), key=lambda x: x[1], reverse=True))\n",
    "\n",
    "size1 = _size(c_1)\n",
    "size2 = _size(c_2)\n",
    "\n",
    "\n",
    "supported_tokens = set(list(c_1.keys()) +list(c_2.keys()))"
   ]
  },
  {
   "cell_type": "code",
   "execution_count": 58,
   "metadata": {},
   "outputs": [],
   "source": [
    "CIs = []\n",
    "for tok in supported_tokens:\n",
    "    CI = _log_odds_CI(tok, c_1, c_2, c_bg, size1, size2, size3)\n",
    "    CIs.append((tok, CI))\n",
    "\n",
    "CIs_sorted = []\n",
    "CIs = dict(CIs)\n",
    "for tok in dict(scores).keys():\n",
    "    CIs_sorted.append((tok,CIs.get(tok)))\n",
    "\n",
    "    "
   ]
  },
  {
   "cell_type": "code",
   "execution_count": 59,
   "metadata": {},
   "outputs": [
    {
     "data": {
      "text/plain": [
       "[('she', [0.035, 0.039]),\n",
       " ('her', [0.038, 0.045]),\n",
       " ('pharmacy', [0.058, 0.074]),\n",
       " ('blast', [0.14, 0.184]),\n",
       " ('goal', [0.11, 0.145]),\n",
       " ('sister', [0.096, 0.128]),\n",
       " ('vaginal', [0.09, 0.121]),\n",
       " ('chronic', [0.049, 0.066]),\n",
       " ('human', [0.224, 0.306]),\n",
       " ('hour', [0.035, 0.049]),\n",
       " ('insurance', [0.131, 0.182]),\n",
       " ('access', [0.147, 0.205]),\n",
       " ('help', [0.053, 0.075]),\n",
       " ('intrapelvic', [0.34, 0.482]),\n",
       " ('intrathecal', [0.247, 0.354]),\n",
       " ('interpreter', [0.252, 0.363]),\n",
       " ('viral', [0.13, 0.188]),\n",
       " ('ox', [0.132, 0.192]),\n",
       " ('like', [0.049, 0.071]),\n",
       " ('housing', [0.265, 0.384]),\n",
       " ('secondary', [0.061, 0.089]),\n",
       " ('divorce', [0.143, 0.207]),\n",
       " ('provide', [0.058, 0.086]),\n",
       " ('peptic', [0.228, 0.336]),\n",
       " ('partial', [0.057, 0.085]),\n",
       " ('hospital', [0.038, 0.056]),\n",
       " ('polypoid', [0.184, 0.276]),\n",
       " ('ideation', [0.118, 0.177]),\n",
       " ('myeloid', [0.14, 0.212]),\n",
       " ('refill', [0.052, 0.079]),\n",
       " ('indicator', [0.193, 0.293]),\n",
       " ('inpatient', [0.126, 0.193]),\n",
       " ('graduate', [0.204, 0.312]),\n",
       " ('friend', [0.087, 0.134]),\n",
       " ('markedly', [0.101, 0.155]),\n",
       " ('lebanon', [0.323, 0.496]),\n",
       " ('morocco', [0.343, 0.528]),\n",
       " ('due', [0.026, 0.04]),\n",
       " ('appointment', [0.054, 0.083]),\n",
       " ('parent', [0.137, 0.214]),\n",
       " ('self', [0.063, 0.098]),\n",
       " ('need', [0.019, 0.029]),\n",
       " ('final', [0.028, 0.044]),\n",
       " ('control', [0.032, 0.05]),\n",
       " ('intent', [0.127, 0.202]),\n",
       " ('utah', [0.293, 0.467]),\n",
       " ('mother', [0.043, 0.07]),\n",
       " ('tracheostomy', [0.192, 0.312]),\n",
       " ('attenuation', [0.091, 0.148]),\n",
       " ('transfer', [0.083, 0.136])]"
      ]
     },
     "execution_count": 59,
     "metadata": {},
     "output_type": "execute_result"
    }
   ],
   "source": [
    "# The following had higher odds of occurring for low-income patient\n",
    "CIs_sorted[:50]"
   ]
  },
  {
   "cell_type": "code",
   "execution_count": 60,
   "metadata": {},
   "outputs": [
    {
     "data": {
      "text/plain": [
       "[('motion', [-0.057, -0.033]),\n",
       " ('set', [-0.046, -0.027]),\n",
       " ('assay', [-0.295, -0.174]),\n",
       " ('form', [-0.06, -0.035]),\n",
       " ('medium', [-0.093, -0.055]),\n",
       " ('microwave', [-0.418, -0.25]),\n",
       " ('replacement', [-0.105, -0.063]),\n",
       " ('golf', [-0.241, -0.146]),\n",
       " ('undifferentiated', [-0.357, -0.216]),\n",
       " ('medical', [-0.025, -0.015]),\n",
       " ('calcify', [-0.218, -0.133]),\n",
       " ('well', [-0.017, -0.01]),\n",
       " ('actinic', [-0.284, -0.174]),\n",
       " ('toxicity', [-0.058, -0.036]),\n",
       " ('hormonal', [-0.153, -0.095]),\n",
       " ('often', [-0.105, -0.066]),\n",
       " ('date', [-0.027, -0.017]),\n",
       " ('body', [-0.053, -0.033]),\n",
       " ('direction', [-0.107, -0.067]),\n",
       " ('myxoid', [-0.355, -0.223]),\n",
       " ('serous', [-0.221, -0.142]),\n",
       " ('analysis', [-0.224, -0.145]),\n",
       " ('stenosis', [-0.117, -0.076]),\n",
       " ('mild', [-0.035, -0.023]),\n",
       " ('male', [-0.055, -0.036]),\n",
       " ('husband', [-0.088, -0.059]),\n",
       " ('adjuvant', [-0.075, -0.051]),\n",
       " ('pathology', [-0.054, -0.037]),\n",
       " ('urgency', [-0.101, -0.069]),\n",
       " ('benign', [-0.083, -0.057]),\n",
       " ('available', [-0.08, -0.055]),\n",
       " ('procedure', [-0.052, -0.036]),\n",
       " ('frequency', [-0.067, -0.047]),\n",
       " ('variant', [-0.188, -0.132]),\n",
       " ('image', [-0.052, -0.037]),\n",
       " ('adaptive', [-0.231, -0.165]),\n",
       " ('lymphocytic', [-0.302, -0.217]),\n",
       " ('hot', [-0.102, -0.074]),\n",
       " ('normal', [-0.034, -0.025]),\n",
       " ('urinary', [-0.065, -0.048]),\n",
       " ('read', [-0.107, -0.079]),\n",
       " ('treatment', [-0.035, -0.026]),\n",
       " ('protocol', [-0.095, -0.071]),\n",
       " ('kappa', [-0.329, -0.248]),\n",
       " ('radiation', [-0.035, -0.027]),\n",
       " ('none', [-0.039, -0.03]),\n",
       " ('review', [-0.029, -0.022]),\n",
       " ('history', [-0.023, -0.018]),\n",
       " ('wife', [-0.118, -0.094]),\n",
       " ('mr', [-0.089, -0.073])]"
      ]
     },
     "execution_count": 60,
     "metadata": {},
     "output_type": "execute_result"
    }
   ],
   "source": [
    "# The following had higher odds of occurring for non-low-income patients\n",
    "CIs_sorted[len(CIs_sorted)-50: len(CIs_sorted)]"
   ]
  },
  {
   "cell_type": "code",
   "execution_count": 61,
   "metadata": {},
   "outputs": [],
   "source": [
    "with open('<Path to save this csv>', 'w') as f:\n",
    "    writer = csv.writer(f)\n",
    "    for val in ratios:\n",
    "        writer.writerow([val])"
   ]
  },
  {
   "cell_type": "code",
   "execution_count": null,
   "metadata": {},
   "outputs": [],
   "source": []
  }
 ],
 "metadata": {
  "kernelspec": {
   "display_name": "Python 3 (ipykernel)",
   "language": "python",
   "name": "python3"
  },
  "language_info": {
   "codemirror_mode": {
    "name": "ipython",
    "version": 3
   },
   "file_extension": ".py",
   "mimetype": "text/x-python",
   "name": "python",
   "nbconvert_exporter": "python",
   "pygments_lexer": "ipython3",
   "version": "3.8.12"
  }
 },
 "nbformat": 4,
 "nbformat_minor": 4
}
