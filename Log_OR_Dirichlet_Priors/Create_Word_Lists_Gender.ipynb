{
 "cells": [
  {
   "cell_type": "markdown",
   "metadata": {},
   "source": [
    "## File description:\n",
    "\n",
    "This file creates the following lists and dictionaries:\n",
    "\n",
    "- Lists of all medical words used in the notes for each gender, excluding stop words, punctuation, words containing digits, 1-letter words, and person names\n",
    "\n",
    "- Lists of all nonmedical words used in the notes for each gender, excluding stop words, punctuation, words containing digits, 1-letter words, and person names\n",
    "\n",
    "- Lists of all (medical and nonmedical combined) words used in the notes for each gender, excluding stop words, punctuation, words containing digits, 1-letter words, and person names\n",
    "\n"
   ]
  },
  {
   "cell_type": "code",
   "execution_count": null,
   "metadata": {},
   "outputs": [],
   "source": [
    "### Load required packages ###\n",
    "from Word_Frequencies import nonmedical_sentiment_new #Import functions to create lists and dictionaries of words\n",
    "from collections import Counter, OrderedDict #This is used to count frequencies of words in a list\n",
    "import pickle #Use this to save dictionaries and lists\n",
    "import pandas as pd\n",
    "\n",
    "import spacy  #This is needed to break sentences into tokens\n",
    "spacy.prefer_gpu()\n",
    "import en_core_web_sm\n",
    "en_core_web_sm.load()\n",
    "from spacy.lang.en import English  #All inputted string data will be in English\n",
    "from nltk.tokenize import word_tokenize"
   ]
  },
  {
   "cell_type": "markdown",
   "metadata": {},
   "source": [
    "### Load data:"
   ]
  },
  {
   "cell_type": "code",
   "execution_count": null,
   "metadata": {},
   "outputs": [],
   "source": [
    "df = pd.read_csv(<Path to dataset>)"
   ]
  },
  {
   "cell_type": "markdown",
   "metadata": {},
   "source": [
    "## Define a function which creates lists of all words that appear in a column of text"
   ]
  },
  {
   "cell_type": "code",
   "execution_count": null,
   "metadata": {},
   "outputs": [],
   "source": [
    "def word_occurrences(data, text_column, value_column, value):\n",
    "    \"\"\"\n",
    "    data: pandas dataframe\n",
    "    text_column: column of notes from which to extract words\n",
    "    value_column: column of patient characteristics that will be used to subset the data (such as race, gender, and insurance columns)\n",
    "    value: extract words only from the rows of text_column for which the value_column is equal to value\n",
    "    returns: list of all words that occur in text_column for the specified rows\n",
    "    \"\"\"\n",
    "    if value != \"all\" and value != \"All\":\n",
    "        allwords = []\n",
    "        for elem in data[text_column][data[value_column]== value]:\n",
    "            if type(elem) == str:\n",
    "                doc = nlp(elem)\n",
    "                for token in doc:\n",
    "                    if not \" \" in token.text and not token.text in {\"`\", \"'s'\", \"n't\"} and len(token.text) > 1:\n",
    "                        allwords.append(token.text) #Add the (lowercase) lemma of each word to the list of all words\n",
    "    else:\n",
    "        allwords = []\n",
    "        for elem in data[text_column]:\n",
    "            if type(elem) == str:\n",
    "                doc = nlp(elem)\n",
    "                for token in doc:\n",
    "                    if not \" \" in token.text and not token.text in {\"`\", \"'s'\", \"n't\"} and len(token.text) > 1:\n",
    "                        allwords.append(token.text) #Add the (lowercase) lemma of each word to the list of all words\n",
    "    return(allwords)"
   ]
  },
  {
   "cell_type": "markdown",
   "metadata": {},
   "source": [
    "### Exclude patients with gendered disease site"
   ]
  },
  {
   "cell_type": "code",
   "execution_count": null,
   "metadata": {},
   "outputs": [],
   "source": [
    "from utils import filter_data"
   ]
  },
  {
   "cell_type": "code",
   "execution_count": null,
   "metadata": {},
   "outputs": [],
   "source": [
    "GENDERED_DISEASE_SITES = ['GU-Prostate',\n",
    " 'Breast-NOS',\n",
    " 'Gyn-Uterus',\n",
    " 'Breast-DCIS',\n",
    " 'Breast',\n",
    " 'Gyn-Cervix',\n",
    " 'Gyn-Vulva',\n",
    " 'Gyn-NOS',\n",
    " 'Gyn-Ovary',\n",
    " 'GU-Testicular',\n",
    " 'Gyn-Vagina',\n",
    " 'GU-Penis',\n",
    " 'Breast-Gynecomastia']\n"
   ]
  },
  {
   "cell_type": "code",
   "execution_count": null,
   "metadata": {},
   "outputs": [],
   "source": [
    "# Removed patients with gendered primary disease sites\n",
    "df_filtered = filter_data(df, \"disease_site\",GENDERED_DISEASE_SITES)"
   ]
  },
  {
   "cell_type": "markdown",
   "metadata": {},
   "source": [
    "# Make medical word lists"
   ]
  },
  {
   "cell_type": "markdown",
   "metadata": {},
   "source": [
    "### Save all MEDICAL words for female patients to a list, then save that list to a pickle file"
   ]
  },
  {
   "cell_type": "code",
   "execution_count": null,
   "metadata": {
    "scrolled": false
   },
   "outputs": [],
   "source": [
    "medical_words_Female = word_occurrences(df_filtered, \"text_sections_Cleaned1_medical\", \"Gender\", \"Female\")"
   ]
  },
  {
   "cell_type": "code",
   "execution_count": null,
   "metadata": {},
   "outputs": [],
   "source": [
    "f = open('medical_words_Female.pkl', \"wb\")\n",
    "pickle.dump(medical_words_Female, f)\n",
    "f.close()"
   ]
  },
  {
   "cell_type": "markdown",
   "metadata": {},
   "source": [
    "### Save all MEDICAL words for male patients to a list, then save that list to a pickle file"
   ]
  },
  {
   "cell_type": "code",
   "execution_count": null,
   "metadata": {},
   "outputs": [],
   "source": [
    "medical_words_Male = word_occurrences(df_filtered, \"text_sections_Cleaned1_medical\", \"Gender\", \"Male\")"
   ]
  },
  {
   "cell_type": "code",
   "execution_count": null,
   "metadata": {},
   "outputs": [],
   "source": [
    "f = open('medical_words_Male.pkl', \"wb\")\n",
    "pickle.dump(medical_words_Male, f)\n",
    "f.close()"
   ]
  },
  {
   "cell_type": "markdown",
   "metadata": {},
   "source": [
    "# Make nonmedical word lists"
   ]
  },
  {
   "cell_type": "markdown",
   "metadata": {},
   "source": [
    "### Save all NON-MEDICAL words for female patients to a list, then save that list to a pickle file"
   ]
  },
  {
   "cell_type": "code",
   "execution_count": null,
   "metadata": {},
   "outputs": [],
   "source": [
    "nonmedical_words_Female = word_occurrences(df_filtered, \"text_sections_Cleaned1_nonmedical\", \"Gender\", \"Female\")"
   ]
  },
  {
   "cell_type": "code",
   "execution_count": null,
   "metadata": {},
   "outputs": [],
   "source": [
    "f = open('nonmedical_words_Female.pkl', \"wb\")\n",
    "pickle.dump(nonmedical_words_Female, f)\n",
    "f.close()"
   ]
  },
  {
   "cell_type": "markdown",
   "metadata": {},
   "source": [
    "### Save all NON-MEDICAL words for male patients to a list, then save that list to a pickle file"
   ]
  },
  {
   "cell_type": "code",
   "execution_count": null,
   "metadata": {},
   "outputs": [],
   "source": [
    "nonmedical_words_Male = word_occurrences(df_filtered, \"text_sections_Cleaned1_nonmedical\", \"Gender\", \"Male\")"
   ]
  },
  {
   "cell_type": "code",
   "execution_count": null,
   "metadata": {},
   "outputs": [],
   "source": [
    "f = open('nonmedical_words_Male.pkl', \"wb\")\n",
    "pickle.dump(nonmedical_words_Male, f)\n",
    "f.close()"
   ]
  },
  {
   "cell_type": "markdown",
   "metadata": {},
   "source": [
    "# Make all (medical + nonmedical) word lists"
   ]
  },
  {
   "cell_type": "markdown",
   "metadata": {},
   "source": [
    "### Save ALL words for female patients to a list, then save that list to a pickle file"
   ]
  },
  {
   "cell_type": "code",
   "execution_count": null,
   "metadata": {},
   "outputs": [],
   "source": [
    "all_words_Female = word_occurrences(df_filtered, \"text_sections_Cleaned1_nonmedical\", \"Gender\", \"All\")"
   ]
  },
  {
   "cell_type": "code",
   "execution_count": null,
   "metadata": {},
   "outputs": [],
   "source": [
    "f = open('all_words_Female.pkl', \"wb\")\n",
    "pickle.dump(all_words_Female, f)\n",
    "f.close()"
   ]
  },
  {
   "cell_type": "markdown",
   "metadata": {},
   "source": [
    "### Save ALL words for male patients to a list, then save that list to a pickle file"
   ]
  },
  {
   "cell_type": "code",
   "execution_count": null,
   "metadata": {},
   "outputs": [],
   "source": [
    "all_words_Male = word_occurrences(df_filtered, \"text_sections_Cleaned1_nonmedical\", \"Gender\", \"All\")"
   ]
  },
  {
   "cell_type": "code",
   "execution_count": null,
   "metadata": {},
   "outputs": [],
   "source": [
    "f = open('all_words_Male.pkl', \"wb\")\n",
    "pickle.dump(all_words_Male, f)\n",
    "f.close()"
   ]
  }
 ],
 "metadata": {
  "kernelspec": {
   "display_name": "Python 3 (ipykernel)",
   "language": "python",
   "name": "python3"
  },
  "language_info": {
   "codemirror_mode": {
    "name": "ipython",
    "version": 3
   },
   "file_extension": ".py",
   "mimetype": "text/x-python",
   "name": "python",
   "nbconvert_exporter": "python",
   "pygments_lexer": "ipython3",
   "version": "3.8.12"
  }
 },
 "nbformat": 4,
 "nbformat_minor": 4
}
