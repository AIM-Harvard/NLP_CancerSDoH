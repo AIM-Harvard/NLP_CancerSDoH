{
 "cells": [
  {
   "cell_type": "markdown",
   "metadata": {},
   "source": [
    "## File description:\n",
    "\n",
    "This file creates the following lists and dictionaries:\n",
    "\n",
    "- Lists of all medical words used in the notes for each race, excluding stop words, punctuation, words containing digits, 1-letter words, and person names\n",
    "\n",
    "- Lists of all nonmedical words used in the notes for each race, excluding stop words, punctuation, words containing digits, 1-letter words, and person names\n",
    "\n",
    "- Lists of all (medical and nonmedical combined) words used in the notes for each race, excluding stop words, punctuation, words containing digits, 1-letter words, and person names\n",
    "\n"
   ]
  },
  {
   "cell_type": "code",
   "execution_count": null,
   "metadata": {
    "scrolled": true
   },
   "outputs": [],
   "source": [
    "### Load required packages ###\n",
    "from collections import Counter, OrderedDict # This is used to count frequencies of words in a list\n",
    "import pickle # Use this to save dictionaries and lists\n",
    "import pandas as pd # Needed to load csv files\n",
    "\n",
    "import spacy  # This is needed to break sentences into tokens\n",
    "spacy.prefer_gpu()\n",
    "import en_core_web_sm\n",
    "en_core_web_sm.load()\n",
    "nlp = spacy.load(\"en_core_web_sm\") # Download a trained pipeline\n",
    "from spacy.lang.en import English  # All inputted string data will be in English\n",
    "from nltk.tokenize import word_tokenize"
   ]
  },
  {
   "cell_type": "markdown",
   "metadata": {},
   "source": [
    "### Load data:"
   ]
  },
  {
   "cell_type": "code",
   "execution_count": null,
   "metadata": {},
   "outputs": [],
   "source": [
    "df = pd.read_csv(<Path to dataset>)"
   ]
  },
  {
   "cell_type": "markdown",
   "metadata": {},
   "source": [
    "### Define a function which creates lists of all words that appear in a column of text"
   ]
  },
  {
   "cell_type": "code",
   "execution_count": null,
   "metadata": {},
   "outputs": [],
   "source": [
    "def word_occurrences(data, text_column, value_column, value):\n",
    "    \"\"\"\n",
    "    data: pandas dataframe\n",
    "    text_column: column of notes from which to extract words\n",
    "    value_column: column of patient characteristics that will be used to subset the data (such as race, gender, and insurance columns)\n",
    "    value: extract words only from the rows of text_column for which the value_column is equal to value\n",
    "    returns: list of all words that occur in text_column for the specified rows\n",
    "    \"\"\"\n",
    "    if value != \"all\" and value != \"All\":\n",
    "        allwords = []\n",
    "        for elem in data[text_column][data[value_column]== value]:\n",
    "            if type(elem) == str:\n",
    "                doc = nlp(elem)\n",
    "                for token in doc:\n",
    "                    if not \" \" in token.text and not token.text in {\"`\", \"'s'\", \"n't\"} and len(token.text) > 1:\n",
    "                        allwords.append(token.text) #Add the (lowercase) lemma of each word to the list of all words\n",
    "    else:\n",
    "        allwords = []\n",
    "        for elem in data[text_column]:\n",
    "            if type(elem) == str:\n",
    "                doc = nlp(elem)\n",
    "                for token in doc:\n",
    "                    if not \" \" in token.text and not token.text in {\"`\", \"'s'\", \"n't\"} and len(token.text) > 1:\n",
    "                        allwords.append(token.text) #Add the (lowercase) lemma of each word to the list of all words\n",
    "    return(allwords)"
   ]
  },
  {
   "cell_type": "markdown",
   "metadata": {},
   "source": [
    "# Make medical word lists"
   ]
  },
  {
   "cell_type": "markdown",
   "metadata": {},
   "source": [
    "### Save all MEDICAL words for White_NonHispanic patients to lists, then save the lists to pickle files"
   ]
  },
  {
   "cell_type": "code",
   "execution_count": null,
   "metadata": {},
   "outputs": [],
   "source": [
    "medical_words_White = word_occurrences(df, \"text_sections_Cleaned1_medical\", \"Race_group\", \"White_NonHispanic\")"
   ]
  },
  {
   "cell_type": "code",
   "execution_count": null,
   "metadata": {},
   "outputs": [],
   "source": [
    "f = open('medical_words_White.pkl', \"wb\")\n",
    "pickle.dump(medical_words_White, f)\n",
    "f.close()"
   ]
  },
  {
   "cell_type": "markdown",
   "metadata": {},
   "source": [
    "### Save all MEDICAL words for Black patients to lists, then save the lists to pickle files"
   ]
  },
  {
   "cell_type": "code",
   "execution_count": null,
   "metadata": {},
   "outputs": [],
   "source": [
    "medical_words_Black = word_occurrences(df, \"text_sections_Cleaned1_medical\", \"Race_group\", \"Black\")"
   ]
  },
  {
   "cell_type": "code",
   "execution_count": null,
   "metadata": {},
   "outputs": [],
   "source": [
    "f = open('medical_words_Black.pkl', \"wb\")\n",
    "pickle.dump(medical_words_Black, f)\n",
    "f.close()"
   ]
  },
  {
   "cell_type": "markdown",
   "metadata": {},
   "source": [
    "### Save all MEDICAL words for Asian patients to lists, then save the lists to pickle files"
   ]
  },
  {
   "cell_type": "code",
   "execution_count": null,
   "metadata": {},
   "outputs": [],
   "source": [
    "medical_words_Asian = word_occurrences(df, \"text_sections_Cleaned1_medical\", \"Race_group\", \"Asian\")"
   ]
  },
  {
   "cell_type": "code",
   "execution_count": null,
   "metadata": {},
   "outputs": [],
   "source": [
    "f = open('medical_words_Asian.pkl', \"wb\")\n",
    "pickle.dump(medical_words_Asian, f)\n",
    "f.close()"
   ]
  },
  {
   "cell_type": "markdown",
   "metadata": {},
   "source": [
    "### Save all MEDICAL words for Hispanic patients to lists, then save the lists to pickle files"
   ]
  },
  {
   "cell_type": "code",
   "execution_count": null,
   "metadata": {},
   "outputs": [],
   "source": [
    "medical_words_Hispanic = word_occurrences(df, \"text_sections_Cleaned1_medical\", \"Race_group\", \"Hispanic\")"
   ]
  },
  {
   "cell_type": "code",
   "execution_count": null,
   "metadata": {},
   "outputs": [],
   "source": [
    "f = open('medical_words_Hispanic.pkl', \"wb\")\n",
    "pickle.dump(medical_words_Hispanic, f)\n",
    "f.close()"
   ]
  },
  {
   "cell_type": "markdown",
   "metadata": {},
   "source": [
    "### Save all MEDICAL words for Other patients to lists, then save the lists to pickle files"
   ]
  },
  {
   "cell_type": "code",
   "execution_count": null,
   "metadata": {},
   "outputs": [],
   "source": [
    "medical_words_Other = word_occurrences(df, \"text_sections_Cleaned1_medical\", \"Race_group\", \"Other\")"
   ]
  },
  {
   "cell_type": "code",
   "execution_count": null,
   "metadata": {},
   "outputs": [],
   "source": [
    "f = open('medical_words_Other.pkl', \"wb\")\n",
    "pickle.dump(medical_words_Other, f)\n",
    "f.close()"
   ]
  },
  {
   "cell_type": "markdown",
   "metadata": {},
   "source": [
    "### Save all MEDICAL words for Unknown patients to lists, then save the lists to pickle files"
   ]
  },
  {
   "cell_type": "code",
   "execution_count": null,
   "metadata": {},
   "outputs": [],
   "source": [
    "medical_words_Unknown = word_occurrences(df, \"text_sections_Cleaned1_medical\", \"Race_group\", \"Unknown\")"
   ]
  },
  {
   "cell_type": "code",
   "execution_count": null,
   "metadata": {},
   "outputs": [],
   "source": [
    "f = open('medical_words_Unknown.pkl', \"wb\")\n",
    "pickle.dump(medical_words_Unknown, f)\n",
    "f.close()"
   ]
  },
  {
   "cell_type": "code",
   "execution_count": null,
   "metadata": {},
   "outputs": [],
   "source": []
  },
  {
   "cell_type": "markdown",
   "metadata": {},
   "source": [
    "# Make nonmedical word lists"
   ]
  },
  {
   "cell_type": "markdown",
   "metadata": {},
   "source": [
    "### Save all NON-MEDICAL words for White_NonHispanic patients to lists, then save the lists to pickle files"
   ]
  },
  {
   "cell_type": "code",
   "execution_count": null,
   "metadata": {},
   "outputs": [],
   "source": [
    "nonmedical_words_White = word_occurrences(df, \"text_sections_Cleaned1_nonmedical\", \"Race_group\", \"White_NonHispanic\")"
   ]
  },
  {
   "cell_type": "code",
   "execution_count": null,
   "metadata": {},
   "outputs": [],
   "source": [
    "f = open('nonmedical_words_White.pkl', \"wb\")\n",
    "pickle.dump(nonmedical_words_White, f)\n",
    "f.close()"
   ]
  },
  {
   "cell_type": "markdown",
   "metadata": {},
   "source": [
    "### Save all NON-MEDICAL words for Black patients to lists, then save the lists to pickle files"
   ]
  },
  {
   "cell_type": "code",
   "execution_count": null,
   "metadata": {},
   "outputs": [],
   "source": [
    "nonmedical_words_Black = word_occurrences(df, \"text_sections_Cleaned1_nonmedical\", \"Race_group\", \"Black\")"
   ]
  },
  {
   "cell_type": "code",
   "execution_count": null,
   "metadata": {},
   "outputs": [],
   "source": [
    "f = open('nonmedical_words_Black.pkl', \"wb\")\n",
    "pickle.dump(nonmedical_words_Black, f)\n",
    "f.close()"
   ]
  },
  {
   "cell_type": "markdown",
   "metadata": {},
   "source": [
    "### Save all NON-MEDICAL words for Asian patients to lists, then save the lists to pickle files"
   ]
  },
  {
   "cell_type": "code",
   "execution_count": null,
   "metadata": {},
   "outputs": [],
   "source": [
    "nonmedical_words_Asian = word_occurrences(df, \"text_sections_Cleaned1_nonmedical\", \"Race_group\", \"Asian\")"
   ]
  },
  {
   "cell_type": "code",
   "execution_count": null,
   "metadata": {},
   "outputs": [],
   "source": [
    "f = open('nonmedical_words_Asian.pkl', \"wb\")\n",
    "pickle.dump(nonmedical_words_Asian, f)\n",
    "f.close()"
   ]
  },
  {
   "cell_type": "markdown",
   "metadata": {},
   "source": [
    "### Save all NON-MEDICAL words for Hispanic patients to lists, then save the lists to pickle files"
   ]
  },
  {
   "cell_type": "code",
   "execution_count": null,
   "metadata": {},
   "outputs": [],
   "source": [
    "nonmedical_words_Hispanic = word_occurrences(thor_df, \"text_sections_Cleaned1_nonmedical\", \"Race_group\", \"Hispanic\")"
   ]
  },
  {
   "cell_type": "code",
   "execution_count": null,
   "metadata": {},
   "outputs": [],
   "source": [
    "f = open('nonmedical_words_Hispanic.pkl', \"wb\")\n",
    "pickle.dump(nonmedical_words_Hispanic, f)\n",
    "f.close()"
   ]
  },
  {
   "cell_type": "markdown",
   "metadata": {},
   "source": [
    "### Save all NON-MEDICAL words for Other patients to lists, then save the lists to pickle files"
   ]
  },
  {
   "cell_type": "code",
   "execution_count": null,
   "metadata": {},
   "outputs": [],
   "source": [
    "nonmedical_words_Other = word_occurrences(df, \"text_sections_Cleaned1_nonmedical\", \"Race_group\", \"Other\")"
   ]
  },
  {
   "cell_type": "code",
   "execution_count": null,
   "metadata": {},
   "outputs": [],
   "source": [
    "f = open('nonmedical_words_Other.pkl', \"wb\")\n",
    "pickle.dump(nonmedical_words_Other, f)\n",
    "f.close()"
   ]
  },
  {
   "cell_type": "markdown",
   "metadata": {},
   "source": [
    "### Save all NON-MEDICAL words for Unknown patients to lists, then save the lists to pickle files"
   ]
  },
  {
   "cell_type": "code",
   "execution_count": null,
   "metadata": {},
   "outputs": [],
   "source": [
    "nonmedical_words_Unknown = word_occurrences(df, \"text_sections_Cleaned1_nonmedical\", \"Race_group\", \"Unknown\")"
   ]
  },
  {
   "cell_type": "code",
   "execution_count": null,
   "metadata": {},
   "outputs": [],
   "source": [
    "f = open('nonmedical_words_Unknown.pkl', \"wb\")\n",
    "pickle.dump(nonmedical_words_Unknown, f)\n",
    "f.close()"
   ]
  },
  {
   "cell_type": "code",
   "execution_count": null,
   "metadata": {},
   "outputs": [],
   "source": []
  },
  {
   "cell_type": "code",
   "execution_count": null,
   "metadata": {},
   "outputs": [],
   "source": []
  },
  {
   "cell_type": "markdown",
   "metadata": {},
   "source": [
    "# Make word lists for medical and nonmedical words combined"
   ]
  },
  {
   "cell_type": "markdown",
   "metadata": {},
   "source": [
    "### Save ALL words for White_NonHispanic patients to lists, then save the lists to pickle files"
   ]
  },
  {
   "cell_type": "code",
   "execution_count": null,
   "metadata": {},
   "outputs": [],
   "source": [
    "all_words_White = word_occurrences(df, \"text_sections_Cleaned1\", \"Race_group\",\"White\")"
   ]
  },
  {
   "cell_type": "code",
   "execution_count": null,
   "metadata": {},
   "outputs": [],
   "source": [
    "f = open('Pickle_files/words_White.pkl', \"wb\")\n",
    "pickle.dump(all_words_White, f)\n",
    "f.close()"
   ]
  },
  {
   "cell_type": "markdown",
   "metadata": {},
   "source": [
    "### Save ALL words for Hispanic patients to lists, then save the lists to pickle files"
   ]
  },
  {
   "cell_type": "code",
   "execution_count": null,
   "metadata": {},
   "outputs": [],
   "source": [
    "all_words_Hispanic = word_occurrences(df, \"text_sections_Cleaned1\", \"Race_group\",\"Hispanic\")"
   ]
  },
  {
   "cell_type": "code",
   "execution_count": null,
   "metadata": {},
   "outputs": [],
   "source": [
    "f = open('Pickle_files/words_Hispanic.pkl', \"wb\")\n",
    "pickle.dump(all_words_Hispanic, f)\n",
    "f.close()"
   ]
  },
  {
   "cell_type": "markdown",
   "metadata": {},
   "source": [
    "### Save ALL words for Asian patients to lists, then save the lists to pickle files"
   ]
  },
  {
   "cell_type": "code",
   "execution_count": null,
   "metadata": {},
   "outputs": [],
   "source": [
    "all_words_Asian = word_occurrences(df, \"text_sections_Cleaned1\", \"Race_group\", \"Asian\")"
   ]
  },
  {
   "cell_type": "code",
   "execution_count": null,
   "metadata": {},
   "outputs": [],
   "source": [
    "f = open('Pickle_files/words_Asian.pkl', \"wb\")\n",
    "pickle.dump(all_words_Asian, f)\n",
    "f.close()"
   ]
  },
  {
   "cell_type": "markdown",
   "metadata": {},
   "source": [
    "### Save ALL words for African American patients to lists, then save the lists to pickle files"
   ]
  },
  {
   "cell_type": "code",
   "execution_count": null,
   "metadata": {},
   "outputs": [],
   "source": [
    "all_words_African_American = word_occurrences(df, \"text_sections_Cleaned1\", \"Race_group\", \"African American\")"
   ]
  },
  {
   "cell_type": "code",
   "execution_count": null,
   "metadata": {},
   "outputs": [],
   "source": [
    "f = open('Pickle_files/words_African_American.pkl', \"wb\")\n",
    "pickle.dump(all_words_African_American, f)\n",
    "f.close()"
   ]
  },
  {
   "cell_type": "markdown",
   "metadata": {},
   "source": [
    "### Save ALL words for Other patients to lists, then save the lists to pickle files"
   ]
  },
  {
   "cell_type": "code",
   "execution_count": null,
   "metadata": {},
   "outputs": [],
   "source": [
    "all_words_Other = word_occurrences(df, \"text_sections_Cleaned1\", \"Race_group\", \"Other\")"
   ]
  },
  {
   "cell_type": "code",
   "execution_count": null,
   "metadata": {},
   "outputs": [],
   "source": [
    "f = open('Pickle_files/words_Other.pkl', \"wb\")\n",
    "pickle.dump(all_words_Other, f)\n",
    "f.close()"
   ]
  },
  {
   "cell_type": "markdown",
   "metadata": {},
   "source": [
    "### Save ALL words for 'Not available' patients to lists, then save the lists to pickle files"
   ]
  },
  {
   "cell_type": "code",
   "execution_count": null,
   "metadata": {},
   "outputs": [],
   "source": [
    "all_words_Not_available = word_occurrences(df, \"text_sections_Cleaned1\", \"Race_group\", \"Not available\")"
   ]
  },
  {
   "cell_type": "code",
   "execution_count": null,
   "metadata": {},
   "outputs": [],
   "source": [
    "f = open('Pickle_files/words_Not_available.pkl', \"wb\")\n",
    "pickle.dump(all_words_Not_available, f)\n",
    "f.close()"
   ]
  },
  {
   "cell_type": "markdown",
   "metadata": {},
   "source": [
    "### Save ALL words for all patients to lists, then save the lists to pickle files"
   ]
  },
  {
   "cell_type": "code",
   "execution_count": null,
   "metadata": {},
   "outputs": [],
   "source": [
    "all_words_All = word_occurrences(df, \"text_sections_Cleaned1\", \"Race_group\",\"All\")"
   ]
  },
  {
   "cell_type": "code",
   "execution_count": null,
   "metadata": {},
   "outputs": [],
   "source": [
    "f = open('Pickle_files/words_All.pkl', \"wb\")\n",
    "pickle.dump(all_words_All, f)\n",
    "f.close()"
   ]
  }
 ],
 "metadata": {
  "kernelspec": {
   "display_name": "Python 3 (ipykernel)",
   "language": "python",
   "name": "python3"
  },
  "language_info": {
   "codemirror_mode": {
    "name": "ipython",
    "version": 3
   },
   "file_extension": ".py",
   "mimetype": "text/x-python",
   "name": "python",
   "nbconvert_exporter": "python",
   "pygments_lexer": "ipython3",
   "version": "3.8.12"
  }
 },
 "nbformat": 4,
 "nbformat_minor": 4
}
