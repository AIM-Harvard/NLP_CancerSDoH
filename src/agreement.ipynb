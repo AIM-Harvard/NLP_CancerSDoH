{
 "cells": [
  {
   "cell_type": "code",
   "execution_count": 1,
   "metadata": {},
   "outputs": [],
   "source": [
    "import pandas as pd\n",
    "from sklearn.metrics import cohen_kappa_score, classification_report, f1_score, accuracy_score\n",
    "from nltk.metrics import agreement"
   ]
  },
  {
   "cell_type": "markdown",
   "metadata": {},
   "source": [
    "## Data Loading and Cleaning"
   ]
  },
  {
   "cell_type": "code",
   "execution_count": 2,
   "metadata": {},
   "outputs": [],
   "source": [
    "social_gold_df = pd.read_csv('social_toy_corpus_FULL_v2.csv', encoding='utf8')\n",
    "nurse_gold_df = pd.read_csv('nurse_toy_corpus_FULL.csv', encoding='utf8')\n",
    "phys_gold_df = pd.read_csv('physician_toy_corpus_FULL.csv', encoding='utf8')\n",
    "social_gold_df = social_gold_df[['text','Race_group', 'insurance', 'Gender']]\n",
    "nurse_gold_df = nurse_gold_df[['text','Race_group', 'insurance', 'Gender']]\n",
    "phys_gold_df = phys_gold_df[['text','Race_group', 'insurance', 'Gender']]\n",
    "social_gold_df.loc[(social_gold_df['Race_group']!='White_NonHispanic', 'Race_group')] = 'NonWhite'\n",
    "nurse_gold_df.loc[(nurse_gold_df['Race_group']!='White_NonHispanic', 'Race_group')] = 'NonWhite'\n",
    "phys_gold_df.loc[(phys_gold_df['Race_group']!='White_NonHispanic', 'Race_group')] = 'NonWhite'\n",
    "social_gold_df.loc[(social_gold_df['Race_group']!='NonWhite', 'Race_group')] = 'White'\n",
    "nurse_gold_df.loc[(nurse_gold_df['Race_group']!='NonWhite', 'Race_group')] = 'White'\n",
    "phys_gold_df.loc[(phys_gold_df['Race_group']!='NonWhite', 'Race_group')] = 'White'"
   ]
  },
  {
   "cell_type": "code",
   "execution_count": 3,
   "metadata": {},
   "outputs": [],
   "source": [
    "mg_social = pd.read_csv('./annotated_data/social_toy_corpus_MG_v2.csv', encoding='utf8')\n",
    "mg_nurse = pd.read_csv('./annotated_data/nurse_toy_corpus_MG.csv', encoding='utf8')\n",
    "mg_phys = pd.read_csv('./annotated_data/physician_toy_corpus_MG.csv', encoding='utf8')\n",
    "db_social = pd.read_csv('./annotated_data/social_toy_corpus_DB_v2.csv', encoding='utf8')\n",
    "db_nurse = pd.read_csv('./annotated_data/nurse_toy_corpus_DB.csv', encoding='utf8')\n",
    "db_phys = pd.read_csv('./annotated_data/physician_toy_corpus_DB.csv', encoding='utf8')\n",
    "ad_social = pd.read_csv('./annotated_data/social_toy_corpus_AD_v2.csv', encoding='utf8')\n",
    "ad_nurse = pd.read_csv('./annotated_data/nurse_toy_corpus_AD.csv', encoding='utf8')\n",
    "ad_phys = pd.read_csv('./annotated_data/physician_toy_corpus_AD.csv', encoding='utf8')"
   ]
  },
  {
   "cell_type": "code",
   "execution_count": 4,
   "metadata": {},
   "outputs": [],
   "source": [
    "sc_social = pd.read_csv('./annotated_data/shan_data/social_toy_corpus_SC_v2.csv', encoding='utf8')\n",
    "sc_nurse = pd.read_csv('./annotated_data/shan_data/nurse_toy_corpus_SC.csv', encoding='utf8')\n",
    "sc_phys = pd.read_csv('./annotated_data/shan_data/physician_toy_corpus_SC.csv', encoding='utf8')"
   ]
  },
  {
   "cell_type": "code",
   "execution_count": 5,
   "metadata": {},
   "outputs": [],
   "source": [
    "sm_social = pd.read_excel('/home/marco/Desktop/nethome/SDOH/annotation/race_ins_gen/annotated_data/social_toy_corpus_SM_v2.xlsx', sheet_name='social_toy_corpus_SC_v2')\n",
    "sm_nurse = pd.read_excel('/home/marco/Desktop/nethome/SDOH/annotation/race_ins_gen/annotated_data/nurse_toy_corpus_SMEdits.xlsm', sheet_name='nurse_toy_corpus_SC_SMEdits')\n",
    "sm_phys = pd.read_csv('/home/marco/Desktop/nethome/SDOH/annotation/race_ins_gen/annotated_data/physician_toy_corpus_SMEdits.csv')"
   ]
  },
  {
   "cell_type": "code",
   "execution_count": 6,
   "metadata": {},
   "outputs": [],
   "source": [
    "sm_social['Race'].fillna('White', inplace=True)\n",
    "sm_social['Insurance'].fillna('reg', inplace=True)\n",
    "sm_social['Gender'].fillna('Female', inplace=True)\n",
    "sm_social['Race'] = sm_social['Race'].str.strip()\n",
    "sm_social['Race'] = sm_social['Race'].str.capitalize()\n",
    "sm_social['Race'] = sm_social['Race'].replace('Non hispanic white', 'White')\n",
    "sm_social.loc[(sm_social['Race']!='White', 'Race')] = 'NonWhite'\n",
    "sm_social['Insurance'] = sm_social['Insurance'].replace('Regular', 'reg')\n",
    "sm_social['Insurance'] = sm_social['Insurance'].replace('Low income ', 'low')\n",
    "sm_social['Gender'] = sm_social['Gender'].str.strip()\n",
    "sm_social['Gender'] = sm_social['Gender'].str.capitalize()\n",
    "sm_social['Gender'] = sm_social['Gender'].replace('F', 'Female')\n",
    "sm_social['Gender'] = sm_social['Gender'].replace('Femlae', 'Female')"
   ]
  },
  {
   "cell_type": "code",
   "execution_count": 7,
   "metadata": {},
   "outputs": [],
   "source": [
    "sm_nurse['Race'].fillna('White', inplace=True)\n",
    "sm_nurse['Insurance'].fillna('reg', inplace=True)\n",
    "sm_nurse['Gender'].fillna('Female', inplace=True)\n",
    "sm_nurse['Race'] = sm_nurse['Race'].str.strip()\n",
    "sm_nurse['Race'] = sm_nurse['Race'].str.capitalize()\n",
    "sm_nurse.loc[(sm_nurse['Race']!='White', 'Race')] = 'NonWhite'\n",
    "sm_nurse['Insurance'] = sm_nurse['Insurance'].str.strip()\n",
    "sm_nurse['Insurance'] = sm_nurse['Insurance'].replace('regular', 'reg')\n",
    "sm_nurse['Gender'] = sm_nurse['Gender'].str.strip()\n",
    "sm_nurse['Gender'] = sm_nurse['Gender'].str.capitalize()\n",
    "sm_nurse['Gender'] = sm_nurse['Gender'].replace('Man', 'Male')\n",
    "sm_nurse['Gender'] = sm_nurse['Gender'].replace('Woman', 'Female')"
   ]
  },
  {
   "cell_type": "code",
   "execution_count": 8,
   "metadata": {},
   "outputs": [],
   "source": [
    "sm_phys['Race'].fillna('White', inplace=True)\n",
    "sm_phys['Insurance'].fillna('reg', inplace=True)\n",
    "sm_phys['Gender'].fillna('Female', inplace=True)\n",
    "sm_phys['Race'] = sm_phys['Race'].str.strip()\n",
    "sm_phys['Race'] = sm_phys['Race'].str.capitalize()\n",
    "sm_phys.loc[(sm_phys['Race']!='White', 'Race')] = 'NonWhite'\n",
    "sm_phys['Insurance'] = sm_phys['Insurance'].str.strip()\n",
    "sm_phys['Insurance'] = sm_phys['Insurance'].replace('regular', 'reg')\n",
    "sm_phys['Gender'] = sm_phys['Gender'].str.strip()\n",
    "sm_phys['Gender'] = sm_phys['Gender'].str.capitalize()\n",
    "sm_phys['Gender'] = sm_phys['Gender'].replace('Man', 'Male')\n",
    "sm_phys['Gender'] = sm_phys['Gender'].replace('Woman', 'Female')"
   ]
  },
  {
   "cell_type": "code",
   "execution_count": 9,
   "metadata": {},
   "outputs": [],
   "source": [
    "sc_phys.fillna('unk', inplace=True)\n",
    "sc_phys['Race'] = sc_phys['Race'].replace('unk', 'White')\n",
    "sc_phys['Race'] = sc_phys['Race'].str.capitalize()\n",
    "sc_phys.loc[(sc_phys['Race']!='White', 'Race')] = 'NonWhite'\n",
    "sc_phys['Insurance'] = sc_phys['Insurance'].replace('unk', 'reg')\n",
    "sc_phys['Insurance'] = sc_phys['Insurance'].replace('regular ', 'reg')\n",
    "sc_phys['Insurance'] = sc_phys['Insurance'].replace('regular', 'reg')\n",
    "sc_phys['Gender'] = sc_phys['Gender'].replace('unk', 'Female')\n",
    "sc_phys['Gender']= sc_phys['Gender'].str.capitalize()\n",
    "sc_phys.loc[47, 'Gender'] = 'Female'"
   ]
  },
  {
   "cell_type": "code",
   "execution_count": 10,
   "metadata": {},
   "outputs": [],
   "source": [
    "sc_nurse['race'] = sc_nurse['race'].replace('unk', 'White')\n",
    "sc_nurse['race'] = sc_nurse['race'].str.capitalize()\n",
    "sc_nurse.loc[(sc_nurse['race']!='White', 'race')] = 'NonWhite'\n",
    "sc_nurse['insurance '] = sc_nurse['insurance '].replace('unk', 'reg')\n",
    "sc_nurse['insurance '] = sc_nurse['insurance '].replace('regular', 'reg')\n",
    "sc_nurse['insurance '] = sc_nurse['insurance '].replace('regular ', 'reg')\n",
    "sc_nurse['gender'] = sc_nurse['gender'].replace('unk', 'Female')\n",
    "sc_nurse['gender'] = sc_nurse['gender'].replace(' male', 'Male')\n",
    "sc_nurse['gender']= sc_nurse['gender'].str.capitalize()\n",
    "sc_nurse.columns = sc_nurse.columns.str.capitalize()\n",
    "sc_nurse.columns = sc_nurse.columns.str.strip()"
   ]
  },
  {
   "cell_type": "code",
   "execution_count": 11,
   "metadata": {},
   "outputs": [],
   "source": [
    "sc_social['Race'] = sc_social['Race'].replace('unk', 'White')\n",
    "sc_social['Race'] = sc_social['Race'].str.capitalize()\n",
    "sc_social.loc[(sc_social['Race']!='White', 'Race')] = 'NonWhite'\n",
    "sc_social['Insurance'] = sc_social['Insurance'].replace('unk', 'reg')\n",
    "sc_social['Insurance'] = sc_social['Insurance'].replace('regular', 'reg')\n",
    "sc_social['Insurance'] = sc_social['Insurance'].replace('regular ', 'reg')\n",
    "sc_social['Gender'] = sc_social['Gender'].replace('unk', 'Female')\n",
    "sc_social['Gender']= sc_social['Gender'].str.capitalize()\n",
    "sc_social['Gender'] = sc_social['Gender'].replace('Famle', 'Female')"
   ]
  },
  {
   "cell_type": "code",
   "execution_count": 12,
   "metadata": {},
   "outputs": [],
   "source": [
    "ad_social.loc[(ad_social['Race']!='White', 'Race')] = 'NonWhite'\n",
    "ad_nurse.loc[(ad_nurse['Race']!='White', 'Race')] = 'NonWhite'\n",
    "ad_phys.loc[(ad_phys['Race']!='White', 'Race')] = 'NonWhite'"
   ]
  },
  {
   "cell_type": "code",
   "execution_count": 13,
   "metadata": {},
   "outputs": [],
   "source": [
    "db_social.loc[(db_social['Race']!='White', 'Race')] = 'NonWhite'\n",
    "db_nurse.loc[(db_nurse['Race']!='White', 'Race')] = 'NonWhite'\n",
    "db_phys.loc[(db_phys['Race']!='White', 'Race')] = 'NonWhite'"
   ]
  },
  {
   "cell_type": "code",
   "execution_count": 14,
   "metadata": {},
   "outputs": [],
   "source": [
    "ad_social.loc[(ad_social['Insurance']!='Low', 'Insurance')] = 'reg'\n",
    "ad_nurse.loc[(ad_nurse['Insurance']!='Low', 'Insurance')] = 'reg'\n",
    "ad_phys.loc[(ad_phys['Insurance']!='Low', 'Insurance')] = 'reg'\n",
    "ad_social.loc[(ad_social['Insurance']!='reg', 'Insurance')] = 'low'\n",
    "ad_nurse.loc[(ad_nurse['Insurance']!='reg', 'Insurance')] = 'low'\n",
    "ad_phys.loc[(ad_phys['Insurance']!='reg', 'Insurance')] = 'low'\n",
    "ad_social.loc[42,'Gender'] = 'Female'"
   ]
  },
  {
   "cell_type": "code",
   "execution_count": 15,
   "metadata": {},
   "outputs": [],
   "source": [
    "db_social['Insurance'] = db_social['Insurance'].replace('Low', 'low')\n",
    "db_social.loc[(db_social['Insurance']!='low', 'Insurance')] = 'reg'\n",
    "db_nurse.loc[(db_nurse['Insurance']!='low', 'Insurance')] = 'reg'\n",
    "db_phys.loc[(db_phys['Insurance']!='low', 'Insurance')] = 'reg'"
   ]
  },
  {
   "cell_type": "code",
   "execution_count": 16,
   "metadata": {},
   "outputs": [],
   "source": [
    "db_social['Gender'] = db_social['Gender'].replace('F', 'Female')\n",
    "db_social['Gender'] = db_social['Gender'].replace('M', 'Male')\n",
    "db_nurse['Gender'] = db_nurse['Gender'].replace('F', 'Female')\n",
    "db_nurse['Gender'] = db_nurse['Gender'].replace('M', 'Male')\n",
    "db_phys['Gender'] = db_phys['Gender'].replace('F', 'Female')\n",
    "db_phys['Gender'] = db_phys['Gender'].replace('M', 'Male')"
   ]
  },
  {
   "cell_type": "markdown",
   "metadata": {},
   "source": [
    "## Social Work Notes"
   ]
  },
  {
   "cell_type": "markdown",
   "metadata": {},
   "source": [
    "#### Race"
   ]
  },
  {
   "cell_type": "code",
   "execution_count": 17,
   "metadata": {},
   "outputs": [
    {
     "name": "stdout",
     "output_type": "stream",
     "text": [
      "Kappa Scores Annotators:\n",
      "AD v MG: 0.6770025839793281\n",
      "AD v DB: 0.7178329571106095\n",
      "DB v MG 0.6287128712871287\n",
      "SC v MG 0.25595238095238093\n",
      "SC v DB 0.13366336633663367\n",
      "SC v AD 0.289405684754522\n",
      "SM v MG 0.289405684754522\n",
      "SM v DB 0.37923250564334077\n",
      "SM v AD 0.18414918414918413\n",
      "SM v SC 0.16020671834625322\n"
     ]
    }
   ],
   "source": [
    "print('Kappa Scores Annotators:')\n",
    "print('AD v MG:', cohen_kappa_score(ad_social['Race'], mg_social['Race']))\n",
    "print('AD v DB:',cohen_kappa_score(ad_social['Race'], db_social['Race']))\n",
    "print('DB v MG',cohen_kappa_score(db_social['Race'], mg_social['Race']))\n",
    "print('SC v MG',cohen_kappa_score(sc_social['Race'], mg_social['Race']))\n",
    "print('SC v DB',cohen_kappa_score(sc_social['Race'], db_social['Race']))\n",
    "print('SC v AD',cohen_kappa_score(sc_social['Race'], ad_social['Race']))\n",
    "print('SM v MG',cohen_kappa_score(sm_social['Race'], mg_social['Race']))\n",
    "print('SM v DB',cohen_kappa_score(sm_social['Race'], db_social['Race']))\n",
    "print('SM v AD',cohen_kappa_score(sm_social['Race'], ad_social['Race']))\n",
    "print('SM v SC',cohen_kappa_score(sm_social['Race'], sc_social['Race']))"
   ]
  },
  {
   "cell_type": "code",
   "execution_count": 18,
   "metadata": {},
   "outputs": [
    {
     "name": "stdout",
     "output_type": "stream",
     "text": [
      "Kappa Scores Gold:\n",
      "MG 0.25742574257425743\n",
      "AD 0.2663656884875846\n",
      "DB 0.45175438596491224\n",
      "SC -0.11386138613861396\n",
      "SM 0.37923250564334077\n"
     ]
    }
   ],
   "source": [
    "print('Kappa Scores Gold:')\n",
    "print('MG',cohen_kappa_score(social_gold_df['Race_group'], mg_social['Race']))\n",
    "print('AD',cohen_kappa_score(social_gold_df['Race_group'], ad_social['Race']))\n",
    "print('DB',cohen_kappa_score(social_gold_df['Race_group'], db_social['Race']))\n",
    "print('SC',cohen_kappa_score(social_gold_df['Race_group'], sc_social['Race']))\n",
    "print('SM',cohen_kappa_score(social_gold_df['Race_group'], sm_social['Race']))"
   ]
  },
  {
   "cell_type": "code",
   "execution_count": 19,
   "metadata": {},
   "outputs": [
    {
     "name": "stdout",
     "output_type": "stream",
     "text": [
      "Accuracy Scores\n",
      "MG 0.76\n",
      "AD 0.74\n",
      "DB 0.8\n",
      "SC 0.64\n",
      "SM 0.78\n"
     ]
    }
   ],
   "source": [
    "print('Accuracy Scores')\n",
    "print('MG',accuracy_score(social_gold_df['Race_group'], mg_social['Race']))\n",
    "print('AD',accuracy_score(social_gold_df['Race_group'], ad_social['Race']))\n",
    "print('DB',accuracy_score(social_gold_df['Race_group'], db_social['Race']))\n",
    "print('SC',accuracy_score(social_gold_df['Race_group'], sc_social['Race']))\n",
    "print('SM',accuracy_score(social_gold_df['Race_group'], sm_social['Race']))"
   ]
  },
  {
   "cell_type": "code",
   "execution_count": 20,
   "metadata": {},
   "outputs": [
    {
     "name": "stdout",
     "output_type": "stream",
     "text": [
      "F1 minority class as positive\n",
      "MG 0.4\n",
      "AD 0.43478260869565216\n",
      "DB 0.5833333333333334\n",
      "SC 0.1\n",
      "SM 0.5217391304347826\n"
     ]
    }
   ],
   "source": [
    "print('F1 minority class as positive')\n",
    "print('MG', f1_score(social_gold_df['Race_group'], mg_social['Race'], pos_label='NonWhite'))\n",
    "print('AD', f1_score(social_gold_df['Race_group'], ad_social['Race'], pos_label='NonWhite'))\n",
    "print('DB', f1_score(social_gold_df['Race_group'], db_social['Race'], pos_label='NonWhite'))\n",
    "print('SC', f1_score(social_gold_df['Race_group'], sc_social['Race'], pos_label='NonWhite'))\n",
    "print('SM', f1_score(social_gold_df['Race_group'], sm_social['Race'], pos_label='NonWhite'))"
   ]
  },
  {
   "cell_type": "code",
   "execution_count": 21,
   "metadata": {},
   "outputs": [
    {
     "name": "stdout",
     "output_type": "stream",
     "text": [
      "Fleiss Kappa: 0.37609183928125806\n"
     ]
    }
   ],
   "source": [
    "fleiss_data = [('a1',i, mg_social.loc[i, 'Race'] ) for i in range(len(mg_social))]\n",
    "fleiss_data.extend([('a2',i, ad_social.loc[i, 'Race'] ) for i in range(len(ad_social))])\n",
    "fleiss_data.extend([('a3',i, db_social.loc[i, 'Race'] ) for i in range(len(db_social))])\n",
    "fleiss_data.extend([('a4',i, sc_social.loc[i, 'Race'] ) for i in range(len(sc_social))])\n",
    "fleiss_data.extend([('a5',i, sm_social.loc[i, 'Race'] ) for i in range(len(sm_social))])\n",
    "sr_task = agreement.AnnotationTask(data=fleiss_data)\n",
    "print('Fleiss Kappa:',sr_task.multi_kappa())"
   ]
  },
  {
   "cell_type": "markdown",
   "metadata": {},
   "source": [
    "#### Gender"
   ]
  },
  {
   "cell_type": "code",
   "execution_count": 22,
   "metadata": {},
   "outputs": [
    {
     "name": "stdout",
     "output_type": "stream",
     "text": [
      "Kappa Scores Annotators:\n",
      "AD v MG: 0.88\n",
      "AD v DB: 0.8397435897435898\n",
      "DB v MG 0.96\n",
      "SC v MG 0.6\n",
      "SC v DB 0.6365105008077545\n",
      "SC v AD 0.6365105008077545\n",
      "SM v MG 0.64\n",
      "SM v DB 0.6784565916398714\n",
      "SM v AD 0.5980707395498392\n",
      "SM v SC 0.46457990115321257\n"
     ]
    }
   ],
   "source": [
    "print('Kappa Scores Annotators:')\n",
    "print('AD v MG:', cohen_kappa_score(ad_social['Gender'], mg_social['Gender']))\n",
    "print('AD v DB:',cohen_kappa_score(ad_social['Gender'], db_social['Gender']))\n",
    "print('DB v MG',cohen_kappa_score(db_social['Gender'], mg_social['Gender']))\n",
    "print('SC v MG',cohen_kappa_score(sc_social['Gender'], mg_social['Gender']))\n",
    "print('SC v DB',cohen_kappa_score(sc_social['Gender'], db_social['Gender']))\n",
    "print('SC v AD',cohen_kappa_score(sc_social['Gender'], ad_social['Gender']))\n",
    "print('SM v MG',cohen_kappa_score(sm_social['Gender'], mg_social['Gender']))\n",
    "print('SM v DB',cohen_kappa_score(sm_social['Gender'], db_social['Gender']))\n",
    "print('SM v AD',cohen_kappa_score(sm_social['Gender'], ad_social['Gender']))\n",
    "print('SM v SC',cohen_kappa_score(sm_social['Gender'], sc_social['Gender']))"
   ]
  },
  {
   "cell_type": "code",
   "execution_count": 23,
   "metadata": {},
   "outputs": [
    {
     "name": "stdout",
     "output_type": "stream",
     "text": [
      "Kappa Scores Gold:\n",
      "MG 0.92\n",
      "AD 0.8796147672552167\n",
      "DB 0.9598715890850722\n",
      "SC 0.6737357259380098\n",
      "SM 0.6365105008077545\n"
     ]
    }
   ],
   "source": [
    "print('Kappa Scores Gold:')\n",
    "print('MG',cohen_kappa_score(social_gold_df['Gender'], mg_social['Gender']))\n",
    "print('AD',cohen_kappa_score(social_gold_df['Gender'], ad_social['Gender']))\n",
    "print('DB',cohen_kappa_score(social_gold_df['Gender'], db_social['Gender']))\n",
    "print('SC',cohen_kappa_score(social_gold_df['Gender'], sc_social['Gender']))\n",
    "print('SM',cohen_kappa_score(social_gold_df['Gender'], sm_social['Gender']))"
   ]
  },
  {
   "cell_type": "code",
   "execution_count": 24,
   "metadata": {},
   "outputs": [
    {
     "name": "stdout",
     "output_type": "stream",
     "text": [
      "Accuracy Scores\n",
      "MG 0.96\n",
      "AD 0.94\n",
      "DB 0.98\n",
      "SC 0.84\n",
      "SM 0.82\n"
     ]
    }
   ],
   "source": [
    "print('Accuracy Scores')\n",
    "print('MG',accuracy_score(social_gold_df['Gender'], mg_social['Gender']))\n",
    "print('AD',accuracy_score(social_gold_df['Gender'], ad_social['Gender']))\n",
    "print('DB',accuracy_score(social_gold_df['Gender'], db_social['Gender']))\n",
    "print('SC',accuracy_score(social_gold_df['Gender'], sc_social['Gender']))\n",
    "print('SM',accuracy_score(social_gold_df['Gender'], sm_social['Gender']))"
   ]
  },
  {
   "cell_type": "code",
   "execution_count": 25,
   "metadata": {},
   "outputs": [
    {
     "name": "stdout",
     "output_type": "stream",
     "text": [
      "F1 minority class as positive\n",
      "MG 0.9583333333333334\n",
      "AD 0.9361702127659574\n",
      "DB 0.9787234042553191\n",
      "SC 0.8095238095238095\n",
      "SM 0.8\n"
     ]
    }
   ],
   "source": [
    "print('F1 minority class as positive')\n",
    "print('MG', f1_score(social_gold_df['Gender'], mg_social['Gender'], pos_label='Male'))\n",
    "print('AD', f1_score(social_gold_df['Gender'], ad_social['Gender'], pos_label='Male'))\n",
    "print('DB', f1_score(social_gold_df['Gender'], db_social['Gender'], pos_label='Male'))\n",
    "print('SC', f1_score(social_gold_df['Gender'], sc_social['Gender'], pos_label='Male'))\n",
    "print('SM', f1_score(social_gold_df['Gender'], sm_social['Gender'], pos_label='Male'))"
   ]
  },
  {
   "cell_type": "code",
   "execution_count": 26,
   "metadata": {},
   "outputs": [
    {
     "name": "stdout",
     "output_type": "stream",
     "text": [
      "Fleiss Kappa: 0.6941896024464829\n"
     ]
    }
   ],
   "source": [
    "fleiss_data = [('a1',i, mg_social.loc[i, 'Gender'] ) for i in range(len(mg_social))]\n",
    "fleiss_data.extend([('a2',i, ad_social.loc[i, 'Gender'] ) for i in range(len(ad_social))])\n",
    "fleiss_data.extend([('a3',i, db_social.loc[i, 'Gender'] ) for i in range(len(db_social))])\n",
    "fleiss_data.extend([('a4',i, sc_social.loc[i, 'Gender'] ) for i in range(len(sc_social))])\n",
    "fleiss_data.extend([('a5',i, sm_social.loc[i, 'Gender'] ) for i in range(len(sm_social))])\n",
    "sr_task = agreement.AnnotationTask(data=fleiss_data)\n",
    "print('Fleiss Kappa:',sr_task.multi_kappa())"
   ]
  },
  {
   "cell_type": "markdown",
   "metadata": {},
   "source": [
    "#### Insurance"
   ]
  },
  {
   "cell_type": "code",
   "execution_count": 27,
   "metadata": {},
   "outputs": [
    {
     "name": "stdout",
     "output_type": "stream",
     "text": [
      "Kappa Scores Annotators:\n",
      "AD v MG: 0.7030878859857482\n",
      "AD v DB: 0.7297297297297298\n",
      "DB v MG 0.6067415730337079\n",
      "SC v MG 0.0\n",
      "SC v DB 0.0\n",
      "SC v AD 0.0\n",
      "SM v MG 0.09584086799276681\n",
      "SM v DB 0.01869158878504662\n",
      "SM v AD 0.18738049713193128\n",
      "SM v SC 0.0\n"
     ]
    }
   ],
   "source": [
    "print('Kappa Scores Annotators:')\n",
    "print('AD v MG:', cohen_kappa_score(ad_social['Insurance'], mg_social['Insurance']))\n",
    "print('AD v DB:',cohen_kappa_score(ad_social['Insurance'], db_social['Insurance']))\n",
    "print('DB v MG',cohen_kappa_score(db_social['Insurance'], mg_social['Insurance']))\n",
    "print('SC v MG',cohen_kappa_score(sc_social['Insurance'], mg_social['Insurance']))\n",
    "print('SC v DB',cohen_kappa_score(sc_social['Insurance'], db_social['Insurance']))\n",
    "print('SC v AD',cohen_kappa_score(sc_social['Insurance'], ad_social['Insurance']))\n",
    "print('SM v MG',cohen_kappa_score(sm_social['Insurance'], mg_social['Insurance']))\n",
    "print('SM v DB',cohen_kappa_score(sm_social['Insurance'], db_social['Insurance']))\n",
    "print('SM v AD',cohen_kappa_score(sm_social['Insurance'], ad_social['Insurance']))\n",
    "print('SM v SC',cohen_kappa_score(sm_social['Insurance'], sc_social['Insurance']))"
   ]
  },
  {
   "cell_type": "code",
   "execution_count": 28,
   "metadata": {},
   "outputs": [
    {
     "name": "stdout",
     "output_type": "stream",
     "text": [
      "Kappa Scores Gold:\n",
      "MG 0.20792079207920788\n",
      "AD 0.39560439560439553\n",
      "DB 0.42105263157894735\n",
      "SC 0.0\n",
      "SM -0.06194690265486713\n"
     ]
    }
   ],
   "source": [
    "print('Kappa Scores Gold:')\n",
    "print('MG',cohen_kappa_score(social_gold_df['insurance'], mg_social['Insurance']))\n",
    "print('AD',cohen_kappa_score(social_gold_df['insurance'], ad_social['Insurance']))\n",
    "print('DB',cohen_kappa_score(social_gold_df['insurance'], db_social['Insurance']))\n",
    "print('SC',cohen_kappa_score(social_gold_df['insurance'], sc_social['Insurance']))\n",
    "print('SM',cohen_kappa_score(social_gold_df['insurance'], sm_social['Insurance']))"
   ]
  },
  {
   "cell_type": "code",
   "execution_count": 29,
   "metadata": {},
   "outputs": [
    {
     "name": "stdout",
     "output_type": "stream",
     "text": [
      "Accuracy Scores\n",
      "MG 0.68\n",
      "AD 0.78\n",
      "DB 0.78\n",
      "SC 0.7\n",
      "SM 0.52\n"
     ]
    }
   ],
   "source": [
    "print('Accuracy Scores')\n",
    "print('MG',accuracy_score(social_gold_df['insurance'], mg_social['Insurance']))\n",
    "print('AD',accuracy_score(social_gold_df['insurance'], ad_social['Insurance']))\n",
    "print('DB',accuracy_score(social_gold_df['insurance'], db_social['Insurance']))\n",
    "print('SC',accuracy_score(social_gold_df['insurance'], sc_social['Insurance']))\n",
    "print('SM',accuracy_score(social_gold_df['insurance'], sm_social['Insurance']))"
   ]
  },
  {
   "cell_type": "code",
   "execution_count": 30,
   "metadata": {},
   "outputs": [
    {
     "name": "stdout",
     "output_type": "stream",
     "text": [
      "F1 minority class as positive\n",
      "MG 0.42857142857142855\n",
      "AD 0.5217391304347827\n",
      "DB 0.56\n",
      "SC 0.0\n",
      "SM 0.29411764705882354\n"
     ]
    }
   ],
   "source": [
    "print('F1 minority class as positive')\n",
    "print('MG', f1_score(social_gold_df['insurance'], mg_social['Insurance'], pos_label='low'))\n",
    "print('AD', f1_score(social_gold_df['insurance'], ad_social['Insurance'], pos_label='low'))\n",
    "print('DB', f1_score(social_gold_df['insurance'], db_social['Insurance'], pos_label='low'))\n",
    "print('SC', f1_score(social_gold_df['insurance'], sc_social['Insurance'], pos_label='low'))\n",
    "print('SM', f1_score(social_gold_df['insurance'], sm_social['Insurance'], pos_label='low'))"
   ]
  },
  {
   "cell_type": "code",
   "execution_count": 31,
   "metadata": {},
   "outputs": [
    {
     "name": "stdout",
     "output_type": "stream",
     "text": [
      "Fleiss Kappa: 0.24334879179887736\n"
     ]
    }
   ],
   "source": [
    "fleiss_data = [('a1',i, mg_social.loc[i, 'Insurance'] ) for i in range(len(mg_social))]\n",
    "fleiss_data.extend([('a2',i, ad_social.loc[i, 'Insurance'] ) for i in range(len(ad_social))])\n",
    "fleiss_data.extend([('a3',i, db_social.loc[i, 'Insurance'] ) for i in range(len(db_social))])\n",
    "fleiss_data.extend([('a4',i, sc_social.loc[i, 'Insurance'] ) for i in range(len(sc_social))])\n",
    "fleiss_data.extend([('a5',i, sm_social.loc[i, 'Insurance'] ) for i in range(len(sm_social))])\n",
    "sr_task = agreement.AnnotationTask(data=fleiss_data)\n",
    "print('Fleiss Kappa:',sr_task.multi_kappa())"
   ]
  },
  {
   "cell_type": "markdown",
   "metadata": {},
   "source": [
    "## Nursing "
   ]
  },
  {
   "cell_type": "markdown",
   "metadata": {},
   "source": [
    "#### Race"
   ]
  },
  {
   "cell_type": "code",
   "execution_count": 32,
   "metadata": {},
   "outputs": [
    {
     "name": "stdout",
     "output_type": "stream",
     "text": [
      "Kappa Scores Annotators:\n",
      "AD v MG: 0.6688741721854304\n",
      "AD v DB: 0.6212121212121212\n",
      "DB v MG 0.5033112582781457\n",
      "SC v MG 0.5033112582781457\n",
      "SC v DB 0.4318181818181819\n",
      "SC v AD 0.6212121212121212\n",
      "SM v MG 0.2857142857142857\n",
      "SM v DB 0.02298850574712641\n",
      "SM v AD 0.2528735632183907\n",
      "SM v SC 0.13793103448275856\n"
     ]
    }
   ],
   "source": [
    "print('Kappa Scores Annotators:')\n",
    "print('AD v MG:', cohen_kappa_score(ad_nurse['Race'], mg_nurse['Race']))\n",
    "print('AD v DB:',cohen_kappa_score(ad_nurse['Race'], db_nurse['Race']))\n",
    "print('DB v MG',cohen_kappa_score(db_nurse['Race'], mg_nurse['Race']))\n",
    "print('SC v MG',cohen_kappa_score(sc_nurse['Race'], mg_nurse['Race']))\n",
    "print('SC v DB',cohen_kappa_score(sc_nurse['Race'], db_nurse['Race']))\n",
    "print('SC v AD',cohen_kappa_score(sc_nurse['Race'], ad_nurse['Race']))\n",
    "print('SM v MG',cohen_kappa_score(sm_nurse['Race'], mg_nurse['Race']))\n",
    "print('SM v DB',cohen_kappa_score(sm_nurse['Race'], db_nurse['Race']))\n",
    "print('SM v AD',cohen_kappa_score(sm_nurse['Race'], ad_nurse['Race']))\n",
    "print('SM v SC',cohen_kappa_score(sm_nurse['Race'], sc_nurse['Race']))"
   ]
  },
  {
   "cell_type": "code",
   "execution_count": 33,
   "metadata": {},
   "outputs": [
    {
     "name": "stdout",
     "output_type": "stream",
     "text": [
      "Kappa Scores Gold:\n",
      "MG 0.4655581947743468\n",
      "AD 0.5591939546599496\n",
      "DB 0.3073047858942065\n",
      "SC 0.3073047858942065\n",
      "SM 0.30693069306930687\n"
     ]
    }
   ],
   "source": [
    "print('Kappa Scores Gold:')\n",
    "print('MG',cohen_kappa_score(nurse_gold_df['Race_group'], mg_nurse['Race']))\n",
    "print('AD',cohen_kappa_score(nurse_gold_df['Race_group'], ad_nurse['Race']))\n",
    "print('DB',cohen_kappa_score(nurse_gold_df['Race_group'], db_nurse['Race']))\n",
    "print('SC',cohen_kappa_score(nurse_gold_df['Race_group'], sc_nurse['Race']))\n",
    "print('SM',cohen_kappa_score(nurse_gold_df['Race_group'], sm_nurse['Race']))"
   ]
  },
  {
   "cell_type": "code",
   "execution_count": 34,
   "metadata": {},
   "outputs": [
    {
     "name": "stdout",
     "output_type": "stream",
     "text": [
      "Accuracy Scores\n",
      "MG 0.82\n",
      "AD 0.86\n",
      "DB 0.78\n",
      "SC 0.78\n",
      "SM 0.72\n"
     ]
    }
   ],
   "source": [
    "print('Accuracy Scores')\n",
    "print('MG',accuracy_score(nurse_gold_df['Race_group'], mg_nurse['Race']))\n",
    "print('AD',accuracy_score(nurse_gold_df['Race_group'], ad_nurse['Race']))\n",
    "print('DB',accuracy_score(nurse_gold_df['Race_group'], db_nurse['Race']))\n",
    "print('SC',accuracy_score(nurse_gold_df['Race_group'], sc_nurse['Race']))\n",
    "print('SM',accuracy_score(nurse_gold_df['Race_group'], sm_nurse['Race']))"
   ]
  },
  {
   "cell_type": "code",
   "execution_count": 35,
   "metadata": {},
   "outputs": [
    {
     "name": "stdout",
     "output_type": "stream",
     "text": [
      "F1 minority class as positive\n",
      "MG 0.5714285714285714\n",
      "AD 0.631578947368421\n",
      "DB 0.42105263157894735\n",
      "SC 0.42105263157894735\n",
      "SM 0.5\n"
     ]
    }
   ],
   "source": [
    "print('F1 minority class as positive')\n",
    "print('MG', f1_score(nurse_gold_df['Race_group'], mg_nurse['Race'], pos_label='NonWhite'))\n",
    "print('AD', f1_score(nurse_gold_df['Race_group'], ad_nurse['Race'], pos_label='NonWhite'))\n",
    "print('DB', f1_score(nurse_gold_df['Race_group'], db_nurse['Race'], pos_label='NonWhite'))\n",
    "print('SC', f1_score(nurse_gold_df['Race_group'], sc_nurse['Race'], pos_label='NonWhite'))\n",
    "print('SM', f1_score(nurse_gold_df['Race_group'], sm_nurse['Race'], pos_label='NonWhite'))"
   ]
  },
  {
   "cell_type": "code",
   "execution_count": 36,
   "metadata": {},
   "outputs": [
    {
     "name": "stdout",
     "output_type": "stream",
     "text": [
      "Fleiss Kappa: 0.3637941006362059\n"
     ]
    }
   ],
   "source": [
    "fleiss_data = [('a1',i, mg_nurse.loc[i, 'Race'] ) for i in range(len(mg_nurse))]\n",
    "fleiss_data.extend([('a2',i, ad_nurse.loc[i, 'Race'] ) for i in range(len(ad_nurse))])\n",
    "fleiss_data.extend([('a3',i, db_nurse.loc[i, 'Race'] ) for i in range(len(db_nurse))])\n",
    "fleiss_data.extend([('a4',i, sc_nurse.loc[i, 'Race'] ) for i in range(len(sc_nurse))])\n",
    "fleiss_data.extend([('a5',i, sm_nurse.loc[i, 'Race'] ) for i in range(len(sm_nurse))])\n",
    "sr_task = agreement.AnnotationTask(data=fleiss_data)\n",
    "print('Fleiss Kappa:',sr_task.multi_kappa())"
   ]
  },
  {
   "cell_type": "markdown",
   "metadata": {},
   "source": [
    "#### Gender"
   ]
  },
  {
   "cell_type": "code",
   "execution_count": 37,
   "metadata": {},
   "outputs": [
    {
     "name": "stdout",
     "output_type": "stream",
     "text": [
      "Kappa Scores Annotators:\n",
      "AD v MG: 0.6815286624203822\n",
      "AD v DB: 0.5860927152317881\n",
      "DB v MG 0.6044303797468354\n",
      "SC v MG 0.5528455284552846\n",
      "SC v DB 0.316546762589928\n",
      "SC v AD 0.4274809160305344\n",
      "SM v MG 0.48330683624801274\n",
      "SM v DB 0.5393634840871022\n",
      "SM v AD 0.5513866231647635\n",
      "SM v SC 0.3984962406015038\n"
     ]
    }
   ],
   "source": [
    "print('Kappa Scores Annotators:')\n",
    "print('AD v MG:', cohen_kappa_score(ad_nurse['Gender'], mg_nurse['Gender']))\n",
    "print('AD v DB:',cohen_kappa_score(ad_nurse['Gender'], db_nurse['Gender']))\n",
    "print('DB v MG',cohen_kappa_score(db_nurse['Gender'], mg_nurse['Gender']))\n",
    "print('SC v MG',cohen_kappa_score(sc_nurse['Gender'], mg_nurse['Gender']))\n",
    "print('SC v DB',cohen_kappa_score(sc_nurse['Gender'], db_nurse['Gender']))\n",
    "print('SC v AD',cohen_kappa_score(sc_nurse['Gender'], ad_nurse['Gender']))\n",
    "print('SM v MG',cohen_kappa_score(sm_nurse['Gender'], mg_nurse['Gender']))\n",
    "print('SM v DB',cohen_kappa_score(sm_nurse['Gender'], db_nurse['Gender']))\n",
    "print('SM v AD',cohen_kappa_score(sm_nurse['Gender'], ad_nurse['Gender']))\n",
    "print('SM v SC',cohen_kappa_score(sm_nurse['Gender'], sc_nurse['Gender']))"
   ]
  },
  {
   "cell_type": "code",
   "execution_count": 38,
   "metadata": {},
   "outputs": [
    {
     "name": "stdout",
     "output_type": "stream",
     "text": [
      "Kappa Scores Gold:\n",
      "MG 0.5980707395498392\n",
      "AD 0.6845425867507886\n",
      "DB 0.5356037151702787\n",
      "SC 0.5378151260504203\n",
      "SM 0.4113029827315541\n"
     ]
    }
   ],
   "source": [
    "print('Kappa Scores Gold:')\n",
    "print('MG',cohen_kappa_score(nurse_gold_df['Gender'], mg_nurse['Gender']))\n",
    "print('AD',cohen_kappa_score(nurse_gold_df['Gender'], ad_nurse['Gender']))\n",
    "print('DB',cohen_kappa_score(nurse_gold_df['Gender'], db_nurse['Gender']))\n",
    "print('SC',cohen_kappa_score(nurse_gold_df['Gender'], sc_nurse['Gender']))\n",
    "print('SM',cohen_kappa_score(nurse_gold_df['Gender'], sm_nurse['Gender']))"
   ]
  },
  {
   "cell_type": "code",
   "execution_count": 39,
   "metadata": {},
   "outputs": [
    {
     "name": "stdout",
     "output_type": "stream",
     "text": [
      "Accuracy Scores\n",
      "MG 0.8\n",
      "AD 0.84\n",
      "DB 0.76\n",
      "SC 0.78\n",
      "SM 0.7\n"
     ]
    }
   ],
   "source": [
    "print('Accuracy Scores')\n",
    "print('MG',accuracy_score(nurse_gold_df['Gender'], mg_nurse['Gender']))\n",
    "print('AD',accuracy_score(nurse_gold_df['Gender'], ad_nurse['Gender']))\n",
    "print('DB',accuracy_score(nurse_gold_df['Gender'], db_nurse['Gender']))\n",
    "print('SC',accuracy_score(nurse_gold_df['Gender'], sc_nurse['Gender']))\n",
    "print('SM',accuracy_score(nurse_gold_df['Gender'], sm_nurse['Gender']))"
   ]
  },
  {
   "cell_type": "code",
   "execution_count": 40,
   "metadata": {},
   "outputs": [
    {
     "name": "stdout",
     "output_type": "stream",
     "text": [
      "F1 minority class as positive\n",
      "MG 0.7826086956521738\n",
      "AD 0.84\n",
      "DB 0.7777777777777778\n",
      "SC 0.7027027027027029\n",
      "SM 0.7058823529411765\n"
     ]
    }
   ],
   "source": [
    "print('F1 minority class as positive')\n",
    "print('MG', f1_score(nurse_gold_df['Gender'], mg_nurse['Gender'], pos_label='Male'))\n",
    "print('AD', f1_score(nurse_gold_df['Gender'], ad_nurse['Gender'], pos_label='Male'))\n",
    "print('DB', f1_score(nurse_gold_df['Gender'], db_nurse['Gender'], pos_label='Male'))\n",
    "print('SC', f1_score(nurse_gold_df['Gender'], sc_nurse['Gender'], pos_label='Male'))\n",
    "print('SM', f1_score(nurse_gold_df['Gender'], sm_nurse['Gender'], pos_label='Male'))"
   ]
  },
  {
   "cell_type": "code",
   "execution_count": 41,
   "metadata": {},
   "outputs": [
    {
     "name": "stdout",
     "output_type": "stream",
     "text": [
      "Fleiss Kappa: 0.5105005526606663\n"
     ]
    }
   ],
   "source": [
    "fleiss_data = [('a1',i, mg_nurse.loc[i, 'Gender'] ) for i in range(len(mg_nurse))]\n",
    "fleiss_data.extend([('a2',i, ad_nurse.loc[i, 'Gender'] ) for i in range(len(ad_nurse))])\n",
    "fleiss_data.extend([('a3',i, db_nurse.loc[i, 'Gender'] ) for i in range(len(db_nurse))])\n",
    "fleiss_data.extend([('a4',i, sc_nurse.loc[i, 'Gender'] ) for i in range(len(sc_nurse))])\n",
    "fleiss_data.extend([('a5',i, sm_nurse.loc[i, 'Gender'] ) for i in range(len(sm_nurse))])\n",
    "sr_task = agreement.AnnotationTask(data=fleiss_data)\n",
    "print('Fleiss Kappa:',sr_task.multi_kappa())"
   ]
  },
  {
   "cell_type": "markdown",
   "metadata": {},
   "source": [
    "#### Insurance"
   ]
  },
  {
   "cell_type": "code",
   "execution_count": 42,
   "metadata": {},
   "outputs": [
    {
     "name": "stdout",
     "output_type": "stream",
     "text": [
      "Kappa Scores Annotators:\n",
      "AD v MG: 0.0\n",
      "AD v DB: 0.48453608247422675\n",
      "DB v MG 0.0\n",
      "SC v MG nan\n",
      "SC v DB 0.0\n",
      "SC v AD 0.0\n",
      "SM v MG 0.0\n",
      "SM v DB -0.0387811634349029\n",
      "SM v AD 0.02088772845953002\n",
      "SM v SC 0.0\n"
     ]
    },
    {
     "name": "stderr",
     "output_type": "stream",
     "text": [
      "/home/marco/miniconda3/envs/bwh_models/lib/python3.9/site-packages/sklearn/metrics/_classification.py:663: RuntimeWarning: invalid value encountered in true_divide\n",
      "  k = np.sum(w_mat * confusion) / np.sum(w_mat * expected)\n"
     ]
    }
   ],
   "source": [
    "print('Kappa Scores Annotators:')\n",
    "print('AD v MG:', cohen_kappa_score(ad_nurse['Insurance'], mg_nurse['Insurance']))\n",
    "print('AD v DB:',cohen_kappa_score(ad_nurse['Insurance'], db_nurse['Insurance']))\n",
    "print('DB v MG',cohen_kappa_score(db_nurse['Insurance'], mg_nurse['Insurance']))\n",
    "print('SC v MG',cohen_kappa_score(sc_nurse['Insurance'], mg_nurse['Insurance']))\n",
    "print('SC v DB',cohen_kappa_score(sc_nurse['Insurance'], db_nurse['Insurance']))\n",
    "print('SC v AD',cohen_kappa_score(sc_nurse['Insurance'], ad_nurse['Insurance']))\n",
    "print('SM v MG',cohen_kappa_score(sm_nurse['Insurance'], mg_nurse['Insurance']))\n",
    "print('SM v DB',cohen_kappa_score(sm_nurse['Insurance'], db_nurse['Insurance']))\n",
    "print('SM v AD',cohen_kappa_score(sm_nurse['Insurance'], ad_nurse['Insurance']))\n",
    "print('SM v SC',cohen_kappa_score(sm_nurse['Insurance'], sc_nurse['Insurance']))"
   ]
  },
  {
   "cell_type": "code",
   "execution_count": 43,
   "metadata": {},
   "outputs": [
    {
     "name": "stdout",
     "output_type": "stream",
     "text": [
      "Kappa Scores Gold:\n",
      "MG 0.0\n",
      "AD 0.34497816593886466\n",
      "DB 0.2227979274611399\n",
      "SC 0.0\n",
      "SM -0.1124121779859486\n"
     ]
    }
   ],
   "source": [
    "print('Kappa Scores Gold:')\n",
    "print('MG',cohen_kappa_score(nurse_gold_df['insurance'], mg_nurse['Insurance']))\n",
    "print('AD',cohen_kappa_score(nurse_gold_df['insurance'], ad_nurse['Insurance']))\n",
    "print('DB',cohen_kappa_score(nurse_gold_df['insurance'], db_nurse['Insurance']))\n",
    "print('SC',cohen_kappa_score(nurse_gold_df['insurance'], sc_nurse['Insurance']))\n",
    "print('SM',cohen_kappa_score(nurse_gold_df['insurance'], sm_nurse['Insurance']))"
   ]
  },
  {
   "cell_type": "code",
   "execution_count": 44,
   "metadata": {},
   "outputs": [
    {
     "name": "stdout",
     "output_type": "stream",
     "text": [
      "Accuracy Scores\n",
      "MG 0.86\n",
      "AD 0.88\n",
      "DB 0.88\n",
      "SC 0.86\n",
      "SM 0.62\n"
     ]
    }
   ],
   "source": [
    "print('Accuracy Scores')\n",
    "print('MG',accuracy_score(nurse_gold_df['insurance'], mg_nurse['Insurance']))\n",
    "print('AD',accuracy_score(nurse_gold_df['insurance'], ad_nurse['Insurance']))\n",
    "print('DB',accuracy_score(nurse_gold_df['insurance'], db_nurse['Insurance']))\n",
    "print('SC',accuracy_score(nurse_gold_df['insurance'], sc_nurse['Insurance']))\n",
    "print('SM',accuracy_score(nurse_gold_df['insurance'], sm_nurse['Insurance']))"
   ]
  },
  {
   "cell_type": "code",
   "execution_count": 45,
   "metadata": {},
   "outputs": [
    {
     "name": "stdout",
     "output_type": "stream",
     "text": [
      "F1 minority class as positive\n",
      "MG 0.0\n",
      "AD 0.4\n",
      "DB 0.25\n",
      "SC 0.0\n",
      "SM 0.09523809523809523\n"
     ]
    }
   ],
   "source": [
    "print('F1 minority class as positive')\n",
    "print('MG', f1_score(nurse_gold_df['insurance'], mg_nurse['Insurance'], pos_label='low'))\n",
    "print('AD', f1_score(nurse_gold_df['insurance'], ad_nurse['Insurance'], pos_label='low'))\n",
    "print('DB', f1_score(nurse_gold_df['insurance'], db_nurse['Insurance'], pos_label='low'))\n",
    "print('SC', f1_score(nurse_gold_df['insurance'], sc_nurse['Insurance'], pos_label='low'))\n",
    "print('SM', f1_score(nurse_gold_df['insurance'], sm_nurse['Insurance'], pos_label='low'))"
   ]
  },
  {
   "cell_type": "code",
   "execution_count": 46,
   "metadata": {},
   "outputs": [
    {
     "name": "stdout",
     "output_type": "stream",
     "text": [
      "Fleiss Kappa: 0.023549684089604117\n"
     ]
    }
   ],
   "source": [
    "fleiss_data = [('a1',i, mg_nurse.loc[i, 'Insurance'] ) for i in range(len(mg_nurse))]\n",
    "fleiss_data.extend([('a2',i, ad_nurse.loc[i, 'Insurance'] ) for i in range(len(ad_nurse))])\n",
    "fleiss_data.extend([('a3',i, db_nurse.loc[i, 'Insurance'] ) for i in range(len(db_nurse))])\n",
    "fleiss_data.extend([('a4',i, sc_nurse.loc[i, 'Insurance'] ) for i in range(len(sc_nurse))])\n",
    "fleiss_data.extend([('a5',i, sm_nurse.loc[i, 'Insurance'] ) for i in range(len(sm_nurse))])\n",
    "sr_task = agreement.AnnotationTask(data=fleiss_data)\n",
    "print('Fleiss Kappa:',sr_task.multi_kappa())"
   ]
  },
  {
   "cell_type": "markdown",
   "metadata": {},
   "source": [
    "## Physician"
   ]
  },
  {
   "cell_type": "markdown",
   "metadata": {},
   "source": [
    "#### Race"
   ]
  },
  {
   "cell_type": "code",
   "execution_count": 47,
   "metadata": {},
   "outputs": [
    {
     "name": "stdout",
     "output_type": "stream",
     "text": [
      "Kappa Scores Annotators:\n",
      "AD v MG: 0.5978552278820376\n",
      "AD v DB: 0.33734939759036153\n",
      "DB v MG 0.5070422535211268\n",
      "SC v MG 0.4339622641509434\n",
      "SC v DB 0.3076923076923077\n",
      "SC v AD 0.5652173913043479\n",
      "SM v MG 0.2723492723492723\n",
      "SM v DB 0.15841584158415833\n",
      "SM v AD 0.12280701754385959\n",
      "SM v SC 0.13978494623655924\n"
     ]
    }
   ],
   "source": [
    "print('Kappa Scores Annotators:')\n",
    "print('AD v MG:', cohen_kappa_score(ad_phys['Race'], mg_phys['Race']))\n",
    "print('AD v DB:',cohen_kappa_score(ad_phys['Race'], db_phys['Race']))\n",
    "print('DB v MG',cohen_kappa_score(db_phys['Race'], mg_phys['Race']))\n",
    "print('SC v MG',cohen_kappa_score(sc_phys['Race'], mg_phys['Race']))\n",
    "print('SC v DB',cohen_kappa_score(sc_phys['Race'], db_phys['Race']))\n",
    "print('SC v AD',cohen_kappa_score(sc_phys['Race'], ad_phys['Race']))\n",
    "print('SM v MG',cohen_kappa_score(sm_phys['Race'], mg_phys['Race']))\n",
    "print('SM v DB',cohen_kappa_score(sm_phys['Race'], db_phys['Race']))\n",
    "print('SM v AD',cohen_kappa_score(sm_phys['Race'], ad_phys['Race']))\n",
    "print('SM v SC',cohen_kappa_score(sm_phys['Race'], sc_phys['Race']))"
   ]
  },
  {
   "cell_type": "code",
   "execution_count": 48,
   "metadata": {},
   "outputs": [
    {
     "name": "stdout",
     "output_type": "stream",
     "text": [
      "Kappa Scores Gold:\n",
      "MG 0.42455242966751916\n",
      "AD 0.37923250564334077\n",
      "DB 0.41860465116279066\n",
      "SC 0.24657534246575352\n",
      "SM -0.007677543186180413\n"
     ]
    }
   ],
   "source": [
    "print('Kappa Scores Gold:')\n",
    "print('MG',cohen_kappa_score(phys_gold_df['Race_group'], mg_phys['Race']))\n",
    "print('AD',cohen_kappa_score(phys_gold_df['Race_group'], ad_phys['Race']))\n",
    "print('DB',cohen_kappa_score(phys_gold_df['Race_group'], db_phys['Race']))\n",
    "print('SC',cohen_kappa_score(phys_gold_df['Race_group'], sc_phys['Race']))\n",
    "print('SM',cohen_kappa_score(phys_gold_df['Race_group'], sm_phys['Race']))"
   ]
  },
  {
   "cell_type": "code",
   "execution_count": 49,
   "metadata": {},
   "outputs": [
    {
     "name": "stdout",
     "output_type": "stream",
     "text": [
      "Accuracy Scores\n",
      "MG 0.82\n",
      "AD 0.78\n",
      "DB 0.8\n",
      "SC 0.78\n",
      "SM 0.58\n"
     ]
    }
   ],
   "source": [
    "print('Accuracy Scores')\n",
    "print('MG',accuracy_score(phys_gold_df['Race_group'], mg_phys['Race']))\n",
    "print('AD',accuracy_score(phys_gold_df['Race_group'], ad_phys['Race']))\n",
    "print('DB',accuracy_score(phys_gold_df['Race_group'], db_phys['Race']))\n",
    "print('SC',accuracy_score(phys_gold_df['Race_group'], sc_phys['Race']))\n",
    "print('SM',accuracy_score(phys_gold_df['Race_group'], sm_phys['Race']))"
   ]
  },
  {
   "cell_type": "code",
   "execution_count": 50,
   "metadata": {},
   "outputs": [
    {
     "name": "stdout",
     "output_type": "stream",
     "text": [
      "F1 minority class as positive\n",
      "MG 0.5263157894736842\n",
      "AD 0.5217391304347826\n",
      "DB 0.5454545454545454\n",
      "SC 0.35294117647058826\n",
      "SM 0.27586206896551724\n"
     ]
    }
   ],
   "source": [
    "print('F1 minority class as positive')\n",
    "print('MG', f1_score(phys_gold_df['Race_group'], mg_phys['Race'], pos_label='NonWhite'))\n",
    "print('AD', f1_score(phys_gold_df['Race_group'], ad_phys['Race'], pos_label='NonWhite'))\n",
    "print('DB', f1_score(phys_gold_df['Race_group'], db_phys['Race'], pos_label='NonWhite'))\n",
    "print('SC', f1_score(phys_gold_df['Race_group'], sc_phys['Race'], pos_label='NonWhite'))\n",
    "print('SM', f1_score(phys_gold_df['Race_group'], sm_phys['Race'], pos_label='NonWhite'))"
   ]
  },
  {
   "cell_type": "code",
   "execution_count": 51,
   "metadata": {},
   "outputs": [
    {
     "name": "stdout",
     "output_type": "stream",
     "text": [
      "Fleiss Kappa: 0.31964374072241447\n"
     ]
    }
   ],
   "source": [
    "fleiss_data = [('a1',i, mg_phys.loc[i, 'Race'] ) for i in range(len(mg_phys))]\n",
    "fleiss_data.extend([('a2',i, ad_phys.loc[i, 'Race'] ) for i in range(len(ad_phys))])\n",
    "fleiss_data.extend([('a3',i, db_phys.loc[i, 'Race'] ) for i in range(len(db_phys))])\n",
    "fleiss_data.extend([('a4',i, sc_phys.loc[i, 'Race'] ) for i in range(len(sc_phys))])\n",
    "fleiss_data.extend([('a5',i, sm_phys.loc[i, 'Race'] ) for i in range(len(sm_phys))])\n",
    "sr_task = agreement.AnnotationTask(data=fleiss_data)\n",
    "print('Fleiss Kappa:',sr_task.multi_kappa())"
   ]
  },
  {
   "cell_type": "markdown",
   "metadata": {},
   "source": [
    "#### Gender"
   ]
  },
  {
   "cell_type": "code",
   "execution_count": 52,
   "metadata": {},
   "outputs": [
    {
     "name": "stdout",
     "output_type": "stream",
     "text": [
      "Kappa Scores Annotators:\n",
      "AD v MG: 0.9180327868852459\n",
      "AD v DB: 0.9586776859504132\n",
      "DB v MG 0.9592169657422512\n",
      "SC v MG 0.6218487394957983\n",
      "SC v DB 0.6581196581196581\n",
      "SC v AD 0.6956521739130435\n",
      "SM v MG 0.8360655737704918\n",
      "SM v DB 0.8760330578512396\n",
      "SM v AD 0.9166666666666666\n",
      "SM v SC 0.6956521739130435\n"
     ]
    }
   ],
   "source": [
    "print('Kappa Scores Annotators:')\n",
    "print('AD v MG:', cohen_kappa_score(ad_phys['Gender'], mg_phys['Gender']))\n",
    "print('AD v DB:',cohen_kappa_score(ad_phys['Gender'], db_phys['Gender']))\n",
    "print('DB v MG',cohen_kappa_score(db_phys['Gender'], mg_phys['Gender']))\n",
    "print('SC v MG',cohen_kappa_score(sc_phys['Gender'], mg_phys['Gender']))\n",
    "print('SC v DB',cohen_kappa_score(sc_phys['Gender'], db_phys['Gender']))\n",
    "print('SC v AD',cohen_kappa_score(sc_phys['Gender'], ad_phys['Gender']))\n",
    "print('SM v MG',cohen_kappa_score(sm_phys['Gender'], mg_phys['Gender']))\n",
    "print('SM v DB',cohen_kappa_score(sm_phys['Gender'], db_phys['Gender']))\n",
    "print('SM v AD',cohen_kappa_score(sm_phys['Gender'], ad_phys['Gender']))\n",
    "print('SM v SC',cohen_kappa_score(sm_phys['Gender'], sc_phys['Gender']))"
   ]
  },
  {
   "cell_type": "code",
   "execution_count": 53,
   "metadata": {},
   "outputs": [
    {
     "name": "stdout",
     "output_type": "stream",
     "text": [
      "Kappa Scores Gold:\n",
      "MG 0.9592169657422512\n",
      "AD 0.9586776859504132\n",
      "DB 0.9178981937602627\n",
      "SC 0.6581196581196581\n",
      "SM 0.8760330578512396\n"
     ]
    }
   ],
   "source": [
    "print('Kappa Scores Gold:')\n",
    "print('MG',cohen_kappa_score(phys_gold_df['Gender'], mg_phys['Gender']))\n",
    "print('AD',cohen_kappa_score(phys_gold_df['Gender'], ad_phys['Gender']))\n",
    "print('DB',cohen_kappa_score(phys_gold_df['Gender'], db_phys['Gender']))\n",
    "print('SC',cohen_kappa_score(phys_gold_df['Gender'], sc_phys['Gender']))\n",
    "print('SM',cohen_kappa_score(phys_gold_df['Gender'], sm_phys['Gender']))"
   ]
  },
  {
   "cell_type": "code",
   "execution_count": 54,
   "metadata": {},
   "outputs": [
    {
     "name": "stdout",
     "output_type": "stream",
     "text": [
      "Accuracy Scores\n",
      "MG 0.98\n",
      "AD 0.98\n",
      "DB 0.96\n",
      "SC 0.84\n",
      "SM 0.94\n"
     ]
    }
   ],
   "source": [
    "print('Accuracy Scores')\n",
    "print('MG',accuracy_score(phys_gold_df['Gender'], mg_phys['Gender']))\n",
    "print('AD',accuracy_score(phys_gold_df['Gender'], ad_phys['Gender']))\n",
    "print('DB',accuracy_score(phys_gold_df['Gender'], db_phys['Gender']))\n",
    "print('SC',accuracy_score(phys_gold_df['Gender'], sc_phys['Gender']))\n",
    "print('SM',accuracy_score(phys_gold_df['Gender'], sm_phys['Gender']))"
   ]
  },
  {
   "cell_type": "code",
   "execution_count": 55,
   "metadata": {},
   "outputs": [
    {
     "name": "stdout",
     "output_type": "stream",
     "text": [
      "F1 minority class as positive\n",
      "MG 0.9767441860465117\n",
      "AD 0.975609756097561\n",
      "DB 0.9523809523809523\n",
      "SC 0.7777777777777778\n",
      "SM 0.9268292682926829\n"
     ]
    }
   ],
   "source": [
    "print('F1 minority class as positive')\n",
    "print('MG', f1_score(phys_gold_df['Gender'], mg_phys['Gender'], pos_label='Male'))\n",
    "print('AD', f1_score(phys_gold_df['Gender'], ad_phys['Gender'], pos_label='Male'))\n",
    "print('DB', f1_score(phys_gold_df['Gender'], db_phys['Gender'], pos_label='Male'))\n",
    "print('SC', f1_score(phys_gold_df['Gender'], sc_phys['Gender'], pos_label='Male'))\n",
    "print('SM', f1_score(phys_gold_df['Gender'], sm_phys['Gender'], pos_label='Male'))"
   ]
  },
  {
   "cell_type": "code",
   "execution_count": 56,
   "metadata": {},
   "outputs": [
    {
     "name": "stdout",
     "output_type": "stream",
     "text": [
      "Fleiss Kappa: 0.8158379373848985\n"
     ]
    }
   ],
   "source": [
    "fleiss_data = [('a1',i, mg_phys.loc[i, 'Gender'] ) for i in range(len(mg_phys))]\n",
    "fleiss_data.extend([('a2',i, ad_phys.loc[i, 'Gender'] ) for i in range(len(ad_phys))])\n",
    "fleiss_data.extend([('a3',i, db_phys.loc[i, 'Gender'] ) for i in range(len(db_phys))])\n",
    "fleiss_data.extend([('a4',i, sc_phys.loc[i, 'Gender'] ) for i in range(len(sc_phys))])\n",
    "fleiss_data.extend([('a5',i, sm_phys.loc[i, 'Gender'] ) for i in range(len(sm_phys))])\n",
    "sr_task = agreement.AnnotationTask(data=fleiss_data)\n",
    "print('Fleiss Kappa:',sr_task.multi_kappa())"
   ]
  },
  {
   "cell_type": "markdown",
   "metadata": {},
   "source": [
    "#### Insurance"
   ]
  },
  {
   "cell_type": "code",
   "execution_count": 57,
   "metadata": {},
   "outputs": [
    {
     "name": "stdout",
     "output_type": "stream",
     "text": [
      "Kappa Scores Annotators:\n",
      "AD v MG: 0.0\n",
      "AD v DB: -0.050420168067226934\n",
      "DB v MG 0.0\n",
      "SC v MG nan\n",
      "SC v DB 0.0\n",
      "SC v AD 0.0\n",
      "SM v MG 0.0\n",
      "SM v DB 0.07975460122699385\n",
      "SM v AD -0.10619469026548689\n",
      "SM v SC 0.0\n"
     ]
    },
    {
     "name": "stderr",
     "output_type": "stream",
     "text": [
      "/home/marco/miniconda3/envs/bwh_models/lib/python3.9/site-packages/sklearn/metrics/_classification.py:663: RuntimeWarning: invalid value encountered in true_divide\n",
      "  k = np.sum(w_mat * confusion) / np.sum(w_mat * expected)\n"
     ]
    }
   ],
   "source": [
    "print('Kappa Scores Annotators:')\n",
    "print('AD v MG:', cohen_kappa_score(ad_phys['Insurance'], mg_phys['Insurance']))\n",
    "print('AD v DB:',cohen_kappa_score(ad_phys['Insurance'], db_phys['Insurance']))\n",
    "print('DB v MG',cohen_kappa_score(db_phys['Insurance'], mg_phys['Insurance']))\n",
    "print('SC v MG',cohen_kappa_score(sc_phys['Insurance'], mg_phys['Insurance']))\n",
    "print('SC v DB',cohen_kappa_score(sc_phys['Insurance'], db_phys['Insurance']))\n",
    "print('SC v AD',cohen_kappa_score(sc_phys['Insurance'], ad_phys['Insurance']))\n",
    "print('SM v MG',cohen_kappa_score(sm_phys['Insurance'], mg_phys['Insurance']))\n",
    "print('SM v DB',cohen_kappa_score(sm_phys['Insurance'], db_phys['Insurance']))\n",
    "print('SM v AD',cohen_kappa_score(sm_phys['Insurance'], ad_phys['Insurance']))\n",
    "print('SM v SC',cohen_kappa_score(sm_phys['Insurance'], sc_phys['Insurance']))"
   ]
  },
  {
   "cell_type": "code",
   "execution_count": 58,
   "metadata": {},
   "outputs": [
    {
     "name": "stdout",
     "output_type": "stream",
     "text": [
      "Kappa Scores Gold:\n",
      "MG 0.0\n",
      "AD 0.12177985948477743\n",
      "DB 0.04306220095693769\n",
      "SC 0.0\n",
      "SM 0.21259842519685046\n"
     ]
    }
   ],
   "source": [
    "print('Kappa Scores Gold:')\n",
    "print('MG',cohen_kappa_score(phys_gold_df['insurance'], mg_phys['Insurance']))\n",
    "print('AD',cohen_kappa_score(phys_gold_df['insurance'], ad_phys['Insurance']))\n",
    "print('DB',cohen_kappa_score(phys_gold_df['insurance'], db_phys['Insurance']))\n",
    "print('SC',cohen_kappa_score(phys_gold_df['insurance'], sc_phys['Insurance']))\n",
    "print('SM',cohen_kappa_score(phys_gold_df['insurance'], sm_phys['Insurance']))"
   ]
  },
  {
   "cell_type": "code",
   "execution_count": 59,
   "metadata": {},
   "outputs": [
    {
     "name": "stdout",
     "output_type": "stream",
     "text": [
      "Accuracy Scores\n",
      "MG 0.68\n",
      "AD 0.7\n",
      "DB 0.68\n",
      "SC 0.68\n",
      "SM 0.68\n"
     ]
    }
   ],
   "source": [
    "print('Accuracy Scores')\n",
    "print('MG',accuracy_score(phys_gold_df['insurance'], mg_phys['Insurance']))\n",
    "print('AD',accuracy_score(phys_gold_df['insurance'], ad_phys['Insurance']))\n",
    "print('DB',accuracy_score(phys_gold_df['insurance'], db_phys['Insurance']))\n",
    "print('SC',accuracy_score(phys_gold_df['insurance'], sc_phys['Insurance']))\n",
    "print('SM',accuracy_score(phys_gold_df['insurance'], sm_phys['Insurance']))"
   ]
  },
  {
   "cell_type": "code",
   "execution_count": 60,
   "metadata": {},
   "outputs": [
    {
     "name": "stdout",
     "output_type": "stream",
     "text": [
      "F1 minority class as positive\n",
      "MG 0.0\n",
      "AD 0.21052631578947367\n",
      "DB 0.1111111111111111\n",
      "SC 0.0\n",
      "SM 0.42857142857142855\n"
     ]
    }
   ],
   "source": [
    "print('F1 minority class as positive')\n",
    "print('MG', f1_score(phys_gold_df['insurance'], mg_phys['Insurance'], pos_label='low'))\n",
    "print('AD', f1_score(phys_gold_df['insurance'], ad_phys['Insurance'], pos_label='low'))\n",
    "print('DB', f1_score(phys_gold_df['insurance'], db_phys['Insurance'], pos_label='low'))\n",
    "print('SC', f1_score(phys_gold_df['insurance'], sc_phys['Insurance'], pos_label='low'))\n",
    "print('SM', f1_score(phys_gold_df['insurance'], sm_phys['Insurance'], pos_label='low'))"
   ]
  },
  {
   "cell_type": "code",
   "execution_count": 61,
   "metadata": {},
   "outputs": [
    {
     "name": "stdout",
     "output_type": "stream",
     "text": [
      "Fleiss Kappa: -0.009791921664627137\n"
     ]
    }
   ],
   "source": [
    "fleiss_data = [('a1',i, mg_phys.loc[i, 'Insurance'] ) for i in range(len(mg_phys))]\n",
    "fleiss_data.extend([('a2',i, ad_phys.loc[i, 'Insurance'] ) for i in range(len(ad_phys))])\n",
    "fleiss_data.extend([('a3',i, db_phys.loc[i, 'Insurance'] ) for i in range(len(db_phys))])\n",
    "fleiss_data.extend([('a4',i, sc_phys.loc[i, 'Insurance'] ) for i in range(len(sc_phys))])\n",
    "fleiss_data.extend([('a5',i, sm_phys.loc[i, 'Insurance'] ) for i in range(len(sm_phys))])\n",
    "sr_task = agreement.AnnotationTask(data=fleiss_data)\n",
    "print('Fleiss Kappa:',sr_task.multi_kappa())"
   ]
  },
  {
   "cell_type": "markdown",
   "metadata": {},
   "source": [
    "## Overall"
   ]
  },
  {
   "cell_type": "code",
   "execution_count": 62,
   "metadata": {},
   "outputs": [],
   "source": [
    "mg_combined = pd.concat([mg_social, mg_nurse, mg_phys])\n",
    "ad_combined = pd.concat([ad_social, ad_nurse, ad_phys])\n",
    "db_combined = pd.concat([db_social, db_nurse, db_phys])\n",
    "sc_combined = pd.concat([sc_social, sc_nurse, sc_phys])\n",
    "sm_combined = pd.concat([sm_social, sm_nurse, sm_phys])"
   ]
  },
  {
   "cell_type": "code",
   "execution_count": 63,
   "metadata": {},
   "outputs": [],
   "source": [
    "combined_gold_df = pd.concat([social_gold_df, nurse_gold_df, phys_gold_df])"
   ]
  },
  {
   "cell_type": "code",
   "execution_count": 64,
   "metadata": {},
   "outputs": [],
   "source": [
    "mg_combined.reset_index(inplace=True, drop=True)\n",
    "ad_combined.reset_index(inplace=True, drop=True)\n",
    "db_combined.reset_index(inplace=True, drop=True)\n",
    "sc_combined.reset_index(inplace=True, drop=True)\n",
    "sm_combined.reset_index(inplace=True, drop=True)\n",
    "combined_gold_df.reset_index(inplace=True, drop=True)"
   ]
  },
  {
   "cell_type": "markdown",
   "metadata": {},
   "source": [
    "#### Race"
   ]
  },
  {
   "cell_type": "code",
   "execution_count": 65,
   "metadata": {},
   "outputs": [
    {
     "name": "stdout",
     "output_type": "stream",
     "text": [
      "Kappa Scores Annotators:\n",
      "AD v MG: 0.6463376296762025\n",
      "AD v DB: 0.5608899297423888\n",
      "DB v MG 0.5520276642565232\n",
      "SC v MG 0.3918171765573166\n",
      "SC v DB 0.27330437687938525\n",
      "SC v AD 0.47377213498162374\n",
      "SM v MG 0.2804847260792729\n",
      "SM v DB 0.18102402329531675\n",
      "SM v AD 0.18102402329531675\n",
      "SM v SC 0.1390555700495696\n"
     ]
    }
   ],
   "source": [
    "print('Kappa Scores Annotators:')\n",
    "print('AD v MG:', cohen_kappa_score(ad_combined['Race'], mg_combined['Race']))\n",
    "print('AD v DB:',cohen_kappa_score(ad_combined['Race'], db_combined['Race']))\n",
    "print('DB v MG',cohen_kappa_score(db_combined['Race'], mg_combined['Race']))\n",
    "print('SC v MG',cohen_kappa_score(sc_combined['Race'], mg_combined['Race']))\n",
    "print('SC v DB',cohen_kappa_score(sc_combined['Race'], db_combined['Race']))\n",
    "print('SC v AD',cohen_kappa_score(sc_combined['Race'], ad_combined['Race']))\n",
    "print('SM v MG',cohen_kappa_score(sm_combined['Race'], mg_combined['Race']))\n",
    "print('SM v DB',cohen_kappa_score(sm_combined['Race'], db_combined['Race']))\n",
    "print('SM v AD',cohen_kappa_score(sm_combined['Race'], ad_combined['Race']))\n",
    "print('SM v SC',cohen_kappa_score(sm_combined['Race'], sc_combined['Race']))"
   ]
  },
  {
   "cell_type": "code",
   "execution_count": 66,
   "metadata": {},
   "outputs": [
    {
     "name": "stdout",
     "output_type": "stream",
     "text": [
      "Kappa Scores Gold:\n",
      "MG 0.3833927103315977\n",
      "AD 0.39437353477468096\n",
      "DB 0.39437353477468096\n",
      "SC 0.14212181870174434\n",
      "SM 0.2175096393740077\n"
     ]
    }
   ],
   "source": [
    "print('Kappa Scores Gold:')\n",
    "print('MG',cohen_kappa_score(combined_gold_df['Race_group'], mg_combined['Race']))\n",
    "print('AD',cohen_kappa_score(combined_gold_df['Race_group'], ad_combined['Race']))\n",
    "print('DB',cohen_kappa_score(combined_gold_df['Race_group'], db_combined['Race']))\n",
    "print('SC',cohen_kappa_score(combined_gold_df['Race_group'], sc_combined['Race']))\n",
    "print('SM',cohen_kappa_score(combined_gold_df['Race_group'], sm_combined['Race']))"
   ]
  },
  {
   "cell_type": "code",
   "execution_count": 67,
   "metadata": {},
   "outputs": [
    {
     "name": "stdout",
     "output_type": "stream",
     "text": [
      "Accuracy Scores\n",
      "MG 0.8\n",
      "AD 0.7933333333333333\n",
      "DB 0.7933333333333333\n",
      "SC 0.7333333333333333\n",
      "SM 0.6933333333333334\n"
     ]
    }
   ],
   "source": [
    "print('Accuracy Scores')\n",
    "print('MG',accuracy_score(combined_gold_df['Race_group'], mg_combined['Race']))\n",
    "print('AD',accuracy_score(combined_gold_df['Race_group'], ad_combined['Race']))\n",
    "print('DB',accuracy_score(combined_gold_df['Race_group'], db_combined['Race']))\n",
    "print('SC',accuracy_score(combined_gold_df['Race_group'], sc_combined['Race']))\n",
    "print('SM',accuracy_score(combined_gold_df['Race_group'], sm_combined['Race']))"
   ]
  },
  {
   "cell_type": "code",
   "execution_count": 68,
   "metadata": {},
   "outputs": [
    {
     "name": "stdout",
     "output_type": "stream",
     "text": [
      "F1 minority class as positive\n",
      "MG 0.5\n",
      "AD 0.5230769230769231\n",
      "DB 0.5230769230769231\n",
      "SC 0.28571428571428575\n",
      "SM 0.425\n"
     ]
    }
   ],
   "source": [
    "print('F1 minority class as positive')\n",
    "print('MG', f1_score(combined_gold_df['Race_group'], mg_combined['Race'], pos_label='NonWhite'))\n",
    "print('AD', f1_score(combined_gold_df['Race_group'], ad_combined['Race'], pos_label='NonWhite'))\n",
    "print('DB', f1_score(combined_gold_df['Race_group'], db_combined['Race'], pos_label='NonWhite'))\n",
    "print('SC', f1_score(combined_gold_df['Race_group'], sc_combined['Race'], pos_label='NonWhite'))\n",
    "print('SM', f1_score(combined_gold_df['Race_group'], sm_combined['Race'], pos_label='NonWhite'))"
   ]
  },
  {
   "cell_type": "code",
   "execution_count": 69,
   "metadata": {},
   "outputs": [
    {
     "name": "stdout",
     "output_type": "stream",
     "text": [
      "Fleiss Kappa: 0.3524179294758498\n"
     ]
    }
   ],
   "source": [
    "fleiss_data = [('a1',i, mg_combined.loc[i, 'Race'] ) for i in range(len(mg_combined))]\n",
    "fleiss_data.extend([('a2',i, ad_combined.loc[i, 'Race'] ) for i in range(len(ad_combined))])\n",
    "fleiss_data.extend([('a3',i, db_combined.loc[i, 'Race'] ) for i in range(len(db_combined))])\n",
    "fleiss_data.extend([('a4',i, sc_combined.loc[i, 'Race'] ) for i in range(len(sc_combined))])\n",
    "fleiss_data.extend([('a5',i, sm_combined.loc[i, 'Race'] ) for i in range(len(sm_combined))])\n",
    "sr_task = agreement.AnnotationTask(data=fleiss_data)\n",
    "print('Fleiss Kappa:',sr_task.multi_kappa())"
   ]
  },
  {
   "cell_type": "markdown",
   "metadata": {},
   "source": [
    "#### Gender"
   ]
  },
  {
   "cell_type": "code",
   "execution_count": 70,
   "metadata": {},
   "outputs": [
    {
     "name": "stdout",
     "output_type": "stream",
     "text": [
      "Kappa Scores Annotators:\n",
      "AD v MG: 0.826296098343132\n",
      "AD v DB: 0.8002131060202451\n",
      "DB v MG 0.8402272323806143\n",
      "SC v MG 0.5924651331280565\n",
      "SC v DB 0.5243966883917561\n",
      "SC v AD 0.5808545159545699\n",
      "SM v MG 0.6523444464253878\n",
      "SM v DB 0.7070832593644594\n",
      "SM v AD 0.6926777124532335\n",
      "SM v SC 0.5109581597536678\n"
     ]
    }
   ],
   "source": [
    "print('Kappa Scores Annotators:')\n",
    "print('AD v MG:', cohen_kappa_score(ad_combined['Gender'], mg_combined['Gender']))\n",
    "print('AD v DB:',cohen_kappa_score(ad_combined['Gender'], db_combined['Gender']))\n",
    "print('DB v MG',cohen_kappa_score(db_combined['Gender'], mg_combined['Gender']))\n",
    "print('SC v MG',cohen_kappa_score(sc_combined['Gender'], mg_combined['Gender']))\n",
    "print('SC v DB',cohen_kappa_score(sc_combined['Gender'], db_combined['Gender']))\n",
    "print('SC v AD',cohen_kappa_score(sc_combined['Gender'], ad_combined['Gender']))\n",
    "print('SM v MG',cohen_kappa_score(sm_combined['Gender'], mg_combined['Gender']))\n",
    "print('SM v DB',cohen_kappa_score(sm_combined['Gender'], db_combined['Gender']))\n",
    "print('SM v AD',cohen_kappa_score(sm_combined['Gender'], ad_combined['Gender']))\n",
    "print('SM v SC',cohen_kappa_score(sm_combined['Gender'], sc_combined['Gender']))"
   ]
  },
  {
   "cell_type": "code",
   "execution_count": 71,
   "metadata": {},
   "outputs": [
    {
     "name": "stdout",
     "output_type": "stream",
     "text": [
      "Kappa Scores Gold:\n",
      "MG 0.8255501878690285\n",
      "AD 0.8392282958199357\n",
      "DB 0.8006379585326954\n",
      "SC 0.6243739565943238\n",
      "SM 0.6376811594202898\n"
     ]
    }
   ],
   "source": [
    "print('Kappa Scores Gold:')\n",
    "print('MG',cohen_kappa_score(combined_gold_df['Gender'], mg_combined['Gender']))\n",
    "print('AD',cohen_kappa_score(combined_gold_df['Gender'], ad_combined['Gender']))\n",
    "print('DB',cohen_kappa_score(combined_gold_df['Gender'], db_combined['Gender']))\n",
    "print('SC',cohen_kappa_score(combined_gold_df['Gender'], sc_combined['Gender']))\n",
    "print('SM',cohen_kappa_score(combined_gold_df['Gender'], sm_combined['Gender']))"
   ]
  },
  {
   "cell_type": "code",
   "execution_count": 72,
   "metadata": {},
   "outputs": [
    {
     "name": "stdout",
     "output_type": "stream",
     "text": [
      "Accuracy Scores\n",
      "MG 0.9133333333333333\n",
      "AD 0.92\n",
      "DB 0.9\n",
      "SC 0.82\n",
      "SM 0.82\n"
     ]
    }
   ],
   "source": [
    "print('Accuracy Scores')\n",
    "print('MG',accuracy_score(combined_gold_df['Gender'], mg_combined['Gender']))\n",
    "print('AD',accuracy_score(combined_gold_df['Gender'], ad_combined['Gender']))\n",
    "print('DB',accuracy_score(combined_gold_df['Gender'], db_combined['Gender']))\n",
    "print('SC',accuracy_score(combined_gold_df['Gender'], sc_combined['Gender']))\n",
    "print('SM',accuracy_score(combined_gold_df['Gender'], sm_combined['Gender']))"
   ]
  },
  {
   "cell_type": "code",
   "execution_count": 73,
   "metadata": {},
   "outputs": [
    {
     "name": "stdout",
     "output_type": "stream",
     "text": [
      "F1 minority class as positive\n",
      "MG 0.9051094890510948\n",
      "AD 0.9130434782608695\n",
      "DB 0.8951048951048951\n",
      "SC 0.7652173913043478\n",
      "SM 0.8029197080291971\n"
     ]
    }
   ],
   "source": [
    "print('F1 minority class as positive')\n",
    "print('MG', f1_score(combined_gold_df['Gender'], mg_combined['Gender'], pos_label='Male'))\n",
    "print('AD', f1_score(combined_gold_df['Gender'], ad_combined['Gender'], pos_label='Male'))\n",
    "print('DB', f1_score(combined_gold_df['Gender'], db_combined['Gender'], pos_label='Male'))\n",
    "print('SC', f1_score(combined_gold_df['Gender'], sc_combined['Gender'], pos_label='Male'))\n",
    "print('SM', f1_score(combined_gold_df['Gender'], sm_combined['Gender'], pos_label='Male'))"
   ]
  },
  {
   "cell_type": "code",
   "execution_count": 74,
   "metadata": {},
   "outputs": [
    {
     "name": "stdout",
     "output_type": "stream",
     "text": [
      "Fleiss Kappa: 0.6732026143790848\n"
     ]
    }
   ],
   "source": [
    "fleiss_data = [('a1',i, mg_combined.loc[i, 'Gender'] ) for i in range(len(mg_combined))]\n",
    "fleiss_data.extend([('a2',i, ad_combined.loc[i, 'Gender'] ) for i in range(len(ad_combined))])\n",
    "fleiss_data.extend([('a3',i, db_combined.loc[i, 'Gender'] ) for i in range(len(db_combined))])\n",
    "fleiss_data.extend([('a4',i, sc_combined.loc[i, 'Gender'] ) for i in range(len(sc_combined))])\n",
    "fleiss_data.extend([('a5',i, sm_combined.loc[i, 'Gender'] ) for i in range(len(sm_combined))])\n",
    "sr_task = agreement.AnnotationTask(data=fleiss_data)\n",
    "print('Fleiss Kappa:',sr_task.multi_kappa())"
   ]
  },
  {
   "cell_type": "markdown",
   "metadata": {},
   "source": [
    "#### Insurance"
   ]
  },
  {
   "cell_type": "code",
   "execution_count": 75,
   "metadata": {},
   "outputs": [
    {
     "name": "stdout",
     "output_type": "stream",
     "text": [
      "Kappa Scores Annotators:\n",
      "AD v MG: 0.5523602821486706\n",
      "AD v DB: 0.5523602821486706\n",
      "DB v MG 0.5788882650196518\n",
      "SC v MG 0.0\n",
      "SC v DB 0.0\n",
      "SC v AD 0.0\n",
      "SM v MG 0.08366533864541836\n",
      "SM v DB 0.043824701195219196\n",
      "SM v AD 0.07114624505928846\n",
      "SM v SC 0.0\n"
     ]
    }
   ],
   "source": [
    "print('Kappa Scores Annotators:')\n",
    "print('AD v MG:', cohen_kappa_score(ad_combined['Insurance'], mg_combined['Insurance']))\n",
    "print('AD v DB:',cohen_kappa_score(ad_combined['Insurance'], db_combined['Insurance']))\n",
    "print('DB v MG',cohen_kappa_score(db_combined['Insurance'], mg_combined['Insurance']))\n",
    "print('SC v MG',cohen_kappa_score(sc_combined['Insurance'], mg_combined['Insurance']))\n",
    "print('SC v DB',cohen_kappa_score(sc_combined['Insurance'], db_combined['Insurance']))\n",
    "print('SC v AD',cohen_kappa_score(sc_combined['Insurance'], ad_combined['Insurance']))\n",
    "print('SM v MG',cohen_kappa_score(sm_combined['Insurance'], mg_combined['Insurance']))\n",
    "print('SM v DB',cohen_kappa_score(sm_combined['Insurance'], db_combined['Insurance']))\n",
    "print('SM v AD',cohen_kappa_score(sm_combined['Insurance'], ad_combined['Insurance']))\n",
    "print('SM v SC',cohen_kappa_score(sm_combined['Insurance'], sc_combined['Insurance']))"
   ]
  },
  {
   "cell_type": "code",
   "execution_count": 76,
   "metadata": {},
   "outputs": [
    {
     "name": "stdout",
     "output_type": "stream",
     "text": [
      "Kappa Scores Gold:\n",
      "MG 0.12188531972380656\n",
      "AD 0.2874109263657957\n",
      "DB 0.256979885920144\n",
      "SC 0.0\n",
      "SM 0.019933554817275767\n"
     ]
    }
   ],
   "source": [
    "print('Kappa Scores Gold:')\n",
    "print('MG',cohen_kappa_score(combined_gold_df['insurance'], mg_combined['Insurance']))\n",
    "print('AD',cohen_kappa_score(combined_gold_df['insurance'], ad_combined['Insurance']))\n",
    "print('DB',cohen_kappa_score(combined_gold_df['insurance'], db_combined['Insurance']))\n",
    "print('SC',cohen_kappa_score(combined_gold_df['insurance'], sc_combined['Insurance']))\n",
    "print('SM',cohen_kappa_score(combined_gold_df['insurance'], sm_combined['Insurance']))"
   ]
  },
  {
   "cell_type": "code",
   "execution_count": 77,
   "metadata": {},
   "outputs": [
    {
     "name": "stdout",
     "output_type": "stream",
     "text": [
      "Accuracy Scores\n",
      "MG 0.74\n",
      "AD 0.7866666666666666\n",
      "DB 0.78\n",
      "SC 0.7466666666666667\n",
      "SM 0.6066666666666667\n"
     ]
    }
   ],
   "source": [
    "print('Accuracy Scores')\n",
    "print('MG',accuracy_score(combined_gold_df['insurance'], mg_combined['Insurance']))\n",
    "print('AD',accuracy_score(combined_gold_df['insurance'], ad_combined['Insurance']))\n",
    "print('DB',accuracy_score(combined_gold_df['insurance'], db_combined['Insurance']))\n",
    "print('SC',accuracy_score(combined_gold_df['insurance'], sc_combined['Insurance']))\n",
    "print('SM',accuracy_score(combined_gold_df['insurance'], sm_combined['Insurance']))"
   ]
  },
  {
   "cell_type": "code",
   "execution_count": 78,
   "metadata": {},
   "outputs": [
    {
     "name": "stdout",
     "output_type": "stream",
     "text": [
      "F1 minority class as positive\n",
      "MG 0.23529411764705882\n",
      "AD 0.3846153846153846\n",
      "DB 0.35294117647058826\n",
      "SC 0.0\n",
      "SM 0.2891566265060241\n"
     ]
    }
   ],
   "source": [
    "print('F1 minority class as positive')\n",
    "print('MG', f1_score(combined_gold_df['insurance'], mg_combined['Insurance'], pos_label='low'))\n",
    "print('AD', f1_score(combined_gold_df['insurance'], ad_combined['Insurance'], pos_label='low'))\n",
    "print('DB', f1_score(combined_gold_df['insurance'], db_combined['Insurance'], pos_label='low'))\n",
    "print('SC', f1_score(combined_gold_df['insurance'], sc_combined['Insurance'], pos_label='low'))\n",
    "print('SM', f1_score(combined_gold_df['insurance'], sm_combined['Insurance'], pos_label='low'))"
   ]
  },
  {
   "cell_type": "code",
   "execution_count": 79,
   "metadata": {},
   "outputs": [
    {
     "name": "stdout",
     "output_type": "stream",
     "text": [
      "Fleiss Kappa: 0.16476021927742046\n"
     ]
    }
   ],
   "source": [
    "fleiss_data = [('a1',i, mg_combined.loc[i, 'Insurance'] ) for i in range(len(mg_combined))]\n",
    "fleiss_data.extend([('a2',i, ad_combined.loc[i, 'Insurance'] ) for i in range(len(ad_combined))])\n",
    "fleiss_data.extend([('a3',i, db_combined.loc[i, 'Insurance'] ) for i in range(len(db_combined))])\n",
    "fleiss_data.extend([('a4',i, sc_combined.loc[i, 'Insurance'] ) for i in range(len(sc_combined))])\n",
    "fleiss_data.extend([('a5',i, sm_combined.loc[i, 'Insurance'] ) for i in range(len(sm_combined))])\n",
    "sr_task = agreement.AnnotationTask(data=fleiss_data)\n",
    "print('Fleiss Kappa:',sr_task.multi_kappa())"
   ]
  },
  {
   "cell_type": "code",
   "execution_count": null,
   "metadata": {},
   "outputs": [],
   "source": []
  }
 ],
 "metadata": {
  "kernelspec": {
   "display_name": "Python 3.9.12 ('bwh_models')",
   "language": "python",
   "name": "python3"
  },
  "language_info": {
   "codemirror_mode": {
    "name": "ipython",
    "version": 3
   },
   "file_extension": ".py",
   "mimetype": "text/x-python",
   "name": "python",
   "nbconvert_exporter": "python",
   "pygments_lexer": "ipython3",
   "version": "3.9.12"
  },
  "orig_nbformat": 4,
  "vscode": {
   "interpreter": {
    "hash": "4cecbb4f920620a47086766536aae98e9ea51382939cad50f6a3a7ce1bf96b55"
   }
  }
 },
 "nbformat": 4,
 "nbformat_minor": 2
}
